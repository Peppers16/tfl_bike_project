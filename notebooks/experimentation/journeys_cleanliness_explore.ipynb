{
 "cells": [
  {
   "cell_type": "markdown",
   "metadata": {},
   "source": [
    "# Initial Exploration and Cleansing of cycleJourneys\n",
    "\n",
    "This is for the initial exploration of the cycleJourneys dataset, primarily focusing on data integrity, and the best approaches to data-cleaning. \n",
    "\n",
    "This notebook is experimental and exploratory in nature. _The implemented fixes_ are in `clean_combined_cycle_data.py`"
   ]
  },
  {
   "cell_type": "code",
   "execution_count": 7,
   "metadata": {},
   "outputs": [],
   "source": [
    "import pandas as pd\n",
    "import random\n",
    "import networkx as nx\n",
    "from matplotlib import pyplot as plt\n",
    "import numpy as np\n",
    "import seaborn as sns\n",
    "from pathlib import Path\n",
    "from os import getcwd, chdir"
   ]
  },
  {
   "cell_type": "code",
   "execution_count": 8,
   "metadata": {},
   "outputs": [],
   "source": [
    "# work from the project root\n",
    "if getcwd()[-9:] == 'notebooks':\n",
    "    chdir(\"..\")"
   ]
  },
  {
   "cell_type": "code",
   "execution_count": 10,
   "metadata": {},
   "outputs": [],
   "source": [
    "journeys_path = Path('tfl_project/data/cycle_journeys/JourneysDataCombined.csv')\n",
    "stations_path = Path('tfl_project/data/cycle_journeys/Station Lookup.csv')"
   ]
  },
  {
   "cell_type": "markdown",
   "metadata": {},
   "source": [
    "---\n",
    "# Dates and Durations"
   ]
  },
  {
   "cell_type": "markdown",
   "metadata": {},
   "source": [
    "## Sample Journeys and Inspect"
   ]
  },
  {
   "cell_type": "code",
   "execution_count": 48,
   "metadata": {},
   "outputs": [],
   "source": [
    "# We will sample just 5% of journeys, using skiprows\n",
    "p = 0.01 \n",
    "random.seed(16)\n",
    "\n",
    "df_samp = pd.read_csv(\n",
    "        journeys_path\n",
    "        ,header=0\n",
    "        ,sep=','\n",
    "        ,skiprows=lambda i: i>0 and random.random() > p\n",
    "        ,parse_dates=['Start Date', 'End Date']\n",
    "        ,infer_datetime_format=True\n",
    "        ,dayfirst=True\n",
    ")"
   ]
  },
  {
   "cell_type": "code",
   "execution_count": 49,
   "metadata": {},
   "outputs": [
    {
     "data": {
      "text/html": [
       "<div>\n",
       "<style scoped>\n",
       "    .dataframe tbody tr th:only-of-type {\n",
       "        vertical-align: middle;\n",
       "    }\n",
       "\n",
       "    .dataframe tbody tr th {\n",
       "        vertical-align: top;\n",
       "    }\n",
       "\n",
       "    .dataframe thead th {\n",
       "        text-align: right;\n",
       "    }\n",
       "</style>\n",
       "<table border=\"1\" class=\"dataframe\">\n",
       "  <thead>\n",
       "    <tr style=\"text-align: right;\">\n",
       "      <th></th>\n",
       "      <th>Rental Id</th>\n",
       "      <th>Duration</th>\n",
       "      <th>Bike Id</th>\n",
       "      <th>End Date</th>\n",
       "      <th>EndStation Id</th>\n",
       "      <th>Start Date</th>\n",
       "      <th>StartStation Id</th>\n",
       "    </tr>\n",
       "  </thead>\n",
       "  <tbody>\n",
       "    <tr>\n",
       "      <th>0</th>\n",
       "      <td>50754299.0</td>\n",
       "      <td>1320.0</td>\n",
       "      <td>3118.0</td>\n",
       "      <td>2016-01-10 00:50:00</td>\n",
       "      <td>686.0</td>\n",
       "      <td>2016-01-10 00:28:00</td>\n",
       "      <td>166.0</td>\n",
       "    </tr>\n",
       "    <tr>\n",
       "      <th>1</th>\n",
       "      <td>50754531.0</td>\n",
       "      <td>4860.0</td>\n",
       "      <td>11001.0</td>\n",
       "      <td>2016-01-10 02:56:00</td>\n",
       "      <td>481.0</td>\n",
       "      <td>2016-01-10 01:35:00</td>\n",
       "      <td>654.0</td>\n",
       "    </tr>\n",
       "    <tr>\n",
       "      <th>2</th>\n",
       "      <td>50754559.0</td>\n",
       "      <td>300.0</td>\n",
       "      <td>397.0</td>\n",
       "      <td>2016-01-10 01:45:00</td>\n",
       "      <td>192.0</td>\n",
       "      <td>2016-01-10 01:40:00</td>\n",
       "      <td>244.0</td>\n",
       "    </tr>\n",
       "    <tr>\n",
       "      <th>3</th>\n",
       "      <td>50754568.0</td>\n",
       "      <td>300.0</td>\n",
       "      <td>8480.0</td>\n",
       "      <td>2016-01-10 01:50:00</td>\n",
       "      <td>197.0</td>\n",
       "      <td>2016-01-10 01:45:00</td>\n",
       "      <td>230.0</td>\n",
       "    </tr>\n",
       "    <tr>\n",
       "      <th>4</th>\n",
       "      <td>50754625.0</td>\n",
       "      <td>840.0</td>\n",
       "      <td>863.0</td>\n",
       "      <td>2016-01-10 02:20:00</td>\n",
       "      <td>664.0</td>\n",
       "      <td>2016-01-10 02:06:00</td>\n",
       "      <td>738.0</td>\n",
       "    </tr>\n",
       "  </tbody>\n",
       "</table>\n",
       "</div>"
      ],
      "text/plain": [
       "    Rental Id  Duration  Bike Id            End Date  EndStation Id  \\\n",
       "0  50754299.0    1320.0   3118.0 2016-01-10 00:50:00          686.0   \n",
       "1  50754531.0    4860.0  11001.0 2016-01-10 02:56:00          481.0   \n",
       "2  50754559.0     300.0    397.0 2016-01-10 01:45:00          192.0   \n",
       "3  50754568.0     300.0   8480.0 2016-01-10 01:50:00          197.0   \n",
       "4  50754625.0     840.0    863.0 2016-01-10 02:20:00          664.0   \n",
       "\n",
       "           Start Date  StartStation Id  \n",
       "0 2016-01-10 00:28:00            166.0  \n",
       "1 2016-01-10 01:35:00            654.0  \n",
       "2 2016-01-10 01:40:00            244.0  \n",
       "3 2016-01-10 01:45:00            230.0  \n",
       "4 2016-01-10 02:06:00            738.0  "
      ]
     },
     "execution_count": 49,
     "metadata": {},
     "output_type": "execute_result"
    }
   ],
   "source": [
    "df_samp.head()"
   ]
  },
  {
   "cell_type": "code",
   "execution_count": 50,
   "metadata": {},
   "outputs": [
    {
     "name": "stdout",
     "output_type": "stream",
     "text": [
      "<class 'pandas.core.frame.DataFrame'>\n",
      "RangeIndex: 824980 entries, 0 to 824979\n",
      "Data columns (total 7 columns):\n",
      " #   Column           Non-Null Count   Dtype         \n",
      "---  ------           --------------   -----         \n",
      " 0   Rental Id        812558 non-null  float64       \n",
      " 1   Duration         810882 non-null  float64       \n",
      " 2   Bike Id          812555 non-null  float64       \n",
      " 3   End Date         810882 non-null  datetime64[ns]\n",
      " 4   EndStation Id    810710 non-null  float64       \n",
      " 5   Start Date       812558 non-null  datetime64[ns]\n",
      " 6   StartStation Id  812558 non-null  float64       \n",
      "dtypes: datetime64[ns](2), float64(5)\n",
      "memory usage: 44.1 MB\n"
     ]
    }
   ],
   "source": [
    "df_samp.info()"
   ]
  },
  {
   "cell_type": "markdown",
   "metadata": {},
   "source": [
    "## Start Dates"
   ]
  },
  {
   "cell_type": "code",
   "execution_count": 51,
   "metadata": {},
   "outputs": [
    {
     "data": {
      "text/plain": [
       "<matplotlib.axes._subplots.AxesSubplot at 0x23d0d1f0108>"
      ]
     },
     "execution_count": 51,
     "metadata": {},
     "output_type": "execute_result"
    },
    {
     "data": {
      "image/png": "[encoded data removed]",
      "text/plain": [
       "<Figure size 432x288 with 1 Axes>"
      ]
     },
     "metadata": {
      "needs_background": "light"
     },
     "output_type": "display_data"
    }
   ],
   "source": [
    "# Plot timeseries of journey volumes\n",
    "df_samp.groupby('Start Date').count()['Rental Id'].plot()"
   ]
  },
  {
   "cell_type": "markdown",
   "metadata": {},
   "source": [
    "**issue:** A handful of rows have 1900 start-dates, but such cases it appears End Date is valid, we can just reverse-engineer the Sart Date"
   ]
  },
  {
   "cell_type": "code",
   "execution_count": 52,
   "metadata": {},
   "outputs": [],
   "source": [
    "def correct_start_date_errors(df):\n",
    "    \"\"\" Void function: adds 'Start Date 2' column to the dataframe.\n",
    "    Dataset contains start dates in 1900. In such cases, the complimenting end date column appears\n",
    "    to be correct, as well as the duration. This function attempts to fix the implausible start dates. \n",
    "    \"\"\"\n",
    "    \n",
    "    # Correct inplausible start dates \n",
    "    df['Start Date 2']= df['Start Date'].where(\n",
    "        (df['Start Date'] >= '2012') | (df['End Date'] < '2012')  # If start date is after 2012 we can trust it. If end date is before 2012, the fix won't work\n",
    "        ,df['End Date'] - pd.to_timedelta(df['Duration'], unit='s')  # else: correct start_date using end date\n",
    "        ,axis=0\n",
    "    )\n"
   ]
  },
  {
   "cell_type": "code",
   "execution_count": 53,
   "metadata": {},
   "outputs": [],
   "source": [
    "correct_start_date_errors(df_samp)"
   ]
  },
  {
   "cell_type": "code",
   "execution_count": 54,
   "metadata": {},
   "outputs": [
    {
     "data": {
      "text/plain": [
       "<matplotlib.axes._subplots.AxesSubplot at 0x23d11adbc48>"
      ]
     },
     "execution_count": 54,
     "metadata": {},
     "output_type": "execute_result"
    },
    {
     "data": {
      "image/png": "[encoded data removed]",
      "text/plain": [
       "<Figure size 432x288 with 1 Axes>"
      ]
     },
     "metadata": {
      "needs_background": "light"
     },
     "output_type": "display_data"
    }
   ],
   "source": [
    "# Plot 'corrected' timeseries of journeys\n",
    "df_samp.groupby('Start Date 2').count()['Rental Id'].plot()"
   ]
  },
  {
   "cell_type": "markdown",
   "metadata": {},
   "source": [
    "In `Start Date 2` the error has been corrected"
   ]
  },
  {
   "cell_type": "markdown",
   "metadata": {},
   "source": [
    "## End Date"
   ]
  },
  {
   "cell_type": "markdown",
   "metadata": {},
   "source": [
    "### End Dates before 2012"
   ]
  },
  {
   "cell_type": "code",
   "execution_count": 55,
   "metadata": {},
   "outputs": [
    {
     "data": {
      "text/html": [
       "<div>\n",
       "<style scoped>\n",
       "    .dataframe tbody tr th:only-of-type {\n",
       "        vertical-align: middle;\n",
       "    }\n",
       "\n",
       "    .dataframe tbody tr th {\n",
       "        vertical-align: top;\n",
       "    }\n",
       "\n",
       "    .dataframe thead th {\n",
       "        text-align: right;\n",
       "    }\n",
       "</style>\n",
       "<table border=\"1\" class=\"dataframe\">\n",
       "  <thead>\n",
       "    <tr style=\"text-align: right;\">\n",
       "      <th></th>\n",
       "      <th>Rental Id</th>\n",
       "      <th>Duration</th>\n",
       "      <th>Bike Id</th>\n",
       "      <th>End Date</th>\n",
       "      <th>EndStation Id</th>\n",
       "      <th>Start Date</th>\n",
       "      <th>StartStation Id</th>\n",
       "      <th>Start Date 2</th>\n",
       "    </tr>\n",
       "  </thead>\n",
       "  <tbody>\n",
       "    <tr>\n",
       "      <th>43569</th>\n",
       "      <td>9680684.0</td>\n",
       "      <td>0.000000e+00</td>\n",
       "      <td>1784.0</td>\n",
       "      <td>1970-01-01</td>\n",
       "      <td>0.0</td>\n",
       "      <td>2012-01-23 13:09:00</td>\n",
       "      <td>141.0</td>\n",
       "      <td>2012-01-23 13:09:00</td>\n",
       "    </tr>\n",
       "    <tr>\n",
       "      <th>740005</th>\n",
       "      <td>22938465.0</td>\n",
       "      <td>-1.373218e+09</td>\n",
       "      <td>7996.0</td>\n",
       "      <td>1970-01-01</td>\n",
       "      <td>0.0</td>\n",
       "      <td>2013-07-07 17:20:00</td>\n",
       "      <td>410.0</td>\n",
       "      <td>2013-07-07 17:20:00</td>\n",
       "    </tr>\n",
       "    <tr>\n",
       "      <th>561230</th>\n",
       "      <td>20778296.0</td>\n",
       "      <td>-1.366216e+09</td>\n",
       "      <td>7199.0</td>\n",
       "      <td>1970-01-01</td>\n",
       "      <td>0.0</td>\n",
       "      <td>2013-04-17 16:31:00</td>\n",
       "      <td>457.0</td>\n",
       "      <td>2013-04-17 16:31:00</td>\n",
       "    </tr>\n",
       "    <tr>\n",
       "      <th>107213</th>\n",
       "      <td>15499056.0</td>\n",
       "      <td>-1.345792e+09</td>\n",
       "      <td>1516.0</td>\n",
       "      <td>1970-01-01</td>\n",
       "      <td>0.0</td>\n",
       "      <td>2012-08-24 07:06:00</td>\n",
       "      <td>126.0</td>\n",
       "      <td>2012-08-24 07:06:00</td>\n",
       "    </tr>\n",
       "    <tr>\n",
       "      <th>42693</th>\n",
       "      <td>9575259.0</td>\n",
       "      <td>0.000000e+00</td>\n",
       "      <td>576.0</td>\n",
       "      <td>1970-01-01</td>\n",
       "      <td>0.0</td>\n",
       "      <td>2012-01-17 16:14:00</td>\n",
       "      <td>281.0</td>\n",
       "      <td>2012-01-17 16:14:00</td>\n",
       "    </tr>\n",
       "    <tr>\n",
       "      <th>679652</th>\n",
       "      <td>22228635.0</td>\n",
       "      <td>-1.371155e+09</td>\n",
       "      <td>8968.0</td>\n",
       "      <td>1970-01-01</td>\n",
       "      <td>0.0</td>\n",
       "      <td>2013-06-13 20:25:00</td>\n",
       "      <td>251.0</td>\n",
       "      <td>2013-06-13 20:25:00</td>\n",
       "    </tr>\n",
       "    <tr>\n",
       "      <th>295305</th>\n",
       "      <td>17360559.0</td>\n",
       "      <td>-1.350928e+09</td>\n",
       "      <td>1742.0</td>\n",
       "      <td>1970-01-01</td>\n",
       "      <td>0.0</td>\n",
       "      <td>2012-10-22 17:50:00</td>\n",
       "      <td>506.0</td>\n",
       "      <td>2012-10-22 17:50:00</td>\n",
       "    </tr>\n",
       "    <tr>\n",
       "      <th>257851</th>\n",
       "      <td>15816099.0</td>\n",
       "      <td>-1.346663e+09</td>\n",
       "      <td>6750.0</td>\n",
       "      <td>1970-01-01</td>\n",
       "      <td>0.0</td>\n",
       "      <td>2012-09-03 09:04:00</td>\n",
       "      <td>405.0</td>\n",
       "      <td>2012-09-03 09:04:00</td>\n",
       "    </tr>\n",
       "    <tr>\n",
       "      <th>290340</th>\n",
       "      <td>16855466.0</td>\n",
       "      <td>-1.349369e+09</td>\n",
       "      <td>2491.0</td>\n",
       "      <td>1970-01-01</td>\n",
       "      <td>0.0</td>\n",
       "      <td>2012-10-04 16:46:00</td>\n",
       "      <td>471.0</td>\n",
       "      <td>2012-10-04 16:46:00</td>\n",
       "    </tr>\n",
       "    <tr>\n",
       "      <th>362581</th>\n",
       "      <td>18851696.0</td>\n",
       "      <td>-1.356874e+09</td>\n",
       "      <td>634.0</td>\n",
       "      <td>1970-01-01</td>\n",
       "      <td>0.0</td>\n",
       "      <td>2012-12-30 13:25:00</td>\n",
       "      <td>144.0</td>\n",
       "      <td>2012-12-30 13:25:00</td>\n",
       "    </tr>\n",
       "  </tbody>\n",
       "</table>\n",
       "</div>"
      ],
      "text/plain": [
       "         Rental Id      Duration  Bike Id   End Date  EndStation Id  \\\n",
       "43569    9680684.0  0.000000e+00   1784.0 1970-01-01            0.0   \n",
       "740005  22938465.0 -1.373218e+09   7996.0 1970-01-01            0.0   \n",
       "561230  20778296.0 -1.366216e+09   7199.0 1970-01-01            0.0   \n",
       "107213  15499056.0 -1.345792e+09   1516.0 1970-01-01            0.0   \n",
       "42693    9575259.0  0.000000e+00    576.0 1970-01-01            0.0   \n",
       "679652  22228635.0 -1.371155e+09   8968.0 1970-01-01            0.0   \n",
       "295305  17360559.0 -1.350928e+09   1742.0 1970-01-01            0.0   \n",
       "257851  15816099.0 -1.346663e+09   6750.0 1970-01-01            0.0   \n",
       "290340  16855466.0 -1.349369e+09   2491.0 1970-01-01            0.0   \n",
       "362581  18851696.0 -1.356874e+09    634.0 1970-01-01            0.0   \n",
       "\n",
       "                Start Date  StartStation Id        Start Date 2  \n",
       "43569  2012-01-23 13:09:00            141.0 2012-01-23 13:09:00  \n",
       "740005 2013-07-07 17:20:00            410.0 2013-07-07 17:20:00  \n",
       "561230 2013-04-17 16:31:00            457.0 2013-04-17 16:31:00  \n",
       "107213 2012-08-24 07:06:00            126.0 2012-08-24 07:06:00  \n",
       "42693  2012-01-17 16:14:00            281.0 2012-01-17 16:14:00  \n",
       "679652 2013-06-13 20:25:00            251.0 2013-06-13 20:25:00  \n",
       "295305 2012-10-22 17:50:00            506.0 2012-10-22 17:50:00  \n",
       "257851 2012-09-03 09:04:00            405.0 2012-09-03 09:04:00  \n",
       "290340 2012-10-04 16:46:00            471.0 2012-10-04 16:46:00  \n",
       "362581 2012-12-30 13:25:00            144.0 2012-12-30 13:25:00  "
      ]
     },
     "execution_count": 55,
     "metadata": {},
     "output_type": "execute_result"
    }
   ],
   "source": [
    "df_samp[df_samp['End Date'] < '2012'].sample(10)"
   ]
  },
  {
   "cell_type": "code",
   "execution_count": 56,
   "metadata": {},
   "outputs": [
    {
     "data": {
      "text/plain": [
       "0.0    2521\n",
       "Name: EndStation Id, dtype: int64"
      ]
     },
     "execution_count": 56,
     "metadata": {},
     "output_type": "execute_result"
    }
   ],
   "source": [
    "df_samp[df_samp['End Date'] < '2012']['EndStation Id'].value_counts()"
   ]
  },
  {
   "cell_type": "code",
   "execution_count": 57,
   "metadata": {},
   "outputs": [
    {
     "data": {
      "text/plain": [
       "2013    1471\n",
       "2012    1213\n",
       "1901       1\n",
       "Name: Start Date 2, dtype: int64"
      ]
     },
     "execution_count": 57,
     "metadata": {},
     "output_type": "execute_result"
    }
   ],
   "source": [
    "df_samp[df_samp['End Date'] < '2012']['Start Date 2'].dt.year.value_counts()"
   ]
  },
  {
   "cell_type": "markdown",
   "metadata": {},
   "source": [
    "Some rows have an end date on the epoch. These all occur when the start date is in 2012-2013 and in every case the EndStation Id is '0' (NA)\n",
    "\n",
    "I suspect that these are journeys without an EndStation (i.e. theft etc) and that the End Date was supposed to be 'NaT' but got replaced with zero, which was then interpreted as 1970-01-01\n",
    "\n",
    "To test this, I will see if there are similar volumes of 'NaT' after 2013"
   ]
  },
  {
   "cell_type": "code",
   "execution_count": 58,
   "metadata": {},
   "outputs": [
    {
     "data": {
      "text/plain": [
       "2016.0    1013\n",
       "2017.0     663\n",
       "Name: Start Date 2, dtype: int64"
      ]
     },
     "execution_count": 58,
     "metadata": {},
     "output_type": "execute_result"
    }
   ],
   "source": [
    "# Volumes of NaT over years\n",
    "df_samp[df_samp['End Date'].isna()]['Start Date 2'].dt.year.value_counts()"
   ]
  },
  {
   "cell_type": "code",
   "execution_count": 59,
   "metadata": {},
   "outputs": [
    {
     "data": {
      "text/plain": [
       "2013.0    1474\n",
       "2012.0    1247\n",
       "2016.0    1016\n",
       "2017.0     667\n",
       "1901.0       1\n",
       "2015.0       1\n",
       "Name: Start Date 2, dtype: int64"
      ]
     },
     "execution_count": 59,
     "metadata": {},
     "output_type": "execute_result"
    }
   ],
   "source": [
    "df_samp[df_samp['EndStation Id'].isna() | (df_samp['EndStation Id']==0)]['Start Date 2'].dt.year.value_counts()"
   ]
  },
  {
   "cell_type": "markdown",
   "metadata": {},
   "source": [
    "For unknown reasons 'lost bike journeys' seem to be absent from the 2014/2015 datasets. \n",
    "\n",
    "But, the volumes of End Stations and End Dates == 0 in 2012-2013 are comparable to the volumes where they are NaN and NaT respectively in 2016/2017. \n",
    "\n",
    "So, the best action is to replace these cases with NaN/NaT. Also: correct duration"
   ]
  },
  {
   "cell_type": "code",
   "execution_count": 60,
   "metadata": {},
   "outputs": [],
   "source": [
    "def correct_0_end_date_stations(df):\n",
    "    \"\"\" Void function: adds 'End Date 2' and 'EndStation Id 2' and 'Duration 2' columns to the dataframe.\n",
    "    In 2012/2013, missing end dates and missing end stations are encoded as 1970-01-01 and 0, respectively. \n",
    "    This function replaces those cases with NaT and NaN\n",
    "    \"\"\"\n",
    "    \n",
    "    # Replace 1970 End Dates with NaT \n",
    "    df['End Date 2']= df['End Date'].where(\n",
    "        df['End Date'] >= '2012'\n",
    "        ,pd.NaT\n",
    "        ,axis=0\n",
    "    )\n",
    "    \n",
    "    df['Duration 2']= df['Duration'].where(\n",
    "        (df['End Date'] >= '2012') & (df['Duration'] >= 0)\n",
    "        ,np.NaN\n",
    "        ,axis=0\n",
    "    )\n",
    "    \n",
    "    df['EndStation Id 2'] = df['EndStation Id'].where(\n",
    "        df['EndStation Id'] != 0\n",
    "        ,np.NaN\n",
    "    )\n"
   ]
  },
  {
   "cell_type": "code",
   "execution_count": 61,
   "metadata": {},
   "outputs": [],
   "source": [
    "correct_0_end_date_stations(df_samp)"
   ]
  },
  {
   "cell_type": "code",
   "execution_count": 62,
   "metadata": {},
   "outputs": [
    {
     "data": {
      "text/html": [
       "<div>\n",
       "<style scoped>\n",
       "    .dataframe tbody tr th:only-of-type {\n",
       "        vertical-align: middle;\n",
       "    }\n",
       "\n",
       "    .dataframe tbody tr th {\n",
       "        vertical-align: top;\n",
       "    }\n",
       "\n",
       "    .dataframe thead th {\n",
       "        text-align: right;\n",
       "    }\n",
       "</style>\n",
       "<table border=\"1\" class=\"dataframe\">\n",
       "  <thead>\n",
       "    <tr style=\"text-align: right;\">\n",
       "      <th></th>\n",
       "      <th>Rental Id</th>\n",
       "      <th>Duration</th>\n",
       "      <th>Bike Id</th>\n",
       "      <th>End Date</th>\n",
       "      <th>EndStation Id</th>\n",
       "      <th>Start Date</th>\n",
       "      <th>StartStation Id</th>\n",
       "      <th>Start Date 2</th>\n",
       "      <th>End Date 2</th>\n",
       "      <th>Duration 2</th>\n",
       "      <th>EndStation Id 2</th>\n",
       "    </tr>\n",
       "  </thead>\n",
       "  <tbody>\n",
       "    <tr>\n",
       "      <th>529321</th>\n",
       "      <td>20436859.0</td>\n",
       "      <td>-1.364463e+09</td>\n",
       "      <td>600.0</td>\n",
       "      <td>1970-01-01</td>\n",
       "      <td>0.0</td>\n",
       "      <td>2013-03-28 09:22:00</td>\n",
       "      <td>315.0</td>\n",
       "      <td>2013-03-28 09:22:00</td>\n",
       "      <td>NaT</td>\n",
       "      <td>NaN</td>\n",
       "      <td>NaN</td>\n",
       "    </tr>\n",
       "    <tr>\n",
       "      <th>488625</th>\n",
       "      <td>10335797.0</td>\n",
       "      <td>0.000000e+00</td>\n",
       "      <td>2833.0</td>\n",
       "      <td>1970-01-01</td>\n",
       "      <td>0.0</td>\n",
       "      <td>2012-03-02 12:01:00</td>\n",
       "      <td>213.0</td>\n",
       "      <td>2012-03-02 12:01:00</td>\n",
       "      <td>NaT</td>\n",
       "      <td>NaN</td>\n",
       "      <td>NaN</td>\n",
       "    </tr>\n",
       "    <tr>\n",
       "      <th>157632</th>\n",
       "      <td>15556338.0</td>\n",
       "      <td>-1.346001e+09</td>\n",
       "      <td>44.0</td>\n",
       "      <td>1970-01-01</td>\n",
       "      <td>0.0</td>\n",
       "      <td>2012-08-26 17:16:00</td>\n",
       "      <td>532.0</td>\n",
       "      <td>2012-08-26 17:16:00</td>\n",
       "      <td>NaT</td>\n",
       "      <td>NaN</td>\n",
       "      <td>NaN</td>\n",
       "    </tr>\n",
       "    <tr>\n",
       "      <th>265522</th>\n",
       "      <td>16598012.0</td>\n",
       "      <td>-1.348580e+09</td>\n",
       "      <td>8735.0</td>\n",
       "      <td>1970-01-01</td>\n",
       "      <td>0.0</td>\n",
       "      <td>2012-09-25 13:35:00</td>\n",
       "      <td>294.0</td>\n",
       "      <td>2012-09-25 13:35:00</td>\n",
       "      <td>NaT</td>\n",
       "      <td>NaN</td>\n",
       "      <td>NaN</td>\n",
       "    </tr>\n",
       "    <tr>\n",
       "      <th>681768</th>\n",
       "      <td>22038563.0</td>\n",
       "      <td>-1.370414e+09</td>\n",
       "      <td>130.0</td>\n",
       "      <td>1970-01-01</td>\n",
       "      <td>0.0</td>\n",
       "      <td>2013-06-05 06:35:00</td>\n",
       "      <td>46.0</td>\n",
       "      <td>2013-06-05 06:35:00</td>\n",
       "      <td>NaT</td>\n",
       "      <td>NaN</td>\n",
       "      <td>NaN</td>\n",
       "    </tr>\n",
       "  </tbody>\n",
       "</table>\n",
       "</div>"
      ],
      "text/plain": [
       "         Rental Id      Duration  Bike Id   End Date  EndStation Id  \\\n",
       "529321  20436859.0 -1.364463e+09    600.0 1970-01-01            0.0   \n",
       "488625  10335797.0  0.000000e+00   2833.0 1970-01-01            0.0   \n",
       "157632  15556338.0 -1.346001e+09     44.0 1970-01-01            0.0   \n",
       "265522  16598012.0 -1.348580e+09   8735.0 1970-01-01            0.0   \n",
       "681768  22038563.0 -1.370414e+09    130.0 1970-01-01            0.0   \n",
       "\n",
       "                Start Date  StartStation Id        Start Date 2 End Date 2  \\\n",
       "529321 2013-03-28 09:22:00            315.0 2013-03-28 09:22:00        NaT   \n",
       "488625 2012-03-02 12:01:00            213.0 2012-03-02 12:01:00        NaT   \n",
       "157632 2012-08-26 17:16:00            532.0 2012-08-26 17:16:00        NaT   \n",
       "265522 2012-09-25 13:35:00            294.0 2012-09-25 13:35:00        NaT   \n",
       "681768 2013-06-05 06:35:00             46.0 2013-06-05 06:35:00        NaT   \n",
       "\n",
       "        Duration 2  EndStation Id 2  \n",
       "529321         NaN              NaN  \n",
       "488625         NaN              NaN  \n",
       "157632         NaN              NaN  \n",
       "265522         NaN              NaN  \n",
       "681768         NaN              NaN  "
      ]
     },
     "execution_count": 62,
     "metadata": {},
     "output_type": "execute_result"
    }
   ],
   "source": [
    "df_samp[df_samp['End Date'] < '2012'].sample(5)"
   ]
  },
  {
   "cell_type": "markdown",
   "metadata": {},
   "source": [
    "End Date / Negative Duration Issue corrected. "
   ]
  },
  {
   "cell_type": "markdown",
   "metadata": {},
   "source": [
    "## Duration"
   ]
  },
  {
   "cell_type": "markdown",
   "metadata": {},
   "source": [
    "Explore whether there are any other issues with this field"
   ]
  },
  {
   "cell_type": "code",
   "execution_count": 63,
   "metadata": {},
   "outputs": [
    {
     "data": {
      "text/plain": [
       "<matplotlib.collections.PathCollection at 0x23d0e899148>"
      ]
     },
     "execution_count": 63,
     "metadata": {},
     "output_type": "execute_result"
    },
    {
     "data": {
      "image/png": "[encoded data removed]",
      "text/plain": [
       "<Figure size 432x288 with 1 Axes>"
      ]
     },
     "metadata": {
      "needs_background": "light"
     },
     "output_type": "display_data"
    }
   ],
   "source": [
    "# Compare Duration 2 field with a manually-calculated duration field to validate\n",
    "df_samp['duration_from_dates'] = (df_samp['End Date 2'] - df_samp['Start Date 2'])/np.timedelta64(1,'s')\n",
    "plt.scatter(df_samp['Duration 2'].tolist(), df_samp['duration_from_dates'].tolist())"
   ]
  },
  {
   "cell_type": "code",
   "execution_count": 64,
   "metadata": {},
   "outputs": [],
   "source": [
    "# sns.jointplot(\n",
    "#     x=\"Duration 2\"\n",
    "#     , y=\"duration_from_dates\"\n",
    "#     , data=df_samp\n",
    "#     , kind=\"hex\")"
   ]
  },
  {
   "cell_type": "code",
   "execution_count": 65,
   "metadata": {},
   "outputs": [
    {
     "data": {
      "text/plain": [
       "<seaborn.axisgrid.JointGrid at 0x23d0e90fa48>"
      ]
     },
     "execution_count": 65,
     "metadata": {},
     "output_type": "execute_result"
    },
    {
     "data": {
      "image/png": "[encoded data removed]",
      "text/plain": [
       "<Figure size 432x432 with 3 Axes>"
      ]
     },
     "metadata": {
      "needs_background": "light"
     },
     "output_type": "display_data"
    }
   ],
   "source": [
    "zoom = (df_samp['Duration 2'] < 3000) & (df_samp['duration_from_dates'] < 3000) & (df_samp['duration_from_dates'] >= 0)\n",
    "\n",
    "sns.jointplot(\n",
    "    x=\"Duration 2\"\n",
    "    , y=\"duration_from_dates\"\n",
    "    , data=df_samp[zoom]\n",
    "    , kind=\"hex\")"
   ]
  },
  {
   "cell_type": "code",
   "execution_count": 66,
   "metadata": {},
   "outputs": [],
   "source": [
    "df_samp['End Date from Duration'] = df_samp['Start Date 2'] + pd.to_timedelta(df_samp['Duration 2'], unit='s')"
   ]
  },
  {
   "cell_type": "code",
   "execution_count": 67,
   "metadata": {},
   "outputs": [
    {
     "data": {
      "text/html": [
       "<div>\n",
       "<style scoped>\n",
       "    .dataframe tbody tr th:only-of-type {\n",
       "        vertical-align: middle;\n",
       "    }\n",
       "\n",
       "    .dataframe tbody tr th {\n",
       "        vertical-align: top;\n",
       "    }\n",
       "\n",
       "    .dataframe thead th {\n",
       "        text-align: right;\n",
       "    }\n",
       "</style>\n",
       "<table border=\"1\" class=\"dataframe\">\n",
       "  <thead>\n",
       "    <tr style=\"text-align: right;\">\n",
       "      <th></th>\n",
       "      <th>Rental Id</th>\n",
       "      <th>Duration</th>\n",
       "      <th>Bike Id</th>\n",
       "      <th>End Date</th>\n",
       "      <th>EndStation Id</th>\n",
       "      <th>Start Date</th>\n",
       "      <th>StartStation Id</th>\n",
       "      <th>Start Date 2</th>\n",
       "      <th>End Date 2</th>\n",
       "      <th>Duration 2</th>\n",
       "      <th>EndStation Id 2</th>\n",
       "      <th>duration_from_dates</th>\n",
       "      <th>End Date from Duration</th>\n",
       "    </tr>\n",
       "  </thead>\n",
       "  <tbody>\n",
       "    <tr>\n",
       "      <th>559487</th>\n",
       "      <td>20606808.0</td>\n",
       "      <td>436.0</td>\n",
       "      <td>8373.0</td>\n",
       "      <td>2013-04-08 17:54:08</td>\n",
       "      <td>63.0</td>\n",
       "      <td>2013-04-08 17:46:00</td>\n",
       "      <td>41.0</td>\n",
       "      <td>2013-04-08 17:46:00</td>\n",
       "      <td>2013-04-08 17:54:08</td>\n",
       "      <td>436.0</td>\n",
       "      <td>63.0</td>\n",
       "      <td>488.0</td>\n",
       "      <td>2013-04-08 17:53:16</td>\n",
       "    </tr>\n",
       "    <tr>\n",
       "      <th>783204</th>\n",
       "      <td>24008508.0</td>\n",
       "      <td>215.0</td>\n",
       "      <td>8102.0</td>\n",
       "      <td>2013-08-10 00:42:00</td>\n",
       "      <td>310.0</td>\n",
       "      <td>2013-08-10 00:38:00</td>\n",
       "      <td>74.0</td>\n",
       "      <td>2013-08-10 00:38:00</td>\n",
       "      <td>2013-08-10 00:42:00</td>\n",
       "      <td>215.0</td>\n",
       "      <td>310.0</td>\n",
       "      <td>240.0</td>\n",
       "      <td>2013-08-10 00:41:35</td>\n",
       "    </tr>\n",
       "    <tr>\n",
       "      <th>528749</th>\n",
       "      <td>20373501.0</td>\n",
       "      <td>160.0</td>\n",
       "      <td>2407.0</td>\n",
       "      <td>2013-03-25 07:40:00</td>\n",
       "      <td>254.0</td>\n",
       "      <td>2013-03-25 07:37:00</td>\n",
       "      <td>264.0</td>\n",
       "      <td>2013-03-25 07:37:00</td>\n",
       "      <td>2013-03-25 07:40:00</td>\n",
       "      <td>160.0</td>\n",
       "      <td>254.0</td>\n",
       "      <td>180.0</td>\n",
       "      <td>2013-03-25 07:39:40</td>\n",
       "    </tr>\n",
       "    <tr>\n",
       "      <th>40763</th>\n",
       "      <td>9380078.0</td>\n",
       "      <td>429.0</td>\n",
       "      <td>3983.0</td>\n",
       "      <td>2012-01-06 09:20:00</td>\n",
       "      <td>256.0</td>\n",
       "      <td>2012-01-06 09:12:00</td>\n",
       "      <td>68.0</td>\n",
       "      <td>2012-01-06 09:12:00</td>\n",
       "      <td>2012-01-06 09:20:00</td>\n",
       "      <td>429.0</td>\n",
       "      <td>256.0</td>\n",
       "      <td>480.0</td>\n",
       "      <td>2012-01-06 09:19:09</td>\n",
       "    </tr>\n",
       "    <tr>\n",
       "      <th>57239</th>\n",
       "      <td>15421794.0</td>\n",
       "      <td>323.0</td>\n",
       "      <td>6187.0</td>\n",
       "      <td>2012-08-22 07:54:00</td>\n",
       "      <td>56.0</td>\n",
       "      <td>2012-08-22 07:48:00</td>\n",
       "      <td>410.0</td>\n",
       "      <td>2012-08-22 07:48:00</td>\n",
       "      <td>2012-08-22 07:54:00</td>\n",
       "      <td>323.0</td>\n",
       "      <td>56.0</td>\n",
       "      <td>360.0</td>\n",
       "      <td>2012-08-22 07:53:23</td>\n",
       "    </tr>\n",
       "    <tr>\n",
       "      <th>260827</th>\n",
       "      <td>16112392.0</td>\n",
       "      <td>153.0</td>\n",
       "      <td>5734.0</td>\n",
       "      <td>2012-09-10 07:24:00</td>\n",
       "      <td>270.0</td>\n",
       "      <td>2012-09-10 07:21:00</td>\n",
       "      <td>100.0</td>\n",
       "      <td>2012-09-10 07:21:00</td>\n",
       "      <td>2012-09-10 07:24:00</td>\n",
       "      <td>153.0</td>\n",
       "      <td>270.0</td>\n",
       "      <td>180.0</td>\n",
       "      <td>2012-09-10 07:23:33</td>\n",
       "    </tr>\n",
       "    <tr>\n",
       "      <th>43623</th>\n",
       "      <td>9674686.0</td>\n",
       "      <td>160.0</td>\n",
       "      <td>2618.0</td>\n",
       "      <td>2012-01-23 17:44:00</td>\n",
       "      <td>268.0</td>\n",
       "      <td>2012-01-23 17:41:00</td>\n",
       "      <td>243.0</td>\n",
       "      <td>2012-01-23 17:41:00</td>\n",
       "      <td>2012-01-23 17:44:00</td>\n",
       "      <td>160.0</td>\n",
       "      <td>268.0</td>\n",
       "      <td>180.0</td>\n",
       "      <td>2012-01-23 17:43:40</td>\n",
       "    </tr>\n",
       "    <tr>\n",
       "      <th>416454</th>\n",
       "      <td>19374281.0</td>\n",
       "      <td>159.0</td>\n",
       "      <td>4663.0</td>\n",
       "      <td>2013-01-29 10:46:00</td>\n",
       "      <td>268.0</td>\n",
       "      <td>2013-01-29 10:43:00</td>\n",
       "      <td>243.0</td>\n",
       "      <td>2013-01-29 10:43:00</td>\n",
       "      <td>2013-01-29 10:46:00</td>\n",
       "      <td>159.0</td>\n",
       "      <td>268.0</td>\n",
       "      <td>180.0</td>\n",
       "      <td>2013-01-29 10:45:39</td>\n",
       "    </tr>\n",
       "    <tr>\n",
       "      <th>563959</th>\n",
       "      <td>21048362.0</td>\n",
       "      <td>512.0</td>\n",
       "      <td>2005.0</td>\n",
       "      <td>2013-04-27 12:16:30</td>\n",
       "      <td>73.0</td>\n",
       "      <td>2013-04-27 12:07:00</td>\n",
       "      <td>512.0</td>\n",
       "      <td>2013-04-27 12:07:00</td>\n",
       "      <td>2013-04-27 12:16:30</td>\n",
       "      <td>512.0</td>\n",
       "      <td>73.0</td>\n",
       "      <td>570.0</td>\n",
       "      <td>2013-04-27 12:15:32</td>\n",
       "    </tr>\n",
       "    <tr>\n",
       "      <th>103503</th>\n",
       "      <td>27784374.0</td>\n",
       "      <td>207.0</td>\n",
       "      <td>2292.0</td>\n",
       "      <td>2013-09-26 19:38:00</td>\n",
       "      <td>25.0</td>\n",
       "      <td>2013-09-26 19:34:00</td>\n",
       "      <td>214.0</td>\n",
       "      <td>2013-09-26 19:34:00</td>\n",
       "      <td>2013-09-26 19:38:00</td>\n",
       "      <td>207.0</td>\n",
       "      <td>25.0</td>\n",
       "      <td>240.0</td>\n",
       "      <td>2013-09-26 19:37:27</td>\n",
       "    </tr>\n",
       "  </tbody>\n",
       "</table>\n",
       "</div>"
      ],
      "text/plain": [
       "         Rental Id  Duration  Bike Id            End Date  EndStation Id  \\\n",
       "559487  20606808.0     436.0   8373.0 2013-04-08 17:54:08           63.0   \n",
       "783204  24008508.0     215.0   8102.0 2013-08-10 00:42:00          310.0   \n",
       "528749  20373501.0     160.0   2407.0 2013-03-25 07:40:00          254.0   \n",
       "40763    9380078.0     429.0   3983.0 2012-01-06 09:20:00          256.0   \n",
       "57239   15421794.0     323.0   6187.0 2012-08-22 07:54:00           56.0   \n",
       "260827  16112392.0     153.0   5734.0 2012-09-10 07:24:00          270.0   \n",
       "43623    9674686.0     160.0   2618.0 2012-01-23 17:44:00          268.0   \n",
       "416454  19374281.0     159.0   4663.0 2013-01-29 10:46:00          268.0   \n",
       "563959  21048362.0     512.0   2005.0 2013-04-27 12:16:30           73.0   \n",
       "103503  27784374.0     207.0   2292.0 2013-09-26 19:38:00           25.0   \n",
       "\n",
       "                Start Date  StartStation Id        Start Date 2  \\\n",
       "559487 2013-04-08 17:46:00             41.0 2013-04-08 17:46:00   \n",
       "783204 2013-08-10 00:38:00             74.0 2013-08-10 00:38:00   \n",
       "528749 2013-03-25 07:37:00            264.0 2013-03-25 07:37:00   \n",
       "40763  2012-01-06 09:12:00             68.0 2012-01-06 09:12:00   \n",
       "57239  2012-08-22 07:48:00            410.0 2012-08-22 07:48:00   \n",
       "260827 2012-09-10 07:21:00            100.0 2012-09-10 07:21:00   \n",
       "43623  2012-01-23 17:41:00            243.0 2012-01-23 17:41:00   \n",
       "416454 2013-01-29 10:43:00            243.0 2013-01-29 10:43:00   \n",
       "563959 2013-04-27 12:07:00            512.0 2013-04-27 12:07:00   \n",
       "103503 2013-09-26 19:34:00            214.0 2013-09-26 19:34:00   \n",
       "\n",
       "                End Date 2  Duration 2  EndStation Id 2  duration_from_dates  \\\n",
       "559487 2013-04-08 17:54:08       436.0             63.0                488.0   \n",
       "783204 2013-08-10 00:42:00       215.0            310.0                240.0   \n",
       "528749 2013-03-25 07:40:00       160.0            254.0                180.0   \n",
       "40763  2012-01-06 09:20:00       429.0            256.0                480.0   \n",
       "57239  2012-08-22 07:54:00       323.0             56.0                360.0   \n",
       "260827 2012-09-10 07:24:00       153.0            270.0                180.0   \n",
       "43623  2012-01-23 17:44:00       160.0            268.0                180.0   \n",
       "416454 2013-01-29 10:46:00       159.0            268.0                180.0   \n",
       "563959 2013-04-27 12:16:30       512.0             73.0                570.0   \n",
       "103503 2013-09-26 19:38:00       207.0             25.0                240.0   \n",
       "\n",
       "       End Date from Duration  \n",
       "559487    2013-04-08 17:53:16  \n",
       "783204    2013-08-10 00:41:35  \n",
       "528749    2013-03-25 07:39:40  \n",
       "40763     2012-01-06 09:19:09  \n",
       "57239     2012-08-22 07:53:23  \n",
       "260827    2012-09-10 07:23:33  \n",
       "43623     2012-01-23 17:43:40  \n",
       "416454    2013-01-29 10:45:39  \n",
       "563959    2013-04-27 12:15:32  \n",
       "103503    2013-09-26 19:37:27  "
      ]
     },
     "execution_count": 67,
     "metadata": {},
     "output_type": "execute_result"
    }
   ],
   "source": [
    "# Inspect rows where diffirence is larger than 10%\n",
    "df_samp[\n",
    "    (df_samp['duration_from_dates'] - df_samp['Duration 2'])/df_samp['duration_from_dates'] > 0.1\n",
    "].sample(10)"
   ]
  },
  {
   "cell_type": "code",
   "execution_count": 68,
   "metadata": {},
   "outputs": [
    {
     "data": {
      "text/html": [
       "<div>\n",
       "<style scoped>\n",
       "    .dataframe tbody tr th:only-of-type {\n",
       "        vertical-align: middle;\n",
       "    }\n",
       "\n",
       "    .dataframe tbody tr th {\n",
       "        vertical-align: top;\n",
       "    }\n",
       "\n",
       "    .dataframe thead th {\n",
       "        text-align: right;\n",
       "    }\n",
       "</style>\n",
       "<table border=\"1\" class=\"dataframe\">\n",
       "  <thead>\n",
       "    <tr style=\"text-align: right;\">\n",
       "      <th></th>\n",
       "      <th>Rental Id</th>\n",
       "      <th>Duration</th>\n",
       "      <th>Bike Id</th>\n",
       "      <th>End Date</th>\n",
       "      <th>EndStation Id</th>\n",
       "      <th>Start Date</th>\n",
       "      <th>StartStation Id</th>\n",
       "      <th>Start Date 2</th>\n",
       "      <th>End Date 2</th>\n",
       "      <th>Duration 2</th>\n",
       "      <th>EndStation Id 2</th>\n",
       "      <th>duration_from_dates</th>\n",
       "      <th>End Date from Duration</th>\n",
       "    </tr>\n",
       "  </thead>\n",
       "  <tbody>\n",
       "    <tr>\n",
       "      <th>136880</th>\n",
       "      <td>49063702.0</td>\n",
       "      <td>-780.0</td>\n",
       "      <td>103.0</td>\n",
       "      <td>2015-10-25 01:35:00</td>\n",
       "      <td>194.0</td>\n",
       "      <td>2015-10-25 01:48:00</td>\n",
       "      <td>480.0</td>\n",
       "      <td>2015-10-25 01:48:00</td>\n",
       "      <td>2015-10-25 01:35:00</td>\n",
       "      <td>NaN</td>\n",
       "      <td>194.0</td>\n",
       "      <td>-780.0</td>\n",
       "      <td>NaT</td>\n",
       "    </tr>\n",
       "    <tr>\n",
       "      <th>141169</th>\n",
       "      <td>38748971.0</td>\n",
       "      <td>-3180.0</td>\n",
       "      <td>119.0</td>\n",
       "      <td>2014-10-26 01:03:00</td>\n",
       "      <td>10.0</td>\n",
       "      <td>2014-10-26 01:56:00</td>\n",
       "      <td>295.0</td>\n",
       "      <td>2014-10-26 01:56:00</td>\n",
       "      <td>2014-10-26 01:03:00</td>\n",
       "      <td>NaN</td>\n",
       "      <td>10.0</td>\n",
       "      <td>-3180.0</td>\n",
       "      <td>NaT</td>\n",
       "    </tr>\n",
       "    <tr>\n",
       "      <th>147974</th>\n",
       "      <td>38748937.0</td>\n",
       "      <td>-2940.0</td>\n",
       "      <td>688.0</td>\n",
       "      <td>2014-10-26 01:01:00</td>\n",
       "      <td>403.0</td>\n",
       "      <td>2014-10-26 01:50:00</td>\n",
       "      <td>337.0</td>\n",
       "      <td>2014-10-26 01:50:00</td>\n",
       "      <td>2014-10-26 01:01:00</td>\n",
       "      <td>NaN</td>\n",
       "      <td>403.0</td>\n",
       "      <td>-2940.0</td>\n",
       "      <td>NaT</td>\n",
       "    </tr>\n",
       "    <tr>\n",
       "      <th>468070</th>\n",
       "      <td>59897994.0</td>\n",
       "      <td>-2040.0</td>\n",
       "      <td>9245.0</td>\n",
       "      <td>2016-10-30 01:01:00</td>\n",
       "      <td>583.0</td>\n",
       "      <td>2016-10-30 01:35:00</td>\n",
       "      <td>693.0</td>\n",
       "      <td>2016-10-30 01:35:00</td>\n",
       "      <td>2016-10-30 01:01:00</td>\n",
       "      <td>NaN</td>\n",
       "      <td>583.0</td>\n",
       "      <td>-2040.0</td>\n",
       "      <td>NaT</td>\n",
       "    </tr>\n",
       "    <tr>\n",
       "      <th>469747</th>\n",
       "      <td>59898015.0</td>\n",
       "      <td>-2280.0</td>\n",
       "      <td>9662.0</td>\n",
       "      <td>2016-10-30 01:00:00</td>\n",
       "      <td>818.0</td>\n",
       "      <td>2016-10-30 01:38:00</td>\n",
       "      <td>509.0</td>\n",
       "      <td>2016-10-30 01:38:00</td>\n",
       "      <td>2016-10-30 01:00:00</td>\n",
       "      <td>NaN</td>\n",
       "      <td>818.0</td>\n",
       "      <td>-2280.0</td>\n",
       "      <td>NaT</td>\n",
       "    </tr>\n",
       "  </tbody>\n",
       "</table>\n",
       "</div>"
      ],
      "text/plain": [
       "         Rental Id  Duration  Bike Id            End Date  EndStation Id  \\\n",
       "136880  49063702.0    -780.0    103.0 2015-10-25 01:35:00          194.0   \n",
       "141169  38748971.0   -3180.0    119.0 2014-10-26 01:03:00           10.0   \n",
       "147974  38748937.0   -2940.0    688.0 2014-10-26 01:01:00          403.0   \n",
       "468070  59897994.0   -2040.0   9245.0 2016-10-30 01:01:00          583.0   \n",
       "469747  59898015.0   -2280.0   9662.0 2016-10-30 01:00:00          818.0   \n",
       "\n",
       "                Start Date  StartStation Id        Start Date 2  \\\n",
       "136880 2015-10-25 01:48:00            480.0 2015-10-25 01:48:00   \n",
       "141169 2014-10-26 01:56:00            295.0 2014-10-26 01:56:00   \n",
       "147974 2014-10-26 01:50:00            337.0 2014-10-26 01:50:00   \n",
       "468070 2016-10-30 01:35:00            693.0 2016-10-30 01:35:00   \n",
       "469747 2016-10-30 01:38:00            509.0 2016-10-30 01:38:00   \n",
       "\n",
       "                End Date 2  Duration 2  EndStation Id 2  duration_from_dates  \\\n",
       "136880 2015-10-25 01:35:00         NaN            194.0               -780.0   \n",
       "141169 2014-10-26 01:03:00         NaN             10.0              -3180.0   \n",
       "147974 2014-10-26 01:01:00         NaN            403.0              -2940.0   \n",
       "468070 2016-10-30 01:01:00         NaN            583.0              -2040.0   \n",
       "469747 2016-10-30 01:00:00         NaN            818.0              -2280.0   \n",
       "\n",
       "       End Date from Duration  \n",
       "136880                    NaT  \n",
       "141169                    NaT  \n",
       "147974                    NaT  \n",
       "468070                    NaT  \n",
       "469747                    NaT  "
      ]
     },
     "execution_count": 68,
     "metadata": {},
     "output_type": "execute_result"
    }
   ],
   "source": [
    "df_samp[df_samp['duration_from_dates'] < 0]"
   ]
  },
  {
   "cell_type": "markdown",
   "metadata": {},
   "source": [
    "It seems that in some cases, the End Date (or start date??) is wrong but the times are in fact correct. It seems that timings around midnight or the new year might be some cases. \n",
    "\n",
    "I think a possible approach might be to contrast Duration 2 and duration_from_dates and to pick the one that is more 'plausible' in each case. \n",
    "\n",
    "'plausible' might be measured by how many standard deviations is is away from the mean. Or perhaps, Duration 2 is always the best option"
   ]
  },
  {
   "cell_type": "markdown",
   "metadata": {},
   "source": [
    "End Date is also broken!"
   ]
  },
  {
   "cell_type": "markdown",
   "metadata": {},
   "source": [
    "## Prototyping my date correction Idea\n",
    "\n",
    "//TODO: document this in markdown"
   ]
  },
  {
   "cell_type": "code",
   "execution_count": 69,
   "metadata": {},
   "outputs": [],
   "source": [
    "df_s_clean = df_samp[~df_samp[['End Date 2', 'Duration 2', 'Start Date 2']].isnull().any(axis=1)]"
   ]
  },
  {
   "cell_type": "code",
   "execution_count": 70,
   "metadata": {},
   "outputs": [
    {
     "data": {
      "text/html": [
       "<div>\n",
       "<style scoped>\n",
       "    .dataframe tbody tr th:only-of-type {\n",
       "        vertical-align: middle;\n",
       "    }\n",
       "\n",
       "    .dataframe tbody tr th {\n",
       "        vertical-align: top;\n",
       "    }\n",
       "\n",
       "    .dataframe thead th {\n",
       "        text-align: right;\n",
       "    }\n",
       "</style>\n",
       "<table border=\"1\" class=\"dataframe\">\n",
       "  <thead>\n",
       "    <tr style=\"text-align: right;\">\n",
       "      <th></th>\n",
       "      <th>Rental Id</th>\n",
       "      <th>Duration</th>\n",
       "      <th>Bike Id</th>\n",
       "      <th>End Date</th>\n",
       "      <th>EndStation Id</th>\n",
       "      <th>Start Date</th>\n",
       "      <th>StartStation Id</th>\n",
       "      <th>Start Date 2</th>\n",
       "      <th>End Date 2</th>\n",
       "      <th>Duration 2</th>\n",
       "      <th>EndStation Id 2</th>\n",
       "      <th>duration_from_dates</th>\n",
       "      <th>End Date from Duration</th>\n",
       "    </tr>\n",
       "  </thead>\n",
       "  <tbody>\n",
       "    <tr>\n",
       "      <th>39568</th>\n",
       "      <td>18892018.0</td>\n",
       "      <td>466.0</td>\n",
       "      <td>7201.0</td>\n",
       "      <td>2013-01-02 18:12:00</td>\n",
       "      <td>64.0</td>\n",
       "      <td>2013-01-02 18:04:00</td>\n",
       "      <td>260.0</td>\n",
       "      <td>2013-01-02 18:04:00</td>\n",
       "      <td>2013-01-02 18:12:00</td>\n",
       "      <td>466.0</td>\n",
       "      <td>64.0</td>\n",
       "      <td>480.0</td>\n",
       "      <td>2013-01-02 18:11:46</td>\n",
       "    </tr>\n",
       "    <tr>\n",
       "      <th>39569</th>\n",
       "      <td>18950611.0</td>\n",
       "      <td>823.0</td>\n",
       "      <td>4575.0</td>\n",
       "      <td>2013-01-05 11:09:00</td>\n",
       "      <td>331.0</td>\n",
       "      <td>2013-01-05 10:55:00</td>\n",
       "      <td>314.0</td>\n",
       "      <td>2013-01-05 10:55:00</td>\n",
       "      <td>2013-01-05 11:09:00</td>\n",
       "      <td>823.0</td>\n",
       "      <td>331.0</td>\n",
       "      <td>840.0</td>\n",
       "      <td>2013-01-05 11:08:43</td>\n",
       "    </tr>\n",
       "    <tr>\n",
       "      <th>39570</th>\n",
       "      <td>18919030.0</td>\n",
       "      <td>578.0</td>\n",
       "      <td>3522.0</td>\n",
       "      <td>2013-01-03 08:50:00</td>\n",
       "      <td>233.0</td>\n",
       "      <td>2013-01-03 08:41:00</td>\n",
       "      <td>284.0</td>\n",
       "      <td>2013-01-03 08:41:00</td>\n",
       "      <td>2013-01-03 08:50:00</td>\n",
       "      <td>578.0</td>\n",
       "      <td>233.0</td>\n",
       "      <td>540.0</td>\n",
       "      <td>2013-01-03 08:50:38</td>\n",
       "    </tr>\n",
       "    <tr>\n",
       "      <th>39571</th>\n",
       "      <td>18928492.0</td>\n",
       "      <td>854.0</td>\n",
       "      <td>349.0</td>\n",
       "      <td>2013-01-04 08:23:00</td>\n",
       "      <td>190.0</td>\n",
       "      <td>2013-01-04 08:08:00</td>\n",
       "      <td>91.0</td>\n",
       "      <td>2013-01-04 08:08:00</td>\n",
       "      <td>2013-01-04 08:23:00</td>\n",
       "      <td>854.0</td>\n",
       "      <td>190.0</td>\n",
       "      <td>900.0</td>\n",
       "      <td>2013-01-04 08:22:14</td>\n",
       "    </tr>\n",
       "    <tr>\n",
       "      <th>39572</th>\n",
       "      <td>18928002.0</td>\n",
       "      <td>650.0</td>\n",
       "      <td>1784.0</td>\n",
       "      <td>2013-01-04 23:41:00</td>\n",
       "      <td>153.0</td>\n",
       "      <td>2013-01-04 23:30:00</td>\n",
       "      <td>255.0</td>\n",
       "      <td>2013-01-04 23:30:00</td>\n",
       "      <td>2013-01-04 23:41:00</td>\n",
       "      <td>650.0</td>\n",
       "      <td>153.0</td>\n",
       "      <td>660.0</td>\n",
       "      <td>2013-01-04 23:40:50</td>\n",
       "    </tr>\n",
       "    <tr>\n",
       "      <th>...</th>\n",
       "      <td>...</td>\n",
       "      <td>...</td>\n",
       "      <td>...</td>\n",
       "      <td>...</td>\n",
       "      <td>...</td>\n",
       "      <td>...</td>\n",
       "      <td>...</td>\n",
       "      <td>...</td>\n",
       "      <td>...</td>\n",
       "      <td>...</td>\n",
       "      <td>...</td>\n",
       "      <td>...</td>\n",
       "      <td>...</td>\n",
       "    </tr>\n",
       "    <tr>\n",
       "      <th>790342</th>\n",
       "      <td>23580005.0</td>\n",
       "      <td>1028.0</td>\n",
       "      <td>1884.0</td>\n",
       "      <td>2013-07-26 05:36:00</td>\n",
       "      <td>312.0</td>\n",
       "      <td>2013-07-26 05:18:00</td>\n",
       "      <td>49.0</td>\n",
       "      <td>2013-07-26 05:18:00</td>\n",
       "      <td>2013-07-26 05:36:00</td>\n",
       "      <td>1028.0</td>\n",
       "      <td>312.0</td>\n",
       "      <td>1080.0</td>\n",
       "      <td>2013-07-26 05:35:08</td>\n",
       "    </tr>\n",
       "    <tr>\n",
       "      <th>790343</th>\n",
       "      <td>23603517.0</td>\n",
       "      <td>798.0</td>\n",
       "      <td>3114.0</td>\n",
       "      <td>2013-07-27 14:34:00</td>\n",
       "      <td>200.0</td>\n",
       "      <td>2013-07-27 14:20:00</td>\n",
       "      <td>298.0</td>\n",
       "      <td>2013-07-27 14:20:00</td>\n",
       "      <td>2013-07-27 14:34:00</td>\n",
       "      <td>798.0</td>\n",
       "      <td>200.0</td>\n",
       "      <td>840.0</td>\n",
       "      <td>2013-07-27 14:33:18</td>\n",
       "    </tr>\n",
       "    <tr>\n",
       "      <th>790344</th>\n",
       "      <td>23602287.0</td>\n",
       "      <td>481.0</td>\n",
       "      <td>4602.0</td>\n",
       "      <td>2013-07-27 09:17:00</td>\n",
       "      <td>33.0</td>\n",
       "      <td>2013-07-27 09:09:00</td>\n",
       "      <td>132.0</td>\n",
       "      <td>2013-07-27 09:09:00</td>\n",
       "      <td>2013-07-27 09:17:00</td>\n",
       "      <td>481.0</td>\n",
       "      <td>33.0</td>\n",
       "      <td>480.0</td>\n",
       "      <td>2013-07-27 09:17:01</td>\n",
       "    </tr>\n",
       "    <tr>\n",
       "      <th>790345</th>\n",
       "      <td>23849321.0</td>\n",
       "      <td>5368.0</td>\n",
       "      <td>9084.0</td>\n",
       "      <td>2013-08-04 11:12:00</td>\n",
       "      <td>584.0</td>\n",
       "      <td>2013-08-04 09:42:00</td>\n",
       "      <td>584.0</td>\n",
       "      <td>2013-08-04 09:42:00</td>\n",
       "      <td>2013-08-04 11:12:00</td>\n",
       "      <td>5368.0</td>\n",
       "      <td>584.0</td>\n",
       "      <td>5400.0</td>\n",
       "      <td>2013-08-04 11:11:28</td>\n",
       "    </tr>\n",
       "    <tr>\n",
       "      <th>790346</th>\n",
       "      <td>23593220.0</td>\n",
       "      <td>278.0</td>\n",
       "      <td>4812.0</td>\n",
       "      <td>2013-07-27 10:52:00</td>\n",
       "      <td>458.0</td>\n",
       "      <td>2013-07-27 10:48:00</td>\n",
       "      <td>46.0</td>\n",
       "      <td>2013-07-27 10:48:00</td>\n",
       "      <td>2013-07-27 10:52:00</td>\n",
       "      <td>278.0</td>\n",
       "      <td>458.0</td>\n",
       "      <td>240.0</td>\n",
       "      <td>2013-07-27 10:52:38</td>\n",
       "    </tr>\n",
       "  </tbody>\n",
       "</table>\n",
       "<p>141130 rows × 13 columns</p>\n",
       "</div>"
      ],
      "text/plain": [
       "         Rental Id  Duration  Bike Id            End Date  EndStation Id  \\\n",
       "39568   18892018.0     466.0   7201.0 2013-01-02 18:12:00           64.0   \n",
       "39569   18950611.0     823.0   4575.0 2013-01-05 11:09:00          331.0   \n",
       "39570   18919030.0     578.0   3522.0 2013-01-03 08:50:00          233.0   \n",
       "39571   18928492.0     854.0    349.0 2013-01-04 08:23:00          190.0   \n",
       "39572   18928002.0     650.0   1784.0 2013-01-04 23:41:00          153.0   \n",
       "...            ...       ...      ...                 ...            ...   \n",
       "790342  23580005.0    1028.0   1884.0 2013-07-26 05:36:00          312.0   \n",
       "790343  23603517.0     798.0   3114.0 2013-07-27 14:34:00          200.0   \n",
       "790344  23602287.0     481.0   4602.0 2013-07-27 09:17:00           33.0   \n",
       "790345  23849321.0    5368.0   9084.0 2013-08-04 11:12:00          584.0   \n",
       "790346  23593220.0     278.0   4812.0 2013-07-27 10:52:00          458.0   \n",
       "\n",
       "                Start Date  StartStation Id        Start Date 2  \\\n",
       "39568  2013-01-02 18:04:00            260.0 2013-01-02 18:04:00   \n",
       "39569  2013-01-05 10:55:00            314.0 2013-01-05 10:55:00   \n",
       "39570  2013-01-03 08:41:00            284.0 2013-01-03 08:41:00   \n",
       "39571  2013-01-04 08:08:00             91.0 2013-01-04 08:08:00   \n",
       "39572  2013-01-04 23:30:00            255.0 2013-01-04 23:30:00   \n",
       "...                    ...              ...                 ...   \n",
       "790342 2013-07-26 05:18:00             49.0 2013-07-26 05:18:00   \n",
       "790343 2013-07-27 14:20:00            298.0 2013-07-27 14:20:00   \n",
       "790344 2013-07-27 09:09:00            132.0 2013-07-27 09:09:00   \n",
       "790345 2013-08-04 09:42:00            584.0 2013-08-04 09:42:00   \n",
       "790346 2013-07-27 10:48:00             46.0 2013-07-27 10:48:00   \n",
       "\n",
       "                End Date 2  Duration 2  EndStation Id 2  duration_from_dates  \\\n",
       "39568  2013-01-02 18:12:00       466.0             64.0                480.0   \n",
       "39569  2013-01-05 11:09:00       823.0            331.0                840.0   \n",
       "39570  2013-01-03 08:50:00       578.0            233.0                540.0   \n",
       "39571  2013-01-04 08:23:00       854.0            190.0                900.0   \n",
       "39572  2013-01-04 23:41:00       650.0            153.0                660.0   \n",
       "...                    ...         ...              ...                  ...   \n",
       "790342 2013-07-26 05:36:00      1028.0            312.0               1080.0   \n",
       "790343 2013-07-27 14:34:00       798.0            200.0                840.0   \n",
       "790344 2013-07-27 09:17:00       481.0             33.0                480.0   \n",
       "790345 2013-08-04 11:12:00      5368.0            584.0               5400.0   \n",
       "790346 2013-07-27 10:52:00       278.0            458.0                240.0   \n",
       "\n",
       "       End Date from Duration  \n",
       "39568     2013-01-02 18:11:46  \n",
       "39569     2013-01-05 11:08:43  \n",
       "39570     2013-01-03 08:50:38  \n",
       "39571     2013-01-04 08:22:14  \n",
       "39572     2013-01-04 23:40:50  \n",
       "...                       ...  \n",
       "790342    2013-07-26 05:35:08  \n",
       "790343    2013-07-27 14:33:18  \n",
       "790344    2013-07-27 09:17:01  \n",
       "790345    2013-08-04 11:11:28  \n",
       "790346    2013-07-27 10:52:38  \n",
       "\n",
       "[141130 rows x 13 columns]"
      ]
     },
     "execution_count": 70,
     "metadata": {},
     "output_type": "execute_result"
    }
   ],
   "source": [
    "df_s_clean[df_s_clean['Duration 2'] != df_s_clean['duration_from_dates']]"
   ]
  },
  {
   "cell_type": "markdown",
   "metadata": {},
   "source": [
    "## Inspecting where the errors occur in time"
   ]
  },
  {
   "cell_type": "code",
   "execution_count": 71,
   "metadata": {},
   "outputs": [],
   "source": [
    "df_samp['suspect_dates'] = abs((df_samp['Duration 2'] - df_samp['duration_from_dates'])/df_samp['Duration 2']) > 1"
   ]
  },
  {
   "cell_type": "code",
   "execution_count": 72,
   "metadata": {},
   "outputs": [
    {
     "data": {
      "text/plain": [
       "<matplotlib.axes._subplots.AxesSubplot at 0x23d1077a8c8>"
      ]
     },
     "execution_count": 72,
     "metadata": {},
     "output_type": "execute_result"
    },
    {
     "data": {
      "image/png": "[encoded data removed]",
      "text/plain": [
       "<Figure size 432x288 with 1 Axes>"
      ]
     },
     "metadata": {
      "needs_background": "light"
     },
     "output_type": "display_data"
    }
   ],
   "source": [
    "df_samp.set_index('Start Date 2')['suspect_dates'].resample('M').sum().plot()"
   ]
  },
  {
   "cell_type": "code",
   "execution_count": 73,
   "metadata": {},
   "outputs": [
    {
     "data": {
      "text/plain": [
       "<matplotlib.axes._subplots.AxesSubplot at 0x23d119f3488>"
      ]
     },
     "execution_count": 73,
     "metadata": {},
     "output_type": "execute_result"
    },
    {
     "data": {
      "image/png": "[encoded data removed]",
      "text/plain": [
       "<Figure size 432x288 with 1 Axes>"
      ]
     },
     "metadata": {
      "needs_background": "light"
     },
     "output_type": "display_data"
    }
   ],
   "source": [
    "df_samp.set_index('End Date 2')['suspect_dates'].resample('M').sum().plot(color='r')"
   ]
  },
  {
   "cell_type": "code",
   "execution_count": 74,
   "metadata": {},
   "outputs": [
    {
     "data": {
      "text/plain": [
       "<matplotlib.axes._subplots.AxesSubplot at 0x23d11945ac8>"
      ]
     },
     "execution_count": 74,
     "metadata": {},
     "output_type": "execute_result"
    },
    {
     "data": {
      "image/png": "[encoded data removed]",
      "text/plain": [
       "<Figure size 432x288 with 1 Axes>"
      ]
     },
     "metadata": {
      "needs_background": "light"
     },
     "output_type": "display_data"
    }
   ],
   "source": [
    "df_samp['suspect_dates'].groupby(df_samp['Start Date 2'].dt.hour).sum().plot()"
   ]
  },
  {
   "cell_type": "code",
   "execution_count": 75,
   "metadata": {},
   "outputs": [
    {
     "data": {
      "text/plain": [
       "<matplotlib.axes._subplots.AxesSubplot at 0x23d119efac8>"
      ]
     },
     "execution_count": 75,
     "metadata": {},
     "output_type": "execute_result"
    },
    {
     "data": {
      "image/png": "[encoded data removed]",
      "text/plain": [
       "<Figure size 432x288 with 1 Axes>"
      ]
     },
     "metadata": {
      "needs_background": "light"
     },
     "output_type": "display_data"
    }
   ],
   "source": [
    "df_samp['suspect_dates'].groupby(df_samp['End Date 2'].dt.hour).sum().plot(color='r')"
   ]
  },
  {
   "cell_type": "code",
   "execution_count": 76,
   "metadata": {},
   "outputs": [
    {
     "ename": "TypeError",
     "evalue": "no numeric data to plot",
     "output_type": "error",
     "traceback": [
      "\u001b[1;31m---------------------------------------------------------------------------\u001b[0m",
      "\u001b[1;31mTypeError\u001b[0m                                 Traceback (most recent call last)",
      "\u001b[1;32m<ipython-input-76-29abe70135a9>\u001b[0m in \u001b[0;36m<module>\u001b[1;34m\u001b[0m\n\u001b[1;32m----> 1\u001b[1;33m \u001b[0mdf_samp\u001b[0m\u001b[1;33m[\u001b[0m\u001b[1;34m'suspect_dates'\u001b[0m\u001b[1;33m]\u001b[0m\u001b[1;33m.\u001b[0m\u001b[0mgroupby\u001b[0m\u001b[1;33m(\u001b[0m\u001b[1;33m[\u001b[0m\u001b[0mdf_samp\u001b[0m\u001b[1;33m[\u001b[0m\u001b[1;34m'Start Date 2'\u001b[0m\u001b[1;33m]\u001b[0m\u001b[1;33m.\u001b[0m\u001b[0mdt\u001b[0m\u001b[1;33m.\u001b[0m\u001b[0mhour\u001b[0m\u001b[1;33m,\u001b[0m \u001b[0mdf_samp\u001b[0m\u001b[1;33m[\u001b[0m\u001b[1;34m'Start Date 2'\u001b[0m\u001b[1;33m]\u001b[0m\u001b[1;33m.\u001b[0m\u001b[0mdt\u001b[0m\u001b[1;33m.\u001b[0m\u001b[0mminute\u001b[0m\u001b[1;33m]\u001b[0m\u001b[1;33m)\u001b[0m\u001b[1;33m.\u001b[0m\u001b[0msum\u001b[0m\u001b[1;33m(\u001b[0m\u001b[1;33m)\u001b[0m\u001b[1;33m.\u001b[0m\u001b[0mplot\u001b[0m\u001b[1;33m(\u001b[0m\u001b[1;33m)\u001b[0m\u001b[1;33m\u001b[0m\u001b[1;33m\u001b[0m\u001b[0m\n\u001b[0m",
      "\u001b[1;32m~\\Anaconda2\\envs\\tflProject\\lib\\site-packages\\pandas\\plotting\\_core.py\u001b[0m in \u001b[0;36m__call__\u001b[1;34m(self, *args, **kwargs)\u001b[0m\n\u001b[0;32m    845\u001b[0m                     \u001b[0mdata\u001b[0m\u001b[1;33m.\u001b[0m\u001b[0mcolumns\u001b[0m \u001b[1;33m=\u001b[0m \u001b[0mlabel_name\u001b[0m\u001b[1;33m\u001b[0m\u001b[1;33m\u001b[0m\u001b[0m\n\u001b[0;32m    846\u001b[0m \u001b[1;33m\u001b[0m\u001b[0m\n\u001b[1;32m--> 847\u001b[1;33m         \u001b[1;32mreturn\u001b[0m \u001b[0mplot_backend\u001b[0m\u001b[1;33m.\u001b[0m\u001b[0mplot\u001b[0m\u001b[1;33m(\u001b[0m\u001b[0mdata\u001b[0m\u001b[1;33m,\u001b[0m \u001b[0mkind\u001b[0m\u001b[1;33m=\u001b[0m\u001b[0mkind\u001b[0m\u001b[1;33m,\u001b[0m \u001b[1;33m**\u001b[0m\u001b[0mkwargs\u001b[0m\u001b[1;33m)\u001b[0m\u001b[1;33m\u001b[0m\u001b[1;33m\u001b[0m\u001b[0m\n\u001b[0m\u001b[0;32m    848\u001b[0m \u001b[1;33m\u001b[0m\u001b[0m\n\u001b[0;32m    849\u001b[0m     \u001b[0m__call__\u001b[0m\u001b[1;33m.\u001b[0m\u001b[0m__doc__\u001b[0m \u001b[1;33m=\u001b[0m \u001b[0m__doc__\u001b[0m\u001b[1;33m\u001b[0m\u001b[1;33m\u001b[0m\u001b[0m\n",
      "\u001b[1;32m~\\Anaconda2\\envs\\tflProject\\lib\\site-packages\\pandas\\plotting\\_matplotlib\\__init__.py\u001b[0m in \u001b[0;36mplot\u001b[1;34m(data, kind, **kwargs)\u001b[0m\n\u001b[0;32m     59\u001b[0m             \u001b[0mkwargs\u001b[0m\u001b[1;33m[\u001b[0m\u001b[1;34m\"ax\"\u001b[0m\u001b[1;33m]\u001b[0m \u001b[1;33m=\u001b[0m \u001b[0mgetattr\u001b[0m\u001b[1;33m(\u001b[0m\u001b[0max\u001b[0m\u001b[1;33m,\u001b[0m \u001b[1;34m\"left_ax\"\u001b[0m\u001b[1;33m,\u001b[0m \u001b[0max\u001b[0m\u001b[1;33m)\u001b[0m\u001b[1;33m\u001b[0m\u001b[1;33m\u001b[0m\u001b[0m\n\u001b[0;32m     60\u001b[0m     \u001b[0mplot_obj\u001b[0m \u001b[1;33m=\u001b[0m \u001b[0mPLOT_CLASSES\u001b[0m\u001b[1;33m[\u001b[0m\u001b[0mkind\u001b[0m\u001b[1;33m]\u001b[0m\u001b[1;33m(\u001b[0m\u001b[0mdata\u001b[0m\u001b[1;33m,\u001b[0m \u001b[1;33m**\u001b[0m\u001b[0mkwargs\u001b[0m\u001b[1;33m)\u001b[0m\u001b[1;33m\u001b[0m\u001b[1;33m\u001b[0m\u001b[0m\n\u001b[1;32m---> 61\u001b[1;33m     \u001b[0mplot_obj\u001b[0m\u001b[1;33m.\u001b[0m\u001b[0mgenerate\u001b[0m\u001b[1;33m(\u001b[0m\u001b[1;33m)\u001b[0m\u001b[1;33m\u001b[0m\u001b[1;33m\u001b[0m\u001b[0m\n\u001b[0m\u001b[0;32m     62\u001b[0m     \u001b[0mplot_obj\u001b[0m\u001b[1;33m.\u001b[0m\u001b[0mdraw\u001b[0m\u001b[1;33m(\u001b[0m\u001b[1;33m)\u001b[0m\u001b[1;33m\u001b[0m\u001b[1;33m\u001b[0m\u001b[0m\n\u001b[0;32m     63\u001b[0m     \u001b[1;32mreturn\u001b[0m \u001b[0mplot_obj\u001b[0m\u001b[1;33m.\u001b[0m\u001b[0mresult\u001b[0m\u001b[1;33m\u001b[0m\u001b[1;33m\u001b[0m\u001b[0m\n",
      "\u001b[1;32m~\\Anaconda2\\envs\\tflProject\\lib\\site-packages\\pandas\\plotting\\_matplotlib\\core.py\u001b[0m in \u001b[0;36mgenerate\u001b[1;34m(self)\u001b[0m\n\u001b[0;32m    259\u001b[0m     \u001b[1;32mdef\u001b[0m \u001b[0mgenerate\u001b[0m\u001b[1;33m(\u001b[0m\u001b[0mself\u001b[0m\u001b[1;33m)\u001b[0m\u001b[1;33m:\u001b[0m\u001b[1;33m\u001b[0m\u001b[1;33m\u001b[0m\u001b[0m\n\u001b[0;32m    260\u001b[0m         \u001b[0mself\u001b[0m\u001b[1;33m.\u001b[0m\u001b[0m_args_adjust\u001b[0m\u001b[1;33m(\u001b[0m\u001b[1;33m)\u001b[0m\u001b[1;33m\u001b[0m\u001b[1;33m\u001b[0m\u001b[0m\n\u001b[1;32m--> 261\u001b[1;33m         \u001b[0mself\u001b[0m\u001b[1;33m.\u001b[0m\u001b[0m_compute_plot_data\u001b[0m\u001b[1;33m(\u001b[0m\u001b[1;33m)\u001b[0m\u001b[1;33m\u001b[0m\u001b[1;33m\u001b[0m\u001b[0m\n\u001b[0m\u001b[0;32m    262\u001b[0m         \u001b[0mself\u001b[0m\u001b[1;33m.\u001b[0m\u001b[0m_setup_subplots\u001b[0m\u001b[1;33m(\u001b[0m\u001b[1;33m)\u001b[0m\u001b[1;33m\u001b[0m\u001b[1;33m\u001b[0m\u001b[0m\n\u001b[0;32m    263\u001b[0m         \u001b[0mself\u001b[0m\u001b[1;33m.\u001b[0m\u001b[0m_make_plot\u001b[0m\u001b[1;33m(\u001b[0m\u001b[1;33m)\u001b[0m\u001b[1;33m\u001b[0m\u001b[1;33m\u001b[0m\u001b[0m\n",
      "\u001b[1;32m~\\Anaconda2\\envs\\tflProject\\lib\\site-packages\\pandas\\plotting\\_matplotlib\\core.py\u001b[0m in \u001b[0;36m_compute_plot_data\u001b[1;34m(self)\u001b[0m\n\u001b[0;32m    408\u001b[0m         \u001b[1;31m# no non-numeric frames or series allowed\u001b[0m\u001b[1;33m\u001b[0m\u001b[1;33m\u001b[0m\u001b[1;33m\u001b[0m\u001b[0m\n\u001b[0;32m    409\u001b[0m         \u001b[1;32mif\u001b[0m \u001b[0mis_empty\u001b[0m\u001b[1;33m:\u001b[0m\u001b[1;33m\u001b[0m\u001b[1;33m\u001b[0m\u001b[0m\n\u001b[1;32m--> 410\u001b[1;33m             \u001b[1;32mraise\u001b[0m \u001b[0mTypeError\u001b[0m\u001b[1;33m(\u001b[0m\u001b[1;34m\"no numeric data to plot\"\u001b[0m\u001b[1;33m)\u001b[0m\u001b[1;33m\u001b[0m\u001b[1;33m\u001b[0m\u001b[0m\n\u001b[0m\u001b[0;32m    411\u001b[0m \u001b[1;33m\u001b[0m\u001b[0m\n\u001b[0;32m    412\u001b[0m         \u001b[1;31m# GH25587: cast ExtensionArray of pandas (IntegerArray, etc.) to\u001b[0m\u001b[1;33m\u001b[0m\u001b[1;33m\u001b[0m\u001b[1;33m\u001b[0m\u001b[0m\n",
      "\u001b[1;31mTypeError\u001b[0m: no numeric data to plot"
     ]
    }
   ],
   "source": [
    "df_samp['suspect_dates'].groupby([df_samp['Start Date 2'].dt.hour, df_samp['Start Date 2'].dt.minute]).sum().plot()"
   ]
  },
  {
   "cell_type": "code",
   "execution_count": 77,
   "metadata": {},
   "outputs": [
    {
     "ename": "TypeError",
     "evalue": "no numeric data to plot",
     "output_type": "error",
     "traceback": [
      "\u001b[1;31m---------------------------------------------------------------------------\u001b[0m",
      "\u001b[1;31mTypeError\u001b[0m                                 Traceback (most recent call last)",
      "\u001b[1;32m<ipython-input-77-5758d8e191f4>\u001b[0m in \u001b[0;36m<module>\u001b[1;34m\u001b[0m\n\u001b[1;32m----> 1\u001b[1;33m \u001b[0mdf_samp\u001b[0m\u001b[1;33m[\u001b[0m\u001b[1;34m'suspect_dates'\u001b[0m\u001b[1;33m]\u001b[0m\u001b[1;33m.\u001b[0m\u001b[0mgroupby\u001b[0m\u001b[1;33m(\u001b[0m\u001b[1;33m[\u001b[0m\u001b[0mdf_samp\u001b[0m\u001b[1;33m[\u001b[0m\u001b[1;34m'End Date 2'\u001b[0m\u001b[1;33m]\u001b[0m\u001b[1;33m.\u001b[0m\u001b[0mdt\u001b[0m\u001b[1;33m.\u001b[0m\u001b[0mhour\u001b[0m\u001b[1;33m,\u001b[0m \u001b[0mdf_samp\u001b[0m\u001b[1;33m[\u001b[0m\u001b[1;34m'End Date 2'\u001b[0m\u001b[1;33m]\u001b[0m\u001b[1;33m.\u001b[0m\u001b[0mdt\u001b[0m\u001b[1;33m.\u001b[0m\u001b[0mminute\u001b[0m\u001b[1;33m]\u001b[0m\u001b[1;33m)\u001b[0m\u001b[1;33m.\u001b[0m\u001b[0msum\u001b[0m\u001b[1;33m(\u001b[0m\u001b[1;33m)\u001b[0m\u001b[1;33m.\u001b[0m\u001b[0mplot\u001b[0m\u001b[1;33m(\u001b[0m\u001b[0mcolor\u001b[0m\u001b[1;33m=\u001b[0m\u001b[1;34m'r'\u001b[0m\u001b[1;33m)\u001b[0m\u001b[1;33m\u001b[0m\u001b[1;33m\u001b[0m\u001b[0m\n\u001b[0m",
      "\u001b[1;32m~\\Anaconda2\\envs\\tflProject\\lib\\site-packages\\pandas\\plotting\\_core.py\u001b[0m in \u001b[0;36m__call__\u001b[1;34m(self, *args, **kwargs)\u001b[0m\n\u001b[0;32m    845\u001b[0m                     \u001b[0mdata\u001b[0m\u001b[1;33m.\u001b[0m\u001b[0mcolumns\u001b[0m \u001b[1;33m=\u001b[0m \u001b[0mlabel_name\u001b[0m\u001b[1;33m\u001b[0m\u001b[1;33m\u001b[0m\u001b[0m\n\u001b[0;32m    846\u001b[0m \u001b[1;33m\u001b[0m\u001b[0m\n\u001b[1;32m--> 847\u001b[1;33m         \u001b[1;32mreturn\u001b[0m \u001b[0mplot_backend\u001b[0m\u001b[1;33m.\u001b[0m\u001b[0mplot\u001b[0m\u001b[1;33m(\u001b[0m\u001b[0mdata\u001b[0m\u001b[1;33m,\u001b[0m \u001b[0mkind\u001b[0m\u001b[1;33m=\u001b[0m\u001b[0mkind\u001b[0m\u001b[1;33m,\u001b[0m \u001b[1;33m**\u001b[0m\u001b[0mkwargs\u001b[0m\u001b[1;33m)\u001b[0m\u001b[1;33m\u001b[0m\u001b[1;33m\u001b[0m\u001b[0m\n\u001b[0m\u001b[0;32m    848\u001b[0m \u001b[1;33m\u001b[0m\u001b[0m\n\u001b[0;32m    849\u001b[0m     \u001b[0m__call__\u001b[0m\u001b[1;33m.\u001b[0m\u001b[0m__doc__\u001b[0m \u001b[1;33m=\u001b[0m \u001b[0m__doc__\u001b[0m\u001b[1;33m\u001b[0m\u001b[1;33m\u001b[0m\u001b[0m\n",
      "\u001b[1;32m~\\Anaconda2\\envs\\tflProject\\lib\\site-packages\\pandas\\plotting\\_matplotlib\\__init__.py\u001b[0m in \u001b[0;36mplot\u001b[1;34m(data, kind, **kwargs)\u001b[0m\n\u001b[0;32m     59\u001b[0m             \u001b[0mkwargs\u001b[0m\u001b[1;33m[\u001b[0m\u001b[1;34m\"ax\"\u001b[0m\u001b[1;33m]\u001b[0m \u001b[1;33m=\u001b[0m \u001b[0mgetattr\u001b[0m\u001b[1;33m(\u001b[0m\u001b[0max\u001b[0m\u001b[1;33m,\u001b[0m \u001b[1;34m\"left_ax\"\u001b[0m\u001b[1;33m,\u001b[0m \u001b[0max\u001b[0m\u001b[1;33m)\u001b[0m\u001b[1;33m\u001b[0m\u001b[1;33m\u001b[0m\u001b[0m\n\u001b[0;32m     60\u001b[0m     \u001b[0mplot_obj\u001b[0m \u001b[1;33m=\u001b[0m \u001b[0mPLOT_CLASSES\u001b[0m\u001b[1;33m[\u001b[0m\u001b[0mkind\u001b[0m\u001b[1;33m]\u001b[0m\u001b[1;33m(\u001b[0m\u001b[0mdata\u001b[0m\u001b[1;33m,\u001b[0m \u001b[1;33m**\u001b[0m\u001b[0mkwargs\u001b[0m\u001b[1;33m)\u001b[0m\u001b[1;33m\u001b[0m\u001b[1;33m\u001b[0m\u001b[0m\n\u001b[1;32m---> 61\u001b[1;33m     \u001b[0mplot_obj\u001b[0m\u001b[1;33m.\u001b[0m\u001b[0mgenerate\u001b[0m\u001b[1;33m(\u001b[0m\u001b[1;33m)\u001b[0m\u001b[1;33m\u001b[0m\u001b[1;33m\u001b[0m\u001b[0m\n\u001b[0m\u001b[0;32m     62\u001b[0m     \u001b[0mplot_obj\u001b[0m\u001b[1;33m.\u001b[0m\u001b[0mdraw\u001b[0m\u001b[1;33m(\u001b[0m\u001b[1;33m)\u001b[0m\u001b[1;33m\u001b[0m\u001b[1;33m\u001b[0m\u001b[0m\n\u001b[0;32m     63\u001b[0m     \u001b[1;32mreturn\u001b[0m \u001b[0mplot_obj\u001b[0m\u001b[1;33m.\u001b[0m\u001b[0mresult\u001b[0m\u001b[1;33m\u001b[0m\u001b[1;33m\u001b[0m\u001b[0m\n",
      "\u001b[1;32m~\\Anaconda2\\envs\\tflProject\\lib\\site-packages\\pandas\\plotting\\_matplotlib\\core.py\u001b[0m in \u001b[0;36mgenerate\u001b[1;34m(self)\u001b[0m\n\u001b[0;32m    259\u001b[0m     \u001b[1;32mdef\u001b[0m \u001b[0mgenerate\u001b[0m\u001b[1;33m(\u001b[0m\u001b[0mself\u001b[0m\u001b[1;33m)\u001b[0m\u001b[1;33m:\u001b[0m\u001b[1;33m\u001b[0m\u001b[1;33m\u001b[0m\u001b[0m\n\u001b[0;32m    260\u001b[0m         \u001b[0mself\u001b[0m\u001b[1;33m.\u001b[0m\u001b[0m_args_adjust\u001b[0m\u001b[1;33m(\u001b[0m\u001b[1;33m)\u001b[0m\u001b[1;33m\u001b[0m\u001b[1;33m\u001b[0m\u001b[0m\n\u001b[1;32m--> 261\u001b[1;33m         \u001b[0mself\u001b[0m\u001b[1;33m.\u001b[0m\u001b[0m_compute_plot_data\u001b[0m\u001b[1;33m(\u001b[0m\u001b[1;33m)\u001b[0m\u001b[1;33m\u001b[0m\u001b[1;33m\u001b[0m\u001b[0m\n\u001b[0m\u001b[0;32m    262\u001b[0m         \u001b[0mself\u001b[0m\u001b[1;33m.\u001b[0m\u001b[0m_setup_subplots\u001b[0m\u001b[1;33m(\u001b[0m\u001b[1;33m)\u001b[0m\u001b[1;33m\u001b[0m\u001b[1;33m\u001b[0m\u001b[0m\n\u001b[0;32m    263\u001b[0m         \u001b[0mself\u001b[0m\u001b[1;33m.\u001b[0m\u001b[0m_make_plot\u001b[0m\u001b[1;33m(\u001b[0m\u001b[1;33m)\u001b[0m\u001b[1;33m\u001b[0m\u001b[1;33m\u001b[0m\u001b[0m\n",
      "\u001b[1;32m~\\Anaconda2\\envs\\tflProject\\lib\\site-packages\\pandas\\plotting\\_matplotlib\\core.py\u001b[0m in \u001b[0;36m_compute_plot_data\u001b[1;34m(self)\u001b[0m\n\u001b[0;32m    408\u001b[0m         \u001b[1;31m# no non-numeric frames or series allowed\u001b[0m\u001b[1;33m\u001b[0m\u001b[1;33m\u001b[0m\u001b[1;33m\u001b[0m\u001b[0m\n\u001b[0;32m    409\u001b[0m         \u001b[1;32mif\u001b[0m \u001b[0mis_empty\u001b[0m\u001b[1;33m:\u001b[0m\u001b[1;33m\u001b[0m\u001b[1;33m\u001b[0m\u001b[0m\n\u001b[1;32m--> 410\u001b[1;33m             \u001b[1;32mraise\u001b[0m \u001b[0mTypeError\u001b[0m\u001b[1;33m(\u001b[0m\u001b[1;34m\"no numeric data to plot\"\u001b[0m\u001b[1;33m)\u001b[0m\u001b[1;33m\u001b[0m\u001b[1;33m\u001b[0m\u001b[0m\n\u001b[0m\u001b[0;32m    411\u001b[0m \u001b[1;33m\u001b[0m\u001b[0m\n\u001b[0;32m    412\u001b[0m         \u001b[1;31m# GH25587: cast ExtensionArray of pandas (IntegerArray, etc.) to\u001b[0m\u001b[1;33m\u001b[0m\u001b[1;33m\u001b[0m\u001b[1;33m\u001b[0m\u001b[0m\n",
      "\u001b[1;31mTypeError\u001b[0m: no numeric data to plot"
     ]
    }
   ],
   "source": [
    "df_samp['suspect_dates'].groupby([df_samp['End Date 2'].dt.hour, df_samp['End Date 2'].dt.minute]).sum().plot(color='r')"
   ]
  },
  {
   "cell_type": "code",
   "execution_count": 78,
   "metadata": {},
   "outputs": [
    {
     "data": {
      "text/plain": [
       "<matplotlib.axes._subplots.AxesSubplot at 0x23d11b94d88>"
      ]
     },
     "execution_count": 78,
     "metadata": {},
     "output_type": "execute_result"
    },
    {
     "data": {
      "image/png": "[encoded data removed]",
      "text/plain": [
       "<Figure size 432x288 with 1 Axes>"
      ]
     },
     "metadata": {
      "needs_background": "light"
     },
     "output_type": "display_data"
    }
   ],
   "source": [
    "df_samp['suspect_dates'].groupby(df_samp['Start Date 2'].dt.day).sum().plot()"
   ]
  },
  {
   "cell_type": "code",
   "execution_count": 79,
   "metadata": {},
   "outputs": [
    {
     "data": {
      "text/plain": [
       "<matplotlib.axes._subplots.AxesSubplot at 0x23d106d0708>"
      ]
     },
     "execution_count": 79,
     "metadata": {},
     "output_type": "execute_result"
    },
    {
     "data": {
      "image/png": "[encoded data removed]",
      "text/plain": [
       "<Figure size 432x288 with 1 Axes>"
      ]
     },
     "metadata": {
      "needs_background": "light"
     },
     "output_type": "display_data"
    }
   ],
   "source": [
    "df_samp['suspect_dates'].groupby(df_samp['End Date 2'].dt.day).sum().plot(color='r')"
   ]
  },
  {
   "cell_type": "markdown",
   "metadata": {},
   "source": [
    "This confirms my suspcions that this related to the end of the day and the cross-over to the next day.\n",
    "\n",
    "It appears that start date is reliable and the issue is related to how end-date is calculated. I'm not sure how to reproduce it in all edge cases (e.g. last day of the month) but a typical non-edge-case is:\n",
    "\n",
    "* start date is (Y, M, D) with a time close to the end of the day\n",
    "* end date is expected to be (Y, M, D+1) with hours in the early morning\n",
    "* Given end date is in-fact: (Y, D, M+1) with hours in the early morning\n",
    "\n",
    "It seems that a good fix would be to _assume start date and duration are accurate_ and correct the end-date. "
   ]
  },
  {
   "cell_type": "code",
   "execution_count": 80,
   "metadata": {},
   "outputs": [],
   "source": [
    "def correct_suspect_enddates(df, tolerance=60):\n",
    "    \"\"\" Void function: adds 'End Date 3' column to the dataframe. \n",
    "    \n",
    "    There appears to be an issue where end-dates are inconsistent with duration, especially when a journey passes over midnight. \n",
    "    \n",
    "    This function updates End Date 3 to be start date + duration, if end_date - start_date is more than 'tolerance' seconds 'out' \n",
    "    from the stated duration\n",
    "    \"\"\"\n",
    "    duration_from_dates = (df['End Date 2'] - df['Start Date 2'])/np.timedelta64(1,'s')\n",
    "    diff = duration_from_dates - df['Duration 2']\n",
    "    \n",
    "    # where dif\n",
    "    df['End Date 3']= df['End Date 2'].where(\n",
    "        abs(diff) <= tolerance | df['End Date 2'].isna()\n",
    "        ,df['Start Date 2'] + pd.to_timedelta(df_samp['Duration 2'], unit='s')\n",
    "        ,axis=0\n",
    "    )"
   ]
  },
  {
   "cell_type": "code",
   "execution_count": 81,
   "metadata": {},
   "outputs": [],
   "source": [
    "correct_suspect_enddates(df_samp, tolerance=60)"
   ]
  },
  {
   "cell_type": "code",
   "execution_count": 82,
   "metadata": {},
   "outputs": [
    {
     "data": {
      "text/plain": [
       "<matplotlib.collections.PathCollection at 0x23d11e58908>"
      ]
     },
     "execution_count": 82,
     "metadata": {},
     "output_type": "execute_result"
    },
    {
     "data": {
      "image/png": "[encoded data removed]",
      "text/plain": [
       "<Figure size 432x288 with 1 Axes>"
      ]
     },
     "metadata": {
      "needs_background": "light"
     },
     "output_type": "display_data"
    }
   ],
   "source": [
    "df_samp['duration_from_dates_2'] = (df_samp['End Date 3'] - df_samp['Start Date 2'])/np.timedelta64(1,'s')\n",
    "plt.scatter(df_samp['Duration 2'].tolist(), df_samp['duration_from_dates_2'].tolist())"
   ]
  },
  {
   "cell_type": "markdown",
   "metadata": {},
   "source": [
    "## Checking if python script has implemented correctly"
   ]
  },
  {
   "cell_type": "code",
   "execution_count": 83,
   "metadata": {},
   "outputs": [],
   "source": [
    "cleaned_path = Path('tfl_project/data/cycle_journeys/JourneysDataCombined_CLEANSED.csv')"
   ]
  },
  {
   "cell_type": "code",
   "execution_count": 84,
   "metadata": {},
   "outputs": [],
   "source": [
    "p = 0.02\n",
    "random.seed(16)\n",
    "df_cleansed = pd.read_csv(\n",
    "        cleaned_path\n",
    "        ,header=0\n",
    "        ,sep=','\n",
    "        ,skiprows=lambda i: i>0 and random.random() > p\n",
    "        ,parse_dates=['Start Date', 'End Date']\n",
    "        ,infer_datetime_format=True\n",
    "        ,dayfirst=True\n",
    ")"
   ]
  },
  {
   "cell_type": "code",
   "execution_count": 85,
   "metadata": {},
   "outputs": [
    {
     "data": {
      "text/html": [
       "<div>\n",
       "<style scoped>\n",
       "    .dataframe tbody tr th:only-of-type {\n",
       "        vertical-align: middle;\n",
       "    }\n",
       "\n",
       "    .dataframe tbody tr th {\n",
       "        vertical-align: top;\n",
       "    }\n",
       "\n",
       "    .dataframe thead th {\n",
       "        text-align: right;\n",
       "    }\n",
       "</style>\n",
       "<table border=\"1\" class=\"dataframe\">\n",
       "  <thead>\n",
       "    <tr style=\"text-align: right;\">\n",
       "      <th></th>\n",
       "      <th>Rental Id</th>\n",
       "      <th>Duration</th>\n",
       "      <th>Bike Id</th>\n",
       "      <th>End Date</th>\n",
       "      <th>EndStation Id</th>\n",
       "      <th>Start Date</th>\n",
       "      <th>StartStation Id</th>\n",
       "    </tr>\n",
       "  </thead>\n",
       "  <tbody>\n",
       "    <tr>\n",
       "      <th>1258713</th>\n",
       "      <td>12533291.0</td>\n",
       "      <td>NaN</td>\n",
       "      <td>5871.0</td>\n",
       "      <td>NaT</td>\n",
       "      <td>NaN</td>\n",
       "      <td>1901-04-22</td>\n",
       "      <td>478.0</td>\n",
       "    </tr>\n",
       "  </tbody>\n",
       "</table>\n",
       "</div>"
      ],
      "text/plain": [
       "          Rental Id  Duration  Bike Id End Date  EndStation Id Start Date  \\\n",
       "1258713  12533291.0       NaN   5871.0      NaT            NaN 1901-04-22   \n",
       "\n",
       "         StartStation Id  \n",
       "1258713            478.0  "
      ]
     },
     "execution_count": 85,
     "metadata": {},
     "output_type": "execute_result"
    }
   ],
   "source": [
    "df_cleansed[df_cleansed['Start Date'] < '2012']"
   ]
  },
  {
   "cell_type": "code",
   "execution_count": 86,
   "metadata": {},
   "outputs": [
    {
     "data": {
      "text/plain": [
       "<matplotlib.collections.PathCollection at 0x23d21c04488>"
      ]
     },
     "execution_count": 86,
     "metadata": {},
     "output_type": "execute_result"
    },
    {
     "data": {
      "image/png": "[encoded data removed]",
      "text/plain": [
       "<Figure size 432x288 with 1 Axes>"
      ]
     },
     "metadata": {
      "needs_background": "light"
     },
     "output_type": "display_data"
    }
   ],
   "source": [
    "df_cleansed['duration_from_dates'] = (df_cleansed['End Date'] - df_cleansed['Start Date'])/np.timedelta64(1,'s')\n",
    "plt.scatter(df_cleansed['Duration'].tolist(), df_cleansed['duration_from_dates'].tolist())"
   ]
  },
  {
   "cell_type": "code",
   "execution_count": 87,
   "metadata": {},
   "outputs": [
    {
     "data": {
      "text/plain": [
       "<matplotlib.axes._subplots.AxesSubplot at 0x23d21c24f08>"
      ]
     },
     "execution_count": 87,
     "metadata": {},
     "output_type": "execute_result"
    },
    {
     "data": {
      "image/png": "[encoded data removed]",
      "text/plain": [
       "<Figure size 432x288 with 1 Axes>"
      ]
     },
     "metadata": {
      "needs_background": "light"
     },
     "output_type": "display_data"
    }
   ],
   "source": [
    "# Plot 'corrected' timeseries of journeys\n",
    "df_cleansed.groupby('Start Date').count()['Rental Id'].plot()"
   ]
  },
  {
   "cell_type": "markdown",
   "metadata": {},
   "source": [
    "Ultimately some issues persist with early start date, but I always specify a year range when using the data anyway"
   ]
  },
  {
   "cell_type": "markdown",
   "metadata": {},
   "source": [
    "---\n",
    "# Cleanse Stations\n",
    "We will need to cleanse the station ids as certain files have corrupted schemas. \n",
    "\n",
    "But, this could turn-out to be quite a big part of the project! "
   ]
  },
  {
   "cell_type": "code",
   "execution_count": 88,
   "metadata": {},
   "outputs": [],
   "source": [
    "st_lkp = pd.read_csv(stations_path)"
   ]
  },
  {
   "cell_type": "code",
   "execution_count": 89,
   "metadata": {},
   "outputs": [
    {
     "data": {
      "text/html": [
       "<div>\n",
       "<style scoped>\n",
       "    .dataframe tbody tr th:only-of-type {\n",
       "        vertical-align: middle;\n",
       "    }\n",
       "\n",
       "    .dataframe tbody tr th {\n",
       "        vertical-align: top;\n",
       "    }\n",
       "\n",
       "    .dataframe thead th {\n",
       "        text-align: right;\n",
       "    }\n",
       "</style>\n",
       "<table border=\"1\" class=\"dataframe\">\n",
       "  <thead>\n",
       "    <tr style=\"text-align: right;\">\n",
       "      <th></th>\n",
       "      <th>Station ID</th>\n",
       "      <th>Station Name</th>\n",
       "    </tr>\n",
       "  </thead>\n",
       "  <tbody>\n",
       "    <tr>\n",
       "      <th>0</th>\n",
       "      <td>1027</td>\n",
       "      <td>Warwick Avenue Station, Maida Vale</td>\n",
       "    </tr>\n",
       "    <tr>\n",
       "      <th>1</th>\n",
       "      <td>1102</td>\n",
       "      <td>Leman Street, Aldgate</td>\n",
       "    </tr>\n",
       "    <tr>\n",
       "      <th>2</th>\n",
       "      <td>1103</td>\n",
       "      <td>Pimlico,0</td>\n",
       "    </tr>\n",
       "    <tr>\n",
       "      <th>3</th>\n",
       "      <td>506</td>\n",
       "      <td>Bell Lane: Liverpool Street</td>\n",
       "    </tr>\n",
       "    <tr>\n",
       "      <th>4</th>\n",
       "      <td>251</td>\n",
       "      <td>Brushfield Street: Liverpool Street</td>\n",
       "    </tr>\n",
       "    <tr>\n",
       "      <th>...</th>\n",
       "      <td>...</td>\n",
       "      <td>...</td>\n",
       "    </tr>\n",
       "    <tr>\n",
       "      <th>2916</th>\n",
       "      <td>3427</td>\n",
       "      <td>Hoxton,0</td>\n",
       "    </tr>\n",
       "    <tr>\n",
       "      <th>2917</th>\n",
       "      <td>200175</td>\n",
       "      <td>Wandsworth Rd, Isley Court, Wandsworth Road</td>\n",
       "    </tr>\n",
       "    <tr>\n",
       "      <th>2918</th>\n",
       "      <td>3490</td>\n",
       "      <td>Paddington,0</td>\n",
       "    </tr>\n",
       "    <tr>\n",
       "      <th>2919</th>\n",
       "      <td>466</td>\n",
       "      <td>Whiston Road: Haggerston</td>\n",
       "    </tr>\n",
       "    <tr>\n",
       "      <th>2920</th>\n",
       "      <td>595</td>\n",
       "      <td>Hammersmith Road, Hammersmith</td>\n",
       "    </tr>\n",
       "  </tbody>\n",
       "</table>\n",
       "<p>2921 rows × 2 columns</p>\n",
       "</div>"
      ],
      "text/plain": [
       "     Station ID                                 Station Name\n",
       "0          1027           Warwick Avenue Station, Maida Vale\n",
       "1          1102                        Leman Street, Aldgate\n",
       "2          1103                                    Pimlico,0\n",
       "3           506                  Bell Lane: Liverpool Street\n",
       "4           251          Brushfield Street: Liverpool Street\n",
       "...         ...                                          ...\n",
       "2916       3427                                     Hoxton,0\n",
       "2917     200175  Wandsworth Rd, Isley Court, Wandsworth Road\n",
       "2918       3490                                 Paddington,0\n",
       "2919        466                     Whiston Road: Haggerston\n",
       "2920        595                Hammersmith Road, Hammersmith\n",
       "\n",
       "[2921 rows x 2 columns]"
      ]
     },
     "execution_count": 89,
     "metadata": {},
     "output_type": "execute_result"
    }
   ],
   "source": [
    "st_lkp"
   ]
  },
  {
   "cell_type": "markdown",
   "metadata": {},
   "source": [
    "## Fetch an authority lookup from the TfL API"
   ]
  },
  {
   "cell_type": "code",
   "execution_count": 90,
   "metadata": {},
   "outputs": [],
   "source": [
    "def read_api_credentials(txt_file):\n",
    "    \"\"\"User is required to save a txt file with two lines: the first being their applicationID\n",
    "    and the second being their application key\"\"\"\n",
    "    global credentials\n",
    "    credentials = {}\n",
    "    with open(txt_file) as f:\n",
    "        credentials['app_id'] = f.readline().rstrip()\n",
    "        credentials['app_key'] = f.readline().rstrip()"
   ]
  },
  {
   "cell_type": "code",
   "execution_count": 93,
   "metadata": {},
   "outputs": [],
   "source": [
    "creds = Path('tfl_project/tfl_api_logger/apiCredentials.txt')"
   ]
  },
  {
   "cell_type": "code",
   "execution_count": 94,
   "metadata": {},
   "outputs": [],
   "source": [
    "read_api_credentials(creds)"
   ]
  },
  {
   "cell_type": "code",
   "execution_count": 95,
   "metadata": {},
   "outputs": [],
   "source": [
    "import requests\n",
    "import json"
   ]
  },
  {
   "cell_type": "code",
   "execution_count": 96,
   "metadata": {},
   "outputs": [],
   "source": [
    "response = requests.get('https://api.tfl.gov.uk/bikepoint', params=credentials)"
   ]
  },
  {
   "cell_type": "code",
   "execution_count": 97,
   "metadata": {
    "scrolled": true
   },
   "outputs": [
    {
     "data": {
      "text/plain": [
       "{'$type': 'Tfl.Api.Presentation.Entities.Place, Tfl.Api.Presentation.Entities',\n",
       " 'id': 'BikePoints_1',\n",
       " 'url': '/Place/BikePoints_1',\n",
       " 'commonName': 'River Street , Clerkenwell',\n",
       " 'placeType': 'BikePoint',\n",
       " 'additionalProperties': [{'$type': 'Tfl.Api.Presentation.Entities.AdditionalProperties, Tfl.Api.Presentation.Entities',\n",
       "   'category': 'Description',\n",
       "   'key': 'TerminalName',\n",
       "   'sourceSystemKey': 'BikePoints',\n",
       "   'value': '001023',\n",
       "   'modified': '2020-08-28T16:44:59.04Z'},\n",
       "  {'$type': 'Tfl.Api.Presentation.Entities.AdditionalProperties, Tfl.Api.Presentation.Entities',\n",
       "   'category': 'Description',\n",
       "   'key': 'Installed',\n",
       "   'sourceSystemKey': 'BikePoints',\n",
       "   'value': 'true',\n",
       "   'modified': '2020-08-28T16:44:59.04Z'},\n",
       "  {'$type': 'Tfl.Api.Presentation.Entities.AdditionalProperties, Tfl.Api.Presentation.Entities',\n",
       "   'category': 'Description',\n",
       "   'key': 'Locked',\n",
       "   'sourceSystemKey': 'BikePoints',\n",
       "   'value': 'false',\n",
       "   'modified': '2020-08-28T16:44:59.04Z'},\n",
       "  {'$type': 'Tfl.Api.Presentation.Entities.AdditionalProperties, Tfl.Api.Presentation.Entities',\n",
       "   'category': 'Description',\n",
       "   'key': 'InstallDate',\n",
       "   'sourceSystemKey': 'BikePoints',\n",
       "   'value': '1278947280000',\n",
       "   'modified': '2020-08-28T16:44:59.04Z'},\n",
       "  {'$type': 'Tfl.Api.Presentation.Entities.AdditionalProperties, Tfl.Api.Presentation.Entities',\n",
       "   'category': 'Description',\n",
       "   'key': 'RemovalDate',\n",
       "   'sourceSystemKey': 'BikePoints',\n",
       "   'value': '',\n",
       "   'modified': '2020-08-28T16:44:59.04Z'},\n",
       "  {'$type': 'Tfl.Api.Presentation.Entities.AdditionalProperties, Tfl.Api.Presentation.Entities',\n",
       "   'category': 'Description',\n",
       "   'key': 'Temporary',\n",
       "   'sourceSystemKey': 'BikePoints',\n",
       "   'value': 'false',\n",
       "   'modified': '2020-08-28T16:44:59.04Z'},\n",
       "  {'$type': 'Tfl.Api.Presentation.Entities.AdditionalProperties, Tfl.Api.Presentation.Entities',\n",
       "   'category': 'Description',\n",
       "   'key': 'NbBikes',\n",
       "   'sourceSystemKey': 'BikePoints',\n",
       "   'value': '10',\n",
       "   'modified': '2020-08-28T16:44:59.04Z'},\n",
       "  {'$type': 'Tfl.Api.Presentation.Entities.AdditionalProperties, Tfl.Api.Presentation.Entities',\n",
       "   'category': 'Description',\n",
       "   'key': 'NbEmptyDocks',\n",
       "   'sourceSystemKey': 'BikePoints',\n",
       "   'value': '9',\n",
       "   'modified': '2020-08-28T16:44:59.04Z'},\n",
       "  {'$type': 'Tfl.Api.Presentation.Entities.AdditionalProperties, Tfl.Api.Presentation.Entities',\n",
       "   'category': 'Description',\n",
       "   'key': 'NbDocks',\n",
       "   'sourceSystemKey': 'BikePoints',\n",
       "   'value': '19',\n",
       "   'modified': '2020-08-28T16:44:59.04Z'}],\n",
       " 'children': [],\n",
       " 'childrenUrls': [],\n",
       " 'lat': 51.529163,\n",
       " 'lon': -0.10997}"
      ]
     },
     "execution_count": 97,
     "metadata": {},
     "output_type": "execute_result"
    }
   ],
   "source": [
    "response.json()[0]"
   ]
  },
  {
   "cell_type": "code",
   "execution_count": 98,
   "metadata": {},
   "outputs": [],
   "source": [
    "bp_ids = [int(d['id'][11:]) for d in response.json()]"
   ]
  },
  {
   "cell_type": "code",
   "execution_count": 99,
   "metadata": {},
   "outputs": [],
   "source": [
    "t_names = []\n",
    "\n",
    "for d in response.json():\n",
    "    for prop in d['additionalProperties']:\n",
    "        if prop['key'] == 'TerminalName':\n",
    "            t_names.append(int(prop['value']))"
   ]
  },
  {
   "cell_type": "code",
   "execution_count": 100,
   "metadata": {},
   "outputs": [],
   "source": [
    "commonNames = [d['commonName'] for d in response.json()]"
   ]
  },
  {
   "cell_type": "code",
   "execution_count": 101,
   "metadata": {},
   "outputs": [],
   "source": [
    "bp_dict = dict(zip(bp_ids, commonNames))"
   ]
  },
  {
   "cell_type": "code",
   "execution_count": 102,
   "metadata": {},
   "outputs": [],
   "source": [
    "tn_dict = dict(zip(t_names, commonNames))"
   ]
  },
  {
   "cell_type": "markdown",
   "metadata": {},
   "source": [
    "## Merge our station_lookup with this authority data"
   ]
  },
  {
   "cell_type": "code",
   "execution_count": 103,
   "metadata": {},
   "outputs": [],
   "source": [
    "for i, row in st_lkp.iterrows():\n",
    "    try:\n",
    "        st_id = int(row['Station ID'])\n",
    "    except ValueError:\n",
    "        st_id = np.nan\n",
    "    if st_id in bp_dict:\n",
    "        st_lkp.at[i, 'bikepoint_desc'] = bp_dict[st_id]\n",
    "    else:\n",
    "        st_lkp.at[i, 'bikepoint_desc'] = ''\n",
    "    if st_id in tn_dict:\n",
    "        st_lkp.at[i, 'terminalname_desc'] = tn_dict[st_id]\n",
    "    else:\n",
    "        st_lkp.at[i, 'terminalname_desc'] = ''"
   ]
  },
  {
   "cell_type": "code",
   "execution_count": 104,
   "metadata": {},
   "outputs": [],
   "source": [
    "for i, row in st_lkp.iterrows():\n",
    "    if (row['bikepoint_desc'] != '') & (row['terminalname_desc'] != ''):\n",
    "        if ['bikepoint_desc'] == row['terminalname_desc']:\n",
    "            result = 'Agreement (no ambiguity)'\n",
    "        else:\n",
    "            result = 'Disagreement (ambiguity)'\n",
    "    elif (row['bikepoint_desc']== '') & (row['terminalname_desc'] == ''):\n",
    "        result = 'No result (ambiguity)'\n",
    "    else:\n",
    "        result = 'One result (no ambiguity)'\n",
    "    st_lkp.at[i, 'result'] = result"
   ]
  },
  {
   "cell_type": "code",
   "execution_count": 105,
   "metadata": {},
   "outputs": [
    {
     "data": {
      "text/plain": [
       "One result (no ambiguity)    2799\n",
       "No result (ambiguity)         122\n",
       "Name: result, dtype: int64"
      ]
     },
     "execution_count": 105,
     "metadata": {},
     "output_type": "execute_result"
    }
   ],
   "source": [
    "st_lkp['result'].value_counts()"
   ]
  },
  {
   "cell_type": "code",
   "execution_count": 106,
   "metadata": {},
   "outputs": [],
   "source": [
    "still_no_result = st_lkp[st_lkp['result'] == 'No result (ambiguity)']"
   ]
  },
  {
   "cell_type": "code",
   "execution_count": 107,
   "metadata": {},
   "outputs": [],
   "source": [
    "from itertools import compress"
   ]
  },
  {
   "cell_type": "code",
   "execution_count": 109,
   "metadata": {},
   "outputs": [],
   "source": [
    "search = \"Oval Way\""
   ]
  },
  {
   "cell_type": "code",
   "execution_count": 110,
   "metadata": {},
   "outputs": [
    {
     "data": {
      "text/plain": [
       "[]"
      ]
     },
     "execution_count": 110,
     "metadata": {},
     "output_type": "execute_result"
    }
   ],
   "source": [
    "list(compress(\n",
    "    commonNames\n",
    "    ,[search in st for st in commonNames]\n",
    "))"
   ]
  },
  {
   "cell_type": "code",
   "execution_count": 111,
   "metadata": {},
   "outputs": [
    {
     "data": {
      "text/plain": [
       "[]"
      ]
     },
     "execution_count": 111,
     "metadata": {},
     "output_type": "execute_result"
    }
   ],
   "source": [
    "list(compress(\n",
    "    bp_ids\n",
    "    ,[search in st for st in commonNames]\n",
    "))"
   ]
  },
  {
   "cell_type": "code",
   "execution_count": 112,
   "metadata": {},
   "outputs": [
    {
     "data": {
      "text/plain": [
       "[]"
      ]
     },
     "execution_count": 112,
     "metadata": {},
     "output_type": "execute_result"
    }
   ],
   "source": [
    "list(compress(\n",
    "    t_names\n",
    "    ,[search in st for st in commonNames]\n",
    "))"
   ]
  },
  {
   "cell_type": "code",
   "execution_count": null,
   "metadata": {},
   "outputs": [],
   "source": []
  }
 ],
 "metadata": {
  "kernelspec": {
   "display_name": "tflProject",
   "language": "python",
   "name": "tflproject"
  },
  "language_info": {
   "codemirror_mode": {
    "name": "ipython",
    "version": 3
   },
   "file_extension": ".py",
   "mimetype": "text/x-python",
   "name": "python",
   "nbconvert_exporter": "python",
   "pygments_lexer": "ipython3",
   "version": "3.7.6"
  }
 },
 "nbformat": 4,
 "nbformat_minor": 4
}
