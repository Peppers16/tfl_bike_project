{
 "cells": [
  {
   "cell_type": "markdown",
   "metadata": {},
   "source": [
    "# Simulation Parameter Generation\n",
    "\n",
    "This notebook explores the production of simulation parameters, e.g.:\n",
    "* Stations and their capacities\n",
    "* Stations and the journeys they generate, by time intervals\n",
    "* Typical durations between pairs of staitons. \n",
    "\n",
    "This notebook is not the final place where the resulting sql tables are 'shipped', but is where I interactively explore how to generate them. "
   ]
  },
  {
   "cell_type": "code",
   "execution_count": 1,
   "metadata": {},
   "outputs": [],
   "source": [
    "import sqlite3\n",
    "from os import getcwd, chdir\n",
    "import pickle\n",
    "import pandas as pd\n",
    "import matplotlib.pyplot as plt\n",
    "import requests\n",
    "from numpy import isnan"
   ]
  },
  {
   "cell_type": "markdown",
   "metadata": {},
   "source": [
    "Readme:\n",
    "This script summaries some bikepoint data and uploads it to the sqlite database."
   ]
  },
  {
   "cell_type": "code",
   "execution_count": 2,
   "metadata": {},
   "outputs": [],
   "source": [
    "# work from the project root\n",
    "if getcwd()[-9:] == 'notebooks':\n",
    "    chdir(\"..\")"
   ]
  },
  {
   "cell_type": "code",
   "execution_count": 3,
   "metadata": {},
   "outputs": [],
   "source": [
    "# connect to sqlite database\n",
    "DBPATH = \"data/bike_db.db\"\n",
    "db = sqlite3.connect(DBPATH)"
   ]
  },
  {
   "cell_type": "markdown",
   "metadata": {},
   "source": [
    "## 1. Bikepoint Station Meta-Data\n",
    "Including **station dock capacity**\n",
    "This is actually useful for all sorts of EDA and not just simulation"
   ]
  },
  {
   "cell_type": "code",
   "execution_count": 7,
   "metadata": {},
   "outputs": [],
   "source": [
    "bikepointid_to_commonname = pickle.load( open( r\"data\\cycle_journeys\\bikepointid_to_commonname.p\", \"rb\" ) )\n",
    "bikepointid_to_latlongs = pickle.load( open( r\"data\\cycle_journeys\\bikepointid_to_latlongs.p\", \"rb\" ) )"
   ]
  },
  {
   "cell_type": "code",
   "execution_count": 12,
   "metadata": {},
   "outputs": [],
   "source": [
    "# Manually excluding one timestamp where only three bikepoints were recorded?\n",
    "station_fill = pd.read_sql_query(\"\"\"\n",
    "    SELECT\n",
    "        timestamp, bikepoint_id, docked, empty, docked + empty AS capacity\n",
    "    FROM\n",
    "        station_fill\n",
    "    WHERE\n",
    "        timestamp != \"2020-06-22 10:00:00\"\n",
    "    \"\"\", db, parse_dates=['timestamp'])"
   ]
  },
  {
   "cell_type": "code",
   "execution_count": 159,
   "metadata": {},
   "outputs": [],
   "source": [
    "bp_capacities = station_fill.pivot_table(index='bikepoint_id', columns='timestamp', values='capacity')"
   ]
  },
  {
   "cell_type": "code",
   "execution_count": 160,
   "metadata": {},
   "outputs": [
    {
     "data": {
      "image/png": "[encoded data removed]",
      "text/plain": [
       "<Figure size 1152x144 with 1 Axes>"
      ]
     },
     "metadata": {
      "needs_background": "light"
     },
     "output_type": "display_data"
    }
   ],
   "source": [
    "# Inspection\n",
    "plt.matshow(bp_capacities);"
   ]
  },
  {
   "cell_type": "markdown",
   "metadata": {},
   "source": [
    "Start to merge station attributes"
   ]
  },
  {
   "cell_type": "code",
   "execution_count": 199,
   "metadata": {},
   "outputs": [],
   "source": [
    "bp_summaries = pd.merge(\n",
    "    bp_capacities.max(axis=1).rename('max capacity')\n",
    "    ,bp_capacities.median(axis=1).rename('median capacity')\n",
    "    ,right_index=True\n",
    "    ,left_index=True)"
   ]
  },
  {
   "cell_type": "markdown",
   "metadata": {},
   "source": [
    "Manually inspect cases where max and median capacity are different"
   ]
  },
  {
   "cell_type": "code",
   "execution_count": 200,
   "metadata": {
    "scrolled": true
   },
   "outputs": [
    {
     "data": {
      "text/html": [
       "<div>\n",
       "<style scoped>\n",
       "    .dataframe tbody tr th:only-of-type {\n",
       "        vertical-align: middle;\n",
       "    }\n",
       "\n",
       "    .dataframe tbody tr th {\n",
       "        vertical-align: top;\n",
       "    }\n",
       "\n",
       "    .dataframe thead th {\n",
       "        text-align: right;\n",
       "    }\n",
       "</style>\n",
       "<table border=\"1\" class=\"dataframe\">\n",
       "  <thead>\n",
       "    <tr style=\"text-align: right;\">\n",
       "      <th></th>\n",
       "      <th>max capacity</th>\n",
       "      <th>median capacity</th>\n",
       "    </tr>\n",
       "    <tr>\n",
       "      <th>bikepoint_id</th>\n",
       "      <th></th>\n",
       "      <th></th>\n",
       "    </tr>\n",
       "  </thead>\n",
       "  <tbody>\n",
       "    <tr>\n",
       "      <th>14</th>\n",
       "      <td>48.0</td>\n",
       "      <td>46.0</td>\n",
       "    </tr>\n",
       "    <tr>\n",
       "      <th>62</th>\n",
       "      <td>24.0</td>\n",
       "      <td>23.0</td>\n",
       "    </tr>\n",
       "    <tr>\n",
       "      <th>71</th>\n",
       "      <td>34.0</td>\n",
       "      <td>33.0</td>\n",
       "    </tr>\n",
       "    <tr>\n",
       "      <th>74</th>\n",
       "      <td>17.0</td>\n",
       "      <td>16.0</td>\n",
       "    </tr>\n",
       "    <tr>\n",
       "      <th>85</th>\n",
       "      <td>40.0</td>\n",
       "      <td>39.0</td>\n",
       "    </tr>\n",
       "    <tr>\n",
       "      <th>114</th>\n",
       "      <td>22.0</td>\n",
       "      <td>21.0</td>\n",
       "    </tr>\n",
       "    <tr>\n",
       "      <th>190</th>\n",
       "      <td>21.0</td>\n",
       "      <td>20.0</td>\n",
       "    </tr>\n",
       "    <tr>\n",
       "      <th>191</th>\n",
       "      <td>36.0</td>\n",
       "      <td>35.0</td>\n",
       "    </tr>\n",
       "    <tr>\n",
       "      <th>194</th>\n",
       "      <td>56.0</td>\n",
       "      <td>55.0</td>\n",
       "    </tr>\n",
       "    <tr>\n",
       "      <th>213</th>\n",
       "      <td>36.0</td>\n",
       "      <td>35.0</td>\n",
       "    </tr>\n",
       "    <tr>\n",
       "      <th>248</th>\n",
       "      <td>27.0</td>\n",
       "      <td>26.0</td>\n",
       "    </tr>\n",
       "    <tr>\n",
       "      <th>261</th>\n",
       "      <td>16.0</td>\n",
       "      <td>15.0</td>\n",
       "    </tr>\n",
       "    <tr>\n",
       "      <th>303</th>\n",
       "      <td>34.0</td>\n",
       "      <td>33.0</td>\n",
       "    </tr>\n",
       "    <tr>\n",
       "      <th>316</th>\n",
       "      <td>21.0</td>\n",
       "      <td>20.0</td>\n",
       "    </tr>\n",
       "    <tr>\n",
       "      <th>324</th>\n",
       "      <td>15.0</td>\n",
       "      <td>14.0</td>\n",
       "    </tr>\n",
       "    <tr>\n",
       "      <th>355</th>\n",
       "      <td>21.0</td>\n",
       "      <td>20.0</td>\n",
       "    </tr>\n",
       "    <tr>\n",
       "      <th>400</th>\n",
       "      <td>27.0</td>\n",
       "      <td>26.0</td>\n",
       "    </tr>\n",
       "    <tr>\n",
       "      <th>420</th>\n",
       "      <td>37.0</td>\n",
       "      <td>29.0</td>\n",
       "    </tr>\n",
       "    <tr>\n",
       "      <th>481</th>\n",
       "      <td>35.0</td>\n",
       "      <td>34.0</td>\n",
       "    </tr>\n",
       "    <tr>\n",
       "      <th>492</th>\n",
       "      <td>39.0</td>\n",
       "      <td>38.0</td>\n",
       "    </tr>\n",
       "    <tr>\n",
       "      <th>498</th>\n",
       "      <td>42.0</td>\n",
       "      <td>41.0</td>\n",
       "    </tr>\n",
       "    <tr>\n",
       "      <th>510</th>\n",
       "      <td>41.0</td>\n",
       "      <td>40.0</td>\n",
       "    </tr>\n",
       "    <tr>\n",
       "      <th>511</th>\n",
       "      <td>33.0</td>\n",
       "      <td>32.0</td>\n",
       "    </tr>\n",
       "    <tr>\n",
       "      <th>517</th>\n",
       "      <td>18.0</td>\n",
       "      <td>17.0</td>\n",
       "    </tr>\n",
       "    <tr>\n",
       "      <th>522</th>\n",
       "      <td>36.0</td>\n",
       "      <td>35.0</td>\n",
       "    </tr>\n",
       "    <tr>\n",
       "      <th>541</th>\n",
       "      <td>28.0</td>\n",
       "      <td>27.0</td>\n",
       "    </tr>\n",
       "    <tr>\n",
       "      <th>564</th>\n",
       "      <td>41.0</td>\n",
       "      <td>40.0</td>\n",
       "    </tr>\n",
       "    <tr>\n",
       "      <th>574</th>\n",
       "      <td>45.0</td>\n",
       "      <td>44.0</td>\n",
       "    </tr>\n",
       "    <tr>\n",
       "      <th>576</th>\n",
       "      <td>23.0</td>\n",
       "      <td>22.0</td>\n",
       "    </tr>\n",
       "    <tr>\n",
       "      <th>579</th>\n",
       "      <td>36.0</td>\n",
       "      <td>35.0</td>\n",
       "    </tr>\n",
       "    <tr>\n",
       "      <th>626</th>\n",
       "      <td>24.0</td>\n",
       "      <td>23.0</td>\n",
       "    </tr>\n",
       "    <tr>\n",
       "      <th>631</th>\n",
       "      <td>27.0</td>\n",
       "      <td>24.0</td>\n",
       "    </tr>\n",
       "    <tr>\n",
       "      <th>659</th>\n",
       "      <td>35.0</td>\n",
       "      <td>34.0</td>\n",
       "    </tr>\n",
       "    <tr>\n",
       "      <th>695</th>\n",
       "      <td>21.0</td>\n",
       "      <td>20.0</td>\n",
       "    </tr>\n",
       "    <tr>\n",
       "      <th>715</th>\n",
       "      <td>22.0</td>\n",
       "      <td>21.0</td>\n",
       "    </tr>\n",
       "    <tr>\n",
       "      <th>737</th>\n",
       "      <td>26.0</td>\n",
       "      <td>25.0</td>\n",
       "    </tr>\n",
       "    <tr>\n",
       "      <th>748</th>\n",
       "      <td>25.0</td>\n",
       "      <td>24.0</td>\n",
       "    </tr>\n",
       "    <tr>\n",
       "      <th>762</th>\n",
       "      <td>21.0</td>\n",
       "      <td>20.0</td>\n",
       "    </tr>\n",
       "    <tr>\n",
       "      <th>772</th>\n",
       "      <td>35.0</td>\n",
       "      <td>34.0</td>\n",
       "    </tr>\n",
       "    <tr>\n",
       "      <th>784</th>\n",
       "      <td>34.0</td>\n",
       "      <td>33.0</td>\n",
       "    </tr>\n",
       "    <tr>\n",
       "      <th>785</th>\n",
       "      <td>64.0</td>\n",
       "      <td>61.0</td>\n",
       "    </tr>\n",
       "    <tr>\n",
       "      <th>786</th>\n",
       "      <td>44.0</td>\n",
       "      <td>43.0</td>\n",
       "    </tr>\n",
       "    <tr>\n",
       "      <th>787</th>\n",
       "      <td>35.0</td>\n",
       "      <td>34.0</td>\n",
       "    </tr>\n",
       "    <tr>\n",
       "      <th>789</th>\n",
       "      <td>40.0</td>\n",
       "      <td>39.0</td>\n",
       "    </tr>\n",
       "    <tr>\n",
       "      <th>790</th>\n",
       "      <td>28.0</td>\n",
       "      <td>27.0</td>\n",
       "    </tr>\n",
       "    <tr>\n",
       "      <th>794</th>\n",
       "      <td>28.0</td>\n",
       "      <td>27.0</td>\n",
       "    </tr>\n",
       "    <tr>\n",
       "      <th>799</th>\n",
       "      <td>24.0</td>\n",
       "      <td>23.0</td>\n",
       "    </tr>\n",
       "    <tr>\n",
       "      <th>811</th>\n",
       "      <td>36.0</td>\n",
       "      <td>35.0</td>\n",
       "    </tr>\n",
       "    <tr>\n",
       "      <th>814</th>\n",
       "      <td>30.0</td>\n",
       "      <td>29.0</td>\n",
       "    </tr>\n",
       "  </tbody>\n",
       "</table>\n",
       "</div>"
      ],
      "text/plain": [
       "              max capacity  median capacity\n",
       "bikepoint_id                               \n",
       "14                    48.0             46.0\n",
       "62                    24.0             23.0\n",
       "71                    34.0             33.0\n",
       "74                    17.0             16.0\n",
       "85                    40.0             39.0\n",
       "114                   22.0             21.0\n",
       "190                   21.0             20.0\n",
       "191                   36.0             35.0\n",
       "194                   56.0             55.0\n",
       "213                   36.0             35.0\n",
       "248                   27.0             26.0\n",
       "261                   16.0             15.0\n",
       "303                   34.0             33.0\n",
       "316                   21.0             20.0\n",
       "324                   15.0             14.0\n",
       "355                   21.0             20.0\n",
       "400                   27.0             26.0\n",
       "420                   37.0             29.0\n",
       "481                   35.0             34.0\n",
       "492                   39.0             38.0\n",
       "498                   42.0             41.0\n",
       "510                   41.0             40.0\n",
       "511                   33.0             32.0\n",
       "517                   18.0             17.0\n",
       "522                   36.0             35.0\n",
       "541                   28.0             27.0\n",
       "564                   41.0             40.0\n",
       "574                   45.0             44.0\n",
       "576                   23.0             22.0\n",
       "579                   36.0             35.0\n",
       "626                   24.0             23.0\n",
       "631                   27.0             24.0\n",
       "659                   35.0             34.0\n",
       "695                   21.0             20.0\n",
       "715                   22.0             21.0\n",
       "737                   26.0             25.0\n",
       "748                   25.0             24.0\n",
       "762                   21.0             20.0\n",
       "772                   35.0             34.0\n",
       "784                   34.0             33.0\n",
       "785                   64.0             61.0\n",
       "786                   44.0             43.0\n",
       "787                   35.0             34.0\n",
       "789                   40.0             39.0\n",
       "790                   28.0             27.0\n",
       "794                   28.0             27.0\n",
       "799                   24.0             23.0\n",
       "811                   36.0             35.0\n",
       "814                   30.0             29.0"
      ]
     },
     "execution_count": 200,
     "metadata": {},
     "output_type": "execute_result"
    }
   ],
   "source": [
    "# Inspection\n",
    "bp_summaries[bp_summaries['max capacity'] != bp_summaries['median capacity']]"
   ]
  },
  {
   "cell_type": "markdown",
   "metadata": {},
   "source": [
    "So, both max and median give reliable summaries for bikepoint capacity, but in some cases median is slightly lower (e.g. due to docks being out of action?). \n",
    "\n",
    "Little bit of a decision on which to use:\n",
    "* max gives a reflection of the number of physical docks in the system. \n",
    "* median gives a 'fairer' reflection of the number that were actually available to TFL for much of the period. "
   ]
  },
  {
   "cell_type": "code",
   "execution_count": 201,
   "metadata": {},
   "outputs": [
    {
     "data": {
      "text/plain": [
       "64.0"
      ]
     },
     "execution_count": 201,
     "metadata": {},
     "output_type": "execute_result"
    }
   ],
   "source": [
    "# Inspection\n",
    "bp_summaries['max capacity'].max()"
   ]
  },
  {
   "cell_type": "markdown",
   "metadata": {},
   "source": [
    "Note, 64 docks should be the point at which we flag an Exception"
   ]
  },
  {
   "cell_type": "code",
   "execution_count": 202,
   "metadata": {},
   "outputs": [
    {
     "data": {
      "text/plain": [
       "10.0"
      ]
     },
     "execution_count": 202,
     "metadata": {},
     "output_type": "execute_result"
    }
   ],
   "source": [
    "# Inspection\n",
    "bp_summaries['max capacity'].min()"
   ]
  },
  {
   "cell_type": "markdown",
   "metadata": {},
   "source": [
    "So: Except all stations to have a capacity between 10 and 64"
   ]
  },
  {
   "cell_type": "markdown",
   "metadata": {},
   "source": [
    "### Merge additional data:"
   ]
  },
  {
   "cell_type": "code",
   "execution_count": 203,
   "metadata": {},
   "outputs": [],
   "source": [
    "# Merge common name (i.e. english description)\n",
    "bp_summaries = bp_summaries.merge(\n",
    "    pd.DataFrame.from_dict(bikepointid_to_commonname, orient='index').rename(columns={0: 'common_name'})\n",
    "    ,how='outer'\n",
    "    ,left_index=True\n",
    "    ,right_index=True\n",
    ")"
   ]
  },
  {
   "cell_type": "code",
   "execution_count": 204,
   "metadata": {},
   "outputs": [],
   "source": [
    "# Merge geographic coordiantes\n",
    "bp_summaries = bp_summaries.merge(\n",
    "    pd.DataFrame.from_dict(bikepointid_to_latlongs, orient='index').rename(columns={0: 'latitude', 1:'longitude'})\n",
    "    ,how='outer'\n",
    "    ,left_index=True\n",
    "    ,right_index=True\n",
    ")"
   ]
  },
  {
   "cell_type": "code",
   "execution_count": 205,
   "metadata": {},
   "outputs": [
    {
     "data": {
      "text/html": [
       "<div>\n",
       "<style scoped>\n",
       "    .dataframe tbody tr th:only-of-type {\n",
       "        vertical-align: middle;\n",
       "    }\n",
       "\n",
       "    .dataframe tbody tr th {\n",
       "        vertical-align: top;\n",
       "    }\n",
       "\n",
       "    .dataframe thead th {\n",
       "        text-align: right;\n",
       "    }\n",
       "</style>\n",
       "<table border=\"1\" class=\"dataframe\">\n",
       "  <thead>\n",
       "    <tr style=\"text-align: right;\">\n",
       "      <th></th>\n",
       "      <th>max capacity</th>\n",
       "      <th>median capacity</th>\n",
       "      <th>common_name</th>\n",
       "      <th>latitude</th>\n",
       "      <th>longitude</th>\n",
       "    </tr>\n",
       "  </thead>\n",
       "  <tbody>\n",
       "    <tr>\n",
       "      <th>1</th>\n",
       "      <td>19.0</td>\n",
       "      <td>19.0</td>\n",
       "      <td>River Street , Clerkenwell</td>\n",
       "      <td>51.529163</td>\n",
       "      <td>-0.109970</td>\n",
       "    </tr>\n",
       "    <tr>\n",
       "      <th>2</th>\n",
       "      <td>37.0</td>\n",
       "      <td>37.0</td>\n",
       "      <td>Phillimore Gardens, Kensington</td>\n",
       "      <td>51.499606</td>\n",
       "      <td>-0.197574</td>\n",
       "    </tr>\n",
       "    <tr>\n",
       "      <th>3</th>\n",
       "      <td>32.0</td>\n",
       "      <td>32.0</td>\n",
       "      <td>Christopher Street, Liverpool Street</td>\n",
       "      <td>51.521283</td>\n",
       "      <td>-0.084605</td>\n",
       "    </tr>\n",
       "    <tr>\n",
       "      <th>4</th>\n",
       "      <td>23.0</td>\n",
       "      <td>23.0</td>\n",
       "      <td>St. Chad's Street, King's Cross</td>\n",
       "      <td>51.530059</td>\n",
       "      <td>-0.120973</td>\n",
       "    </tr>\n",
       "    <tr>\n",
       "      <th>5</th>\n",
       "      <td>27.0</td>\n",
       "      <td>27.0</td>\n",
       "      <td>Sedding Street, Sloane Square</td>\n",
       "      <td>51.493130</td>\n",
       "      <td>-0.156876</td>\n",
       "    </tr>\n",
       "  </tbody>\n",
       "</table>\n",
       "</div>"
      ],
      "text/plain": [
       "   max capacity  median capacity                           common_name  \\\n",
       "1          19.0             19.0            River Street , Clerkenwell   \n",
       "2          37.0             37.0        Phillimore Gardens, Kensington   \n",
       "3          32.0             32.0  Christopher Street, Liverpool Street   \n",
       "4          23.0             23.0       St. Chad's Street, King's Cross   \n",
       "5          27.0             27.0         Sedding Street, Sloane Square   \n",
       "\n",
       "    latitude  longitude  \n",
       "1  51.529163  -0.109970  \n",
       "2  51.499606  -0.197574  \n",
       "3  51.521283  -0.084605  \n",
       "4  51.530059  -0.120973  \n",
       "5  51.493130  -0.156876  "
      ]
     },
     "execution_count": 205,
     "metadata": {},
     "output_type": "execute_result"
    }
   ],
   "source": [
    "# Inspection\n",
    "bp_summaries.head()"
   ]
  },
  {
   "cell_type": "markdown",
   "metadata": {},
   "source": [
    "Inspect stations with missing data"
   ]
  },
  {
   "cell_type": "code",
   "execution_count": 206,
   "metadata": {},
   "outputs": [
    {
     "data": {
      "text/html": [
       "<div>\n",
       "<style scoped>\n",
       "    .dataframe tbody tr th:only-of-type {\n",
       "        vertical-align: middle;\n",
       "    }\n",
       "\n",
       "    .dataframe tbody tr th {\n",
       "        vertical-align: top;\n",
       "    }\n",
       "\n",
       "    .dataframe thead th {\n",
       "        text-align: right;\n",
       "    }\n",
       "</style>\n",
       "<table border=\"1\" class=\"dataframe\">\n",
       "  <thead>\n",
       "    <tr style=\"text-align: right;\">\n",
       "      <th></th>\n",
       "      <th>max capacity</th>\n",
       "      <th>median capacity</th>\n",
       "      <th>common_name</th>\n",
       "      <th>latitude</th>\n",
       "      <th>longitude</th>\n",
       "    </tr>\n",
       "  </thead>\n",
       "  <tbody>\n",
       "    <tr>\n",
       "      <th>65</th>\n",
       "      <td>17.0</td>\n",
       "      <td>17.0</td>\n",
       "      <td>NaN</td>\n",
       "      <td>NaN</td>\n",
       "      <td>NaN</td>\n",
       "    </tr>\n",
       "    <tr>\n",
       "      <th>95</th>\n",
       "      <td>15.0</td>\n",
       "      <td>15.0</td>\n",
       "      <td>NaN</td>\n",
       "      <td>NaN</td>\n",
       "      <td>NaN</td>\n",
       "    </tr>\n",
       "    <tr>\n",
       "      <th>320</th>\n",
       "      <td>26.0</td>\n",
       "      <td>26.0</td>\n",
       "      <td>NaN</td>\n",
       "      <td>NaN</td>\n",
       "      <td>NaN</td>\n",
       "    </tr>\n",
       "    <tr>\n",
       "      <th>355</th>\n",
       "      <td>21.0</td>\n",
       "      <td>20.0</td>\n",
       "      <td>NaN</td>\n",
       "      <td>NaN</td>\n",
       "      <td>NaN</td>\n",
       "    </tr>\n",
       "    <tr>\n",
       "      <th>378</th>\n",
       "      <td>42.0</td>\n",
       "      <td>42.0</td>\n",
       "      <td>NaN</td>\n",
       "      <td>NaN</td>\n",
       "      <td>NaN</td>\n",
       "    </tr>\n",
       "    <tr>\n",
       "      <th>391</th>\n",
       "      <td>NaN</td>\n",
       "      <td>NaN</td>\n",
       "      <td>Clifford Street, Mayfair</td>\n",
       "      <td>51.510662</td>\n",
       "      <td>-0.142345</td>\n",
       "    </tr>\n",
       "    <tr>\n",
       "      <th>398</th>\n",
       "      <td>30.0</td>\n",
       "      <td>30.0</td>\n",
       "      <td>NaN</td>\n",
       "      <td>NaN</td>\n",
       "      <td>NaN</td>\n",
       "    </tr>\n",
       "    <tr>\n",
       "      <th>408</th>\n",
       "      <td>40.0</td>\n",
       "      <td>40.0</td>\n",
       "      <td>NaN</td>\n",
       "      <td>NaN</td>\n",
       "      <td>NaN</td>\n",
       "    </tr>\n",
       "    <tr>\n",
       "      <th>794</th>\n",
       "      <td>28.0</td>\n",
       "      <td>27.0</td>\n",
       "      <td>NaN</td>\n",
       "      <td>NaN</td>\n",
       "      <td>NaN</td>\n",
       "    </tr>\n",
       "    <tr>\n",
       "      <th>808</th>\n",
       "      <td>33.0</td>\n",
       "      <td>33.0</td>\n",
       "      <td>NaN</td>\n",
       "      <td>NaN</td>\n",
       "      <td>NaN</td>\n",
       "    </tr>\n",
       "  </tbody>\n",
       "</table>\n",
       "</div>"
      ],
      "text/plain": [
       "     max capacity  median capacity               common_name   latitude  \\\n",
       "65           17.0             17.0                       NaN        NaN   \n",
       "95           15.0             15.0                       NaN        NaN   \n",
       "320          26.0             26.0                       NaN        NaN   \n",
       "355          21.0             20.0                       NaN        NaN   \n",
       "378          42.0             42.0                       NaN        NaN   \n",
       "391           NaN              NaN  Clifford Street, Mayfair  51.510662   \n",
       "398          30.0             30.0                       NaN        NaN   \n",
       "408          40.0             40.0                       NaN        NaN   \n",
       "794          28.0             27.0                       NaN        NaN   \n",
       "808          33.0             33.0                       NaN        NaN   \n",
       "\n",
       "     longitude  \n",
       "65         NaN  \n",
       "95         NaN  \n",
       "320        NaN  \n",
       "355        NaN  \n",
       "378        NaN  \n",
       "391  -0.142345  \n",
       "398        NaN  \n",
       "408        NaN  \n",
       "794        NaN  \n",
       "808        NaN  "
      ]
     },
     "execution_count": 206,
     "metadata": {},
     "output_type": "execute_result"
    }
   ],
   "source": [
    "# Inspection\n",
    "bp_summaries[bp_summaries.isnull().any(axis=1)]"
   ]
  },
  {
   "cell_type": "markdown",
   "metadata": {},
   "source": [
    "Where possible, I will **plug missing data with a more recent call from the API**. \n",
    "\n",
    "I'll start by re-using some functions from my existing module which is used for logging station data"
   ]
  },
  {
   "cell_type": "code",
   "execution_count": 207,
   "metadata": {},
   "outputs": [],
   "source": [
    "from tflStatusLog import bikeStationStatus"
   ]
  },
  {
   "cell_type": "code",
   "execution_count": 208,
   "metadata": {},
   "outputs": [],
   "source": [
    "bike_json = bikeStationStatus.request_station_status(\n",
    "    credentials=bikeStationStatus.read_api_credentials('tflStatusLog/apiCredentials.txt')\n",
    ")"
   ]
  },
  {
   "cell_type": "markdown",
   "metadata": {},
   "source": [
    "Impute missing values with API data"
   ]
  },
  {
   "cell_type": "code",
   "execution_count": 209,
   "metadata": {},
   "outputs": [],
   "source": [
    "# for convenience I take a copy of the subset of problem rows\n",
    "# The actual fix edits the original bp_summaries dataframe\n",
    "to_fix = bp_summaries[bp_summaries.isnull().any(axis=1)]"
   ]
  },
  {
   "cell_type": "code",
   "execution_count": 210,
   "metadata": {},
   "outputs": [
    {
     "data": {
      "text/html": [
       "<div>\n",
       "<style scoped>\n",
       "    .dataframe tbody tr th:only-of-type {\n",
       "        vertical-align: middle;\n",
       "    }\n",
       "\n",
       "    .dataframe tbody tr th {\n",
       "        vertical-align: top;\n",
       "    }\n",
       "\n",
       "    .dataframe thead th {\n",
       "        text-align: right;\n",
       "    }\n",
       "</style>\n",
       "<table border=\"1\" class=\"dataframe\">\n",
       "  <thead>\n",
       "    <tr style=\"text-align: right;\">\n",
       "      <th></th>\n",
       "      <th>max capacity</th>\n",
       "      <th>median capacity</th>\n",
       "      <th>common_name</th>\n",
       "      <th>latitude</th>\n",
       "      <th>longitude</th>\n",
       "    </tr>\n",
       "  </thead>\n",
       "  <tbody>\n",
       "    <tr>\n",
       "      <th>65</th>\n",
       "      <td>17.0</td>\n",
       "      <td>17.0</td>\n",
       "      <td>NaN</td>\n",
       "      <td>NaN</td>\n",
       "      <td>NaN</td>\n",
       "    </tr>\n",
       "    <tr>\n",
       "      <th>95</th>\n",
       "      <td>15.0</td>\n",
       "      <td>15.0</td>\n",
       "      <td>NaN</td>\n",
       "      <td>NaN</td>\n",
       "      <td>NaN</td>\n",
       "    </tr>\n",
       "    <tr>\n",
       "      <th>320</th>\n",
       "      <td>26.0</td>\n",
       "      <td>26.0</td>\n",
       "      <td>NaN</td>\n",
       "      <td>NaN</td>\n",
       "      <td>NaN</td>\n",
       "    </tr>\n",
       "    <tr>\n",
       "      <th>355</th>\n",
       "      <td>21.0</td>\n",
       "      <td>20.0</td>\n",
       "      <td>NaN</td>\n",
       "      <td>NaN</td>\n",
       "      <td>NaN</td>\n",
       "    </tr>\n",
       "    <tr>\n",
       "      <th>378</th>\n",
       "      <td>42.0</td>\n",
       "      <td>42.0</td>\n",
       "      <td>NaN</td>\n",
       "      <td>NaN</td>\n",
       "      <td>NaN</td>\n",
       "    </tr>\n",
       "    <tr>\n",
       "      <th>391</th>\n",
       "      <td>NaN</td>\n",
       "      <td>NaN</td>\n",
       "      <td>Clifford Street, Mayfair</td>\n",
       "      <td>51.510662</td>\n",
       "      <td>-0.142345</td>\n",
       "    </tr>\n",
       "    <tr>\n",
       "      <th>398</th>\n",
       "      <td>30.0</td>\n",
       "      <td>30.0</td>\n",
       "      <td>NaN</td>\n",
       "      <td>NaN</td>\n",
       "      <td>NaN</td>\n",
       "    </tr>\n",
       "    <tr>\n",
       "      <th>408</th>\n",
       "      <td>40.0</td>\n",
       "      <td>40.0</td>\n",
       "      <td>NaN</td>\n",
       "      <td>NaN</td>\n",
       "      <td>NaN</td>\n",
       "    </tr>\n",
       "    <tr>\n",
       "      <th>794</th>\n",
       "      <td>28.0</td>\n",
       "      <td>27.0</td>\n",
       "      <td>NaN</td>\n",
       "      <td>NaN</td>\n",
       "      <td>NaN</td>\n",
       "    </tr>\n",
       "    <tr>\n",
       "      <th>808</th>\n",
       "      <td>33.0</td>\n",
       "      <td>33.0</td>\n",
       "      <td>NaN</td>\n",
       "      <td>NaN</td>\n",
       "      <td>NaN</td>\n",
       "    </tr>\n",
       "  </tbody>\n",
       "</table>\n",
       "</div>"
      ],
      "text/plain": [
       "     max capacity  median capacity               common_name   latitude  \\\n",
       "65           17.0             17.0                       NaN        NaN   \n",
       "95           15.0             15.0                       NaN        NaN   \n",
       "320          26.0             26.0                       NaN        NaN   \n",
       "355          21.0             20.0                       NaN        NaN   \n",
       "378          42.0             42.0                       NaN        NaN   \n",
       "391           NaN              NaN  Clifford Street, Mayfair  51.510662   \n",
       "398          30.0             30.0                       NaN        NaN   \n",
       "408          40.0             40.0                       NaN        NaN   \n",
       "794          28.0             27.0                       NaN        NaN   \n",
       "808          33.0             33.0                       NaN        NaN   \n",
       "\n",
       "     longitude  \n",
       "65         NaN  \n",
       "95         NaN  \n",
       "320        NaN  \n",
       "355        NaN  \n",
       "378        NaN  \n",
       "391  -0.142345  \n",
       "398        NaN  \n",
       "408        NaN  \n",
       "794        NaN  \n",
       "808        NaN  "
      ]
     },
     "execution_count": 210,
     "metadata": {},
     "output_type": "execute_result"
    }
   ],
   "source": [
    "# Inspection\n",
    "to_fix"
   ]
  },
  {
   "cell_type": "code",
   "execution_count": 211,
   "metadata": {},
   "outputs": [],
   "source": [
    "ids_to_fix = ['BikePoints_' + str(id_) for id_ in to_fix.index]"
   ]
  },
  {
   "cell_type": "code",
   "execution_count": 213,
   "metadata": {},
   "outputs": [
    {
     "name": "stdout",
     "output_type": "stream",
     "text": [
      "Adding common_name to bikepoint 95\n",
      "Adding co-ordinates to bikepoint 95\n",
      "Adding common_name to bikepoint 320\n",
      "Adding co-ordinates to bikepoint 320\n",
      "Adding common_name to bikepoint 378\n",
      "Adding co-ordinates to bikepoint 378\n",
      "Adding capacities to 391\n",
      "Adding common_name to bikepoint 398\n",
      "Adding co-ordinates to bikepoint 398\n"
     ]
    }
   ],
   "source": [
    "for station in bike_json:\n",
    "    if station['id'] in ids_to_fix:\n",
    "        found_id = int(station['id'][11:])\n",
    "        fixing_row = to_fix.loc[found_id]\n",
    "        if not isinstance(fixing_row['common_name'], str):\n",
    "            print(f\"Adding common_name to bikepoint {found_id}\")\n",
    "            bp_summaries.loc[found_id, 'common_name'] = station['commonName']\n",
    "        if isnan(fixing_row['latitude']):\n",
    "            print(f\"Adding co-ordinates to bikepoint {found_id}\")\n",
    "            bp_summaries.loc[found_id,'latitude'] = station['lat']\n",
    "            bp_summaries.loc[found_id,'longitude'] = station['lon']\n",
    "        if isnan(fixing_row['median capacity']):\n",
    "            print(f\"Adding capacities to {found_id}\")\n",
    "            bp_summaries.loc[found_id,'median capacity'] = [p['value'] for p in station['additionalProperties'] if p['key'] == 'NbDocks'][0]\n",
    "            bp_summaries.loc[found_id,'max capacity'] = [p['value'] for p in station['additionalProperties'] if p['key'] == 'NbDocks'][0]"
   ]
  },
  {
   "cell_type": "code",
   "execution_count": 214,
   "metadata": {},
   "outputs": [
    {
     "data": {
      "text/html": [
       "<div>\n",
       "<style scoped>\n",
       "    .dataframe tbody tr th:only-of-type {\n",
       "        vertical-align: middle;\n",
       "    }\n",
       "\n",
       "    .dataframe tbody tr th {\n",
       "        vertical-align: top;\n",
       "    }\n",
       "\n",
       "    .dataframe thead th {\n",
       "        text-align: right;\n",
       "    }\n",
       "</style>\n",
       "<table border=\"1\" class=\"dataframe\">\n",
       "  <thead>\n",
       "    <tr style=\"text-align: right;\">\n",
       "      <th></th>\n",
       "      <th>max capacity</th>\n",
       "      <th>median capacity</th>\n",
       "      <th>common_name</th>\n",
       "      <th>latitude</th>\n",
       "      <th>longitude</th>\n",
       "    </tr>\n",
       "  </thead>\n",
       "  <tbody>\n",
       "    <tr>\n",
       "      <th>65</th>\n",
       "      <td>17</td>\n",
       "      <td>17</td>\n",
       "      <td>NaN</td>\n",
       "      <td>NaN</td>\n",
       "      <td>NaN</td>\n",
       "    </tr>\n",
       "    <tr>\n",
       "      <th>355</th>\n",
       "      <td>21</td>\n",
       "      <td>20</td>\n",
       "      <td>NaN</td>\n",
       "      <td>NaN</td>\n",
       "      <td>NaN</td>\n",
       "    </tr>\n",
       "    <tr>\n",
       "      <th>408</th>\n",
       "      <td>40</td>\n",
       "      <td>40</td>\n",
       "      <td>NaN</td>\n",
       "      <td>NaN</td>\n",
       "      <td>NaN</td>\n",
       "    </tr>\n",
       "    <tr>\n",
       "      <th>794</th>\n",
       "      <td>28</td>\n",
       "      <td>27</td>\n",
       "      <td>NaN</td>\n",
       "      <td>NaN</td>\n",
       "      <td>NaN</td>\n",
       "    </tr>\n",
       "    <tr>\n",
       "      <th>808</th>\n",
       "      <td>33</td>\n",
       "      <td>33</td>\n",
       "      <td>NaN</td>\n",
       "      <td>NaN</td>\n",
       "      <td>NaN</td>\n",
       "    </tr>\n",
       "  </tbody>\n",
       "</table>\n",
       "</div>"
      ],
      "text/plain": [
       "    max capacity median capacity common_name  latitude  longitude\n",
       "65            17              17         NaN       NaN        NaN\n",
       "355           21              20         NaN       NaN        NaN\n",
       "408           40              40         NaN       NaN        NaN\n",
       "794           28              27         NaN       NaN        NaN\n",
       "808           33              33         NaN       NaN        NaN"
      ]
     },
     "execution_count": 214,
     "metadata": {},
     "output_type": "execute_result"
    }
   ],
   "source": [
    "# Inspection\n",
    "bp_summaries[bp_summaries.isnull().any(axis=1)]"
   ]
  },
  {
   "cell_type": "markdown",
   "metadata": {},
   "source": [
    "We are now left with 5 missing stations. Manual inspection suggests these have all been closed / inactive in recent months. \n",
    "Question is: how to get their location...? \n",
    "\n",
    "Options:\n",
    "* Impute a centroid co-ordinate\n",
    "* Infer a co-ordiate based on journey durations from other stations (smart but a lot of effort for 5 stations). \n",
    "* Replace these stations with the null -1 station ID\n",
    "* Our distnace metric could be based on average duration rather than euclidean distance. This might actually be a more sensible approach. "
   ]
  },
  {
   "cell_type": "code",
   "execution_count": 219,
   "metadata": {},
   "outputs": [],
   "source": [
    "bp_summaries.index.name = 'bikepoint_id'"
   ]
  },
  {
   "cell_type": "markdown",
   "metadata": {},
   "source": [
    "Upload to SQLite database"
   ]
  },
  {
   "cell_type": "code",
   "execution_count": null,
   "metadata": {},
   "outputs": [],
   "source": [
    "# bp_summaries.to_sql('station_metadata', db, if_exists='fail', index=True)"
   ]
  },
  {
   "cell_type": "code",
   "execution_count": 221,
   "metadata": {},
   "outputs": [],
   "source": [
    "db.close()"
   ]
  },
  {
   "cell_type": "markdown",
   "metadata": {},
   "source": [
    "# 2. Station Journey Demand by time\n",
    "\n",
    "2.1 The Poisson rate (average journeys) generated at a station, irrespective of desination, per time interval."
   ]
  },
  {
   "cell_type": "code",
   "execution_count": 70,
   "metadata": {},
   "outputs": [],
   "source": [
    "def weekday_journey_rates(minute_interval=20, min_year=2015, additional_wheres=''):\n",
    "    return pd.read_sql_query(f\"\"\"\n",
    "        WITH subset AS (\n",
    "            SELECT *\n",
    "            FROM journeys\n",
    "            WHERE\n",
    "                year >= {min_year}\n",
    "                AND weekday = 1\n",
    "                {additional_wheres}\n",
    "        )\n",
    "\n",
    "        SELECT\n",
    "            i.\"StartStation Id\"\n",
    "            ,i.interval\n",
    "            ,CAST(i.interval_journeys AS REAL) / d.days_in_action AS avg_journeys_p_interval\n",
    "            ,CAST(i.interval_journeys AS REAL) / d.days_in_action / {minute_interval} AS avg_journeys_p_minute\n",
    "        FROM\n",
    "            (\n",
    "                SELECT\n",
    "                    \"StartStation Id\"\n",
    "                    ,(minute_of_day / {minute_interval}) * {minute_interval} AS interval\n",
    "                    ,COUNT(*) AS interval_journeys\n",
    "                FROM \n",
    "                    subset\n",
    "                GROUP BY 1,2\n",
    "            )AS i\n",
    "            INNER JOIN (\n",
    "                SELECT\n",
    "                    \"StartStation Id\"\n",
    "                    ,COUNT(DISTINCT DATE(\"Start Date\")) AS days_in_action\n",
    "                FROM \n",
    "                    subset\n",
    "                GROUP BY 1\n",
    "            ) AS d\n",
    "                ON i.\"StartStation Id\" = d.\"StartStation Id\"\n",
    "        ;\n",
    "        \"\"\", db)"
   ]
  },
  {
   "cell_type": "code",
   "execution_count": 53,
   "metadata": {},
   "outputs": [],
   "source": [
    "def plot_test(df):\n",
    "    test = df.pivot_table(index='interval', columns='StartStation Id', values='avg_journeys_p_interval')\n",
    "    ax = test.plot(figsize=(15,10));\n",
    "    return ax.get_legend().remove();"
   ]
  },
  {
   "cell_type": "code",
   "execution_count": 71,
   "metadata": {},
   "outputs": [],
   "source": [
    "test = weekday_journey_rates(20, 2015\n",
    "                            ,additional_wheres=\"\"\"AND \"Start Date\" <= '2020-03-15'\"\"\")"
   ]
  },
  {
   "cell_type": "code",
   "execution_count": 59,
   "metadata": {},
   "outputs": [
    {
     "data": {
      "text/html": [
       "<div>\n",
       "<style scoped>\n",
       "    .dataframe tbody tr th:only-of-type {\n",
       "        vertical-align: middle;\n",
       "    }\n",
       "\n",
       "    .dataframe tbody tr th {\n",
       "        vertical-align: top;\n",
       "    }\n",
       "\n",
       "    .dataframe thead th {\n",
       "        text-align: right;\n",
       "    }\n",
       "</style>\n",
       "<table border=\"1\" class=\"dataframe\">\n",
       "  <thead>\n",
       "    <tr style=\"text-align: right;\">\n",
       "      <th></th>\n",
       "      <th>StartStation Id</th>\n",
       "      <th>interval</th>\n",
       "      <th>avg_journeys_p_interval</th>\n",
       "      <th>avg_journeys_p_minute</th>\n",
       "    </tr>\n",
       "  </thead>\n",
       "  <tbody>\n",
       "    <tr>\n",
       "      <th>0</th>\n",
       "      <td>-1</td>\n",
       "      <td>0</td>\n",
       "      <td>1.302491</td>\n",
       "      <td>0.065125</td>\n",
       "    </tr>\n",
       "    <tr>\n",
       "      <th>1</th>\n",
       "      <td>-1</td>\n",
       "      <td>20</td>\n",
       "      <td>0.971530</td>\n",
       "      <td>0.048577</td>\n",
       "    </tr>\n",
       "    <tr>\n",
       "      <th>2</th>\n",
       "      <td>-1</td>\n",
       "      <td>40</td>\n",
       "      <td>0.825623</td>\n",
       "      <td>0.041281</td>\n",
       "    </tr>\n",
       "    <tr>\n",
       "      <th>3</th>\n",
       "      <td>-1</td>\n",
       "      <td>60</td>\n",
       "      <td>0.779359</td>\n",
       "      <td>0.038968</td>\n",
       "    </tr>\n",
       "    <tr>\n",
       "      <th>4</th>\n",
       "      <td>-1</td>\n",
       "      <td>80</td>\n",
       "      <td>0.708185</td>\n",
       "      <td>0.035409</td>\n",
       "    </tr>\n",
       "  </tbody>\n",
       "</table>\n",
       "</div>"
      ],
      "text/plain": [
       "   StartStation Id  interval  avg_journeys_p_interval  avg_journeys_p_minute\n",
       "0               -1         0                 1.302491               0.065125\n",
       "1               -1        20                 0.971530               0.048577\n",
       "2               -1        40                 0.825623               0.041281\n",
       "3               -1        60                 0.779359               0.038968\n",
       "4               -1        80                 0.708185               0.035409"
      ]
     },
     "execution_count": 59,
     "metadata": {},
     "output_type": "execute_result"
    }
   ],
   "source": [
    "test.head()"
   ]
  },
  {
   "cell_type": "code",
   "execution_count": 60,
   "metadata": {},
   "outputs": [
    {
     "data": {
      "image/png": "[encoded data removed]",
      "text/plain": [
       "<Figure size 1080x720 with 1 Axes>"
      ]
     },
     "metadata": {
      "needs_background": "light"
     },
     "output_type": "display_data"
    }
   ],
   "source": [
    "plot_test(test)"
   ]
  },
  {
   "cell_type": "markdown",
   "metadata": {},
   "source": [
    "It should be very easy to extract parameters for the simulation from this query. Consider writing it to a table since it will be used many times. "
   ]
  },
  {
   "cell_type": "markdown",
   "metadata": {},
   "source": [
    "# 3. Multinomial distribution of Destinations by Time\n",
    "\n",
    "Similar exercise to before, except that now each (station, interval) pair has a vector of destinations.\n",
    "\n",
    "I experimented with calculating the normalised probabilities and applying laplace smoothing as part of this SQL query, which reduces the load on the simulation.\n",
    "\n",
    "But I am electing not to apply any laplace smoothing as part of the sql query since it results in an explosive cartesian product and wasteful storage of (sparse) data. Instead: the simulation can apply the laplace smoothing after fetching the (dense) data if it needs it. "
   ]
  },
  {
   "cell_type": "code",
   "execution_count": 77,
   "metadata": {},
   "outputs": [],
   "source": [
    "def weekday_destinations(minute_interval=20, min_year=2015, additional_wheres=''):\n",
    "    \"\"\"\n",
    "    Fetches journey counts per any (start_station, end_station, interval) combination for which journeys were\n",
    "    observed. \n",
    "    \n",
    "    Note: Dense data. No rows will be present for a given (s, e, i) combination where there were no journeys. \n",
    "    This needs to be considered if applying laplace smoothing. \n",
    "    \"\"\"\n",
    "    return pd.read_sql_query(f\"\"\"\n",
    "        SELECT\n",
    "            \"StartStation Id\"\n",
    "            ,\"EndStation Id\"\n",
    "            ,interval\n",
    "            ,journeys\n",
    "            ,CAST(journeys AS REAL) / SUM(journeys) OVER(PARTITION BY \"StartStation Id\", interval) AS normalised_journey_rate\n",
    "        FROM (\n",
    "            SELECT\n",
    "                \"StartStation Id\"\n",
    "                ,\"EndStation Id\"\n",
    "                ,(minute_of_day / {minute_interval}) * {minute_interval} AS interval\n",
    "                ,COUNT(*) AS journeys\n",
    "            FROM\n",
    "                journeys\n",
    "            WHERE\n",
    "                year >= {min_year}\n",
    "                AND weekday = 1\n",
    "                {additional_wheres}\n",
    "            GROUP BY\n",
    "                1,2,3\n",
    "            ) AS sub\n",
    "\n",
    "        ;\n",
    "        \"\"\", db)"
   ]
  },
  {
   "cell_type": "code",
   "execution_count": 76,
   "metadata": {},
   "outputs": [],
   "source": [
    "test2 = weekday_destinations(20, 2015\n",
    "                            ,additional_wheres=\"\"\"AND \"Start Date\" <= '2020-03-15'\"\"\")"
   ]
  },
  {
   "cell_type": "code",
   "execution_count": 81,
   "metadata": {},
   "outputs": [
    {
     "data": {
      "text/html": [
       "<div>\n",
       "<style scoped>\n",
       "    .dataframe tbody tr th:only-of-type {\n",
       "        vertical-align: middle;\n",
       "    }\n",
       "\n",
       "    .dataframe tbody tr th {\n",
       "        vertical-align: top;\n",
       "    }\n",
       "\n",
       "    .dataframe thead th {\n",
       "        text-align: right;\n",
       "    }\n",
       "</style>\n",
       "<table border=\"1\" class=\"dataframe\">\n",
       "  <thead>\n",
       "    <tr style=\"text-align: right;\">\n",
       "      <th></th>\n",
       "      <th>StartStation Id</th>\n",
       "      <th>EndStation Id</th>\n",
       "      <th>interval</th>\n",
       "      <th>journeys</th>\n",
       "      <th>normalised_journey_rate</th>\n",
       "    </tr>\n",
       "  </thead>\n",
       "  <tbody>\n",
       "    <tr>\n",
       "      <th>0</th>\n",
       "      <td>-1</td>\n",
       "      <td>-1</td>\n",
       "      <td>0</td>\n",
       "      <td>38</td>\n",
       "      <td>0.103825</td>\n",
       "    </tr>\n",
       "    <tr>\n",
       "      <th>1</th>\n",
       "      <td>-1</td>\n",
       "      <td>16</td>\n",
       "      <td>0</td>\n",
       "      <td>1</td>\n",
       "      <td>0.002732</td>\n",
       "    </tr>\n",
       "    <tr>\n",
       "      <th>2</th>\n",
       "      <td>-1</td>\n",
       "      <td>20</td>\n",
       "      <td>0</td>\n",
       "      <td>1</td>\n",
       "      <td>0.002732</td>\n",
       "    </tr>\n",
       "    <tr>\n",
       "      <th>3</th>\n",
       "      <td>-1</td>\n",
       "      <td>36</td>\n",
       "      <td>0</td>\n",
       "      <td>1</td>\n",
       "      <td>0.002732</td>\n",
       "    </tr>\n",
       "    <tr>\n",
       "      <th>4</th>\n",
       "      <td>-1</td>\n",
       "      <td>46</td>\n",
       "      <td>0</td>\n",
       "      <td>1</td>\n",
       "      <td>0.002732</td>\n",
       "    </tr>\n",
       "    <tr>\n",
       "      <th>...</th>\n",
       "      <td>...</td>\n",
       "      <td>...</td>\n",
       "      <td>...</td>\n",
       "      <td>...</td>\n",
       "      <td>...</td>\n",
       "    </tr>\n",
       "    <tr>\n",
       "      <th>3193798</th>\n",
       "      <td>839</td>\n",
       "      <td>377</td>\n",
       "      <td>1400</td>\n",
       "      <td>1</td>\n",
       "      <td>0.076923</td>\n",
       "    </tr>\n",
       "    <tr>\n",
       "      <th>3193799</th>\n",
       "      <td>839</td>\n",
       "      <td>437</td>\n",
       "      <td>1400</td>\n",
       "      <td>1</td>\n",
       "      <td>0.076923</td>\n",
       "    </tr>\n",
       "    <tr>\n",
       "      <th>3193800</th>\n",
       "      <td>839</td>\n",
       "      <td>465</td>\n",
       "      <td>1400</td>\n",
       "      <td>1</td>\n",
       "      <td>0.076923</td>\n",
       "    </tr>\n",
       "    <tr>\n",
       "      <th>3193801</th>\n",
       "      <td>839</td>\n",
       "      <td>810</td>\n",
       "      <td>1400</td>\n",
       "      <td>4</td>\n",
       "      <td>0.307692</td>\n",
       "    </tr>\n",
       "    <tr>\n",
       "      <th>3193802</th>\n",
       "      <td>839</td>\n",
       "      <td>46</td>\n",
       "      <td>1420</td>\n",
       "      <td>1</td>\n",
       "      <td>1.000000</td>\n",
       "    </tr>\n",
       "  </tbody>\n",
       "</table>\n",
       "<p>3193803 rows × 5 columns</p>\n",
       "</div>"
      ],
      "text/plain": [
       "         StartStation Id  EndStation Id  interval  journeys  \\\n",
       "0                     -1             -1         0        38   \n",
       "1                     -1             16         0         1   \n",
       "2                     -1             20         0         1   \n",
       "3                     -1             36         0         1   \n",
       "4                     -1             46         0         1   \n",
       "...                  ...            ...       ...       ...   \n",
       "3193798              839            377      1400         1   \n",
       "3193799              839            437      1400         1   \n",
       "3193800              839            465      1400         1   \n",
       "3193801              839            810      1400         4   \n",
       "3193802              839             46      1420         1   \n",
       "\n",
       "         normalised_journey_rate  \n",
       "0                       0.103825  \n",
       "1                       0.002732  \n",
       "2                       0.002732  \n",
       "3                       0.002732  \n",
       "4                       0.002732  \n",
       "...                          ...  \n",
       "3193798                 0.076923  \n",
       "3193799                 0.076923  \n",
       "3193800                 0.076923  \n",
       "3193801                 0.307692  \n",
       "3193802                 1.000000  \n",
       "\n",
       "[3193803 rows x 5 columns]"
      ]
     },
     "execution_count": 81,
     "metadata": {},
     "output_type": "execute_result"
    }
   ],
   "source": [
    "test2"
   ]
  },
  {
   "cell_type": "markdown",
   "metadata": {},
   "source": [
    "# 4. Destination Durations\n",
    "\n",
    "For each pair of stations, what is the distribution of journey durations"
   ]
  },
  {
   "cell_type": "code",
   "execution_count": 4,
   "metadata": {},
   "outputs": [],
   "source": [
    "test3 = pd.read_sql_query(f\"\"\"\n",
    "        SELECT\n",
    "            \"StartStation Id\"\n",
    "            ,\"EndStation Id\"\n",
    "            ,Duration\n",
    "        FROM\n",
    "            journeys\n",
    "        WHERE\n",
    "            \"StartStation Id\" = 154\n",
    "            AND year >= 2015\n",
    "            AND weekday = 1\n",
    "            -- FOR TESTING\n",
    "            AND \"EndStation Id\" % 30 = 0\n",
    "        \"\"\", db)"
   ]
  },
  {
   "cell_type": "code",
   "execution_count": 131,
   "metadata": {},
   "outputs": [
    {
     "data": {
      "image/png": "[encoded data removed]",
      "text/plain": [
       "<Figure size 432x288 with 25 Axes>"
      ]
     },
     "metadata": {
      "needs_background": "light"
     },
     "output_type": "display_data"
    }
   ],
   "source": [
    "test3.drop(\"StartStation Id\",axis=1).hist(column=\"Duration\", bins=[i*60 for i in range(50)], by=\"EndStation Id\");"
   ]
  },
  {
   "cell_type": "code",
   "execution_count": 6,
   "metadata": {},
   "outputs": [
    {
     "data": {
      "image/png": "[encoded data removed]",
      "text/plain": [
       "<Figure size 432x288 with 1 Axes>"
      ]
     },
     "metadata": {
      "needs_background": "light"
     },
     "output_type": "display_data"
    }
   ],
   "source": [
    "test3[test3[\"EndStation Id\"]== 330].hist(column=\"Duration\" , bins=[i*60 for i in range(50)]);"
   ]
  },
  {
   "cell_type": "code",
   "execution_count": 7,
   "metadata": {},
   "outputs": [
    {
     "data": {
      "text/plain": [
       "array([[<matplotlib.axes._subplots.AxesSubplot object at 0x0000016C680CA448>]],\n",
       "      dtype=object)"
      ]
     },
     "execution_count": 7,
     "metadata": {},
     "output_type": "execute_result"
    },
    {
     "data": {
      "image/png": "[encoded data removed]",
      "text/plain": [
       "<Figure size 432x288 with 1 Axes>"
      ]
     },
     "metadata": {
      "needs_background": "light"
     },
     "output_type": "display_data"
    }
   ],
   "source": [
    "test3[test3[\"EndStation Id\"]== 120].hist(column=\"Duration\" , bins=[i*60 for i in range(50)]);"
   ]
  },
  {
   "cell_type": "code",
   "execution_count": 8,
   "metadata": {},
   "outputs": [
    {
     "data": {
      "image/png": "[encoded data removed]",
      "text/plain": [
       "<Figure size 432x288 with 1 Axes>"
      ]
     },
     "metadata": {
      "needs_background": "light"
     },
     "output_type": "display_data"
    }
   ],
   "source": [
    "test3[test3[\"EndStation Id\"]== 360].hist(column=\"Duration\" , bins=[i*60 for i in range(50)]);"
   ]
  },
  {
   "cell_type": "code",
   "execution_count": 9,
   "metadata": {},
   "outputs": [
    {
     "data": {
      "text/plain": [
       "678.0627530364372"
      ]
     },
     "execution_count": 9,
     "metadata": {},
     "output_type": "execute_result"
    }
   ],
   "source": [
    "test3[test3[\"EndStation Id\"]== 360]['Duration'].mean()"
   ]
  },
  {
   "cell_type": "markdown",
   "metadata": {},
   "source": [
    "### What distribution? \n",
    "\n",
    "O Mahoney used a Poisson distribution to model journey durations, but I find this to be a dubious assumption: inspecting some examples suggest that it gives an overly narrow probability distribution\n",
    "\n",
    "Some alterantives I'd like to explore are:\n",
    "* Skewed-Norm \n",
    "* Right-tailed Gumbel distribution"
   ]
  },
  {
   "cell_type": "code",
   "execution_count": 17,
   "metadata": {},
   "outputs": [],
   "source": [
    "example360 = test3[test3[\"EndStation Id\"]== 360]['Duration'].copy()"
   ]
  },
  {
   "cell_type": "code",
   "execution_count": 71,
   "metadata": {},
   "outputs": [],
   "source": [
    "hisbins = [i*60 for i in range(30)]"
   ]
  },
  {
   "cell_type": "code",
   "execution_count": 72,
   "metadata": {},
   "outputs": [
    {
     "data": {
      "image/png": "[encoded data removed]",
      "text/plain": [
       "<Figure size 432x288 with 1 Axes>"
      ]
     },
     "metadata": {
      "needs_background": "light"
     },
     "output_type": "display_data"
    }
   ],
   "source": [
    "example360.hist(bins=hisbins);"
   ]
  },
  {
   "cell_type": "code",
   "execution_count": 73,
   "metadata": {},
   "outputs": [],
   "source": [
    "from scipy import stats\n",
    "from numpy import linspace"
   ]
  },
  {
   "cell_type": "code",
   "execution_count": 115,
   "metadata": {},
   "outputs": [],
   "source": [
    "import numpy.random"
   ]
  },
  {
   "cell_type": "code",
   "execution_count": 138,
   "metadata": {},
   "outputs": [],
   "source": [
    "def compare_sknorm_gumbel(df, endstation, poisson=True):\n",
    "    data = df[df[\"EndStation Id\"]== endstation]['Duration']\n",
    "    hisbins = [i*60 for i in range(30)]\n",
    "    sn = stats.skewnorm(*stats.skewnorm.fit(data))\n",
    "    gr = stats.gumbel_r(*stats.gumbel_r.fit(data))\n",
    "    x = linspace(0, 1750, 1000)\n",
    "    ax = plt.hist(data, density = True, bins = hisbins)\n",
    "    \n",
    "    plt.plot(x, sn.pdf(x), label = 'SkewNorm Distribution')\n",
    "    plt.plot(x, gr.pdf(x), label = 'Right Gumbel Distribution')\n",
    "    # poisson for comparison:\n",
    "    if poisson:\n",
    "        lam = data.mean()\n",
    "        plt.hist(numpy.random.poisson(lam, 2000), bins=hisbins, density=True, alpha=0.2, label='Poisson Distribution')\n",
    "    plt.legend()"
   ]
  },
  {
   "cell_type": "code",
   "execution_count": 140,
   "metadata": {},
   "outputs": [
    {
     "data": {
      "image/png": "[encoded data removed]",
      "text/plain": [
       "<Figure size 432x288 with 1 Axes>"
      ]
     },
     "metadata": {
      "needs_background": "light"
     },
     "output_type": "display_data"
    }
   ],
   "source": [
    "compare_sknorm_gumbel(test3, 360);"
   ]
  },
  {
   "cell_type": "code",
   "execution_count": 141,
   "metadata": {},
   "outputs": [
    {
     "data": {
      "image/png": "[encoded data removed]",
      "text/plain": [
       "<Figure size 432x288 with 1 Axes>"
      ]
     },
     "metadata": {
      "needs_background": "light"
     },
     "output_type": "display_data"
    }
   ],
   "source": [
    "compare_sknorm_gumbel(test3, 120);"
   ]
  },
  {
   "cell_type": "code",
   "execution_count": 142,
   "metadata": {},
   "outputs": [
    {
     "data": {
      "image/png": "[encoded data removed]",
      "text/plain": [
       "<Figure size 432x288 with 1 Axes>"
      ]
     },
     "metadata": {
      "needs_background": "light"
     },
     "output_type": "display_data"
    }
   ],
   "source": [
    "compare_sknorm_gumbel(test3, 600);"
   ]
  },
  {
   "cell_type": "code",
   "execution_count": 143,
   "metadata": {},
   "outputs": [
    {
     "data": {
      "image/png": "[encoded data removed]",
      "text/plain": [
       "<Figure size 432x288 with 1 Axes>"
      ]
     },
     "metadata": {
      "needs_background": "light"
     },
     "output_type": "display_data"
    }
   ],
   "source": [
    "compare_sknorm_gumbel(test3, 180);"
   ]
  },
  {
   "cell_type": "code",
   "execution_count": 144,
   "metadata": {},
   "outputs": [
    {
     "data": {
      "image/png": "[encoded data removed]",
      "text/plain": [
       "<Figure size 432x288 with 1 Axes>"
      ]
     },
     "metadata": {
      "needs_background": "light"
     },
     "output_type": "display_data"
    }
   ],
   "source": [
    "compare_sknorm_gumbel(test3, 30);"
   ]
  },
  {
   "cell_type": "code",
   "execution_count": null,
   "metadata": {},
   "outputs": [],
   "source": []
  }
 ],
 "metadata": {
  "kernelspec": {
   "display_name": "tflProject",
   "language": "python",
   "name": "tflproject"
  },
  "language_info": {
   "codemirror_mode": {
    "name": "ipython",
    "version": 3
   },
   "file_extension": ".py",
   "mimetype": "text/x-python",
   "name": "python",
   "nbconvert_exporter": "python",
   "pygments_lexer": "ipython3",
   "version": "3.7.6"
  }
 },
 "nbformat": 4,
 "nbformat_minor": 4
}
