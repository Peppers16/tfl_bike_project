{
 "cells": [
  {
   "cell_type": "markdown",
   "metadata": {},
   "source": [
    "# Initial Exploration and Cleansing of cycleJourneys\n",
    "\n",
    "This is for the initial exploration of the cycleJourneys dataset, primarily focusing on data integrity, and the best approaches to data-cleaning. \n",
    "\n",
    "This notebook is experimental and exploratory in nature. The initention is to eventually produce a script to apply all 'final' transformations based on learnings here. "
   ]
  },
  {
   "cell_type": "code",
   "execution_count": 25,
   "metadata": {},
   "outputs": [],
   "source": [
    "journeys_path = '..\\data\\cycle_journeys\\JourneysDataCombined.csv'\n",
    "stations_path = '..\\data\\cycle_journeys\\Station Lookup.csv'"
   ]
  },
  {
   "cell_type": "code",
   "execution_count": 77,
   "metadata": {},
   "outputs": [],
   "source": [
    "import pandas as pd\n",
    "import random\n",
    "import networkx as nx\n",
    "from matplotlib import pyplot as plt\n",
    "import numpy as np\n",
    "import seaborn as sns"
   ]
  },
  {
   "cell_type": "markdown",
   "metadata": {},
   "source": [
    "## Cleanse Stations\n",
    "We will need to cleanse the station ids as certain files have corrupted schemas. \n",
    "\n",
    "But, this could turn-out to be quite a big part of the project! "
   ]
  },
  {
   "cell_type": "markdown",
   "metadata": {},
   "source": [
    "## Sample Journeys and Inspect"
   ]
  },
  {
   "cell_type": "code",
   "execution_count": 28,
   "metadata": {},
   "outputs": [],
   "source": [
    "# We will sample just 5% of journeys, using skiprows\n",
    "p = 0.01 \n",
    "random.seed(16)\n",
    "\n",
    "df_samp = pd.read_csv(\n",
    "        journeys_path\n",
    "        ,header=0\n",
    "        ,sep=','\n",
    "        ,skiprows=lambda i: i>0 and random.random() > p\n",
    "        ,parse_dates=['Start Date', 'End Date']\n",
    "        ,infer_datetime_format=True\n",
    ")"
   ]
  },
  {
   "cell_type": "code",
   "execution_count": 29,
   "metadata": {},
   "outputs": [
    {
     "data": {
      "text/html": [
       "<div>\n",
       "<style scoped>\n",
       "    .dataframe tbody tr th:only-of-type {\n",
       "        vertical-align: middle;\n",
       "    }\n",
       "\n",
       "    .dataframe tbody tr th {\n",
       "        vertical-align: top;\n",
       "    }\n",
       "\n",
       "    .dataframe thead th {\n",
       "        text-align: right;\n",
       "    }\n",
       "</style>\n",
       "<table border=\"1\" class=\"dataframe\">\n",
       "  <thead>\n",
       "    <tr style=\"text-align: right;\">\n",
       "      <th></th>\n",
       "      <th>Rental Id</th>\n",
       "      <th>Duration</th>\n",
       "      <th>Bike Id</th>\n",
       "      <th>End Date</th>\n",
       "      <th>EndStation Id</th>\n",
       "      <th>Start Date</th>\n",
       "      <th>StartStation Id</th>\n",
       "    </tr>\n",
       "  </thead>\n",
       "  <tbody>\n",
       "    <tr>\n",
       "      <th>0</th>\n",
       "      <td>50754299.0</td>\n",
       "      <td>1320.0</td>\n",
       "      <td>3118.0</td>\n",
       "      <td>2016-10-01 00:50:00</td>\n",
       "      <td>686.0</td>\n",
       "      <td>2016-10-01 00:28:00</td>\n",
       "      <td>166.0</td>\n",
       "    </tr>\n",
       "    <tr>\n",
       "      <th>1</th>\n",
       "      <td>50754531.0</td>\n",
       "      <td>4860.0</td>\n",
       "      <td>11001.0</td>\n",
       "      <td>2016-10-01 02:56:00</td>\n",
       "      <td>481.0</td>\n",
       "      <td>2016-10-01 01:35:00</td>\n",
       "      <td>654.0</td>\n",
       "    </tr>\n",
       "    <tr>\n",
       "      <th>2</th>\n",
       "      <td>50754559.0</td>\n",
       "      <td>300.0</td>\n",
       "      <td>397.0</td>\n",
       "      <td>2016-10-01 01:45:00</td>\n",
       "      <td>192.0</td>\n",
       "      <td>2016-10-01 01:40:00</td>\n",
       "      <td>244.0</td>\n",
       "    </tr>\n",
       "    <tr>\n",
       "      <th>3</th>\n",
       "      <td>50754568.0</td>\n",
       "      <td>300.0</td>\n",
       "      <td>8480.0</td>\n",
       "      <td>2016-10-01 01:50:00</td>\n",
       "      <td>197.0</td>\n",
       "      <td>2016-10-01 01:45:00</td>\n",
       "      <td>230.0</td>\n",
       "    </tr>\n",
       "    <tr>\n",
       "      <th>4</th>\n",
       "      <td>50754625.0</td>\n",
       "      <td>840.0</td>\n",
       "      <td>863.0</td>\n",
       "      <td>2016-10-01 02:20:00</td>\n",
       "      <td>664.0</td>\n",
       "      <td>2016-10-01 02:06:00</td>\n",
       "      <td>738.0</td>\n",
       "    </tr>\n",
       "  </tbody>\n",
       "</table>\n",
       "</div>"
      ],
      "text/plain": [
       "    Rental Id  Duration  Bike Id            End Date  EndStation Id  \\\n",
       "0  50754299.0    1320.0   3118.0 2016-10-01 00:50:00          686.0   \n",
       "1  50754531.0    4860.0  11001.0 2016-10-01 02:56:00          481.0   \n",
       "2  50754559.0     300.0    397.0 2016-10-01 01:45:00          192.0   \n",
       "3  50754568.0     300.0   8480.0 2016-10-01 01:50:00          197.0   \n",
       "4  50754625.0     840.0    863.0 2016-10-01 02:20:00          664.0   \n",
       "\n",
       "           Start Date  StartStation Id  \n",
       "0 2016-10-01 00:28:00            166.0  \n",
       "1 2016-10-01 01:35:00            654.0  \n",
       "2 2016-10-01 01:40:00            244.0  \n",
       "3 2016-10-01 01:45:00            230.0  \n",
       "4 2016-10-01 02:06:00            738.0  "
      ]
     },
     "execution_count": 29,
     "metadata": {},
     "output_type": "execute_result"
    }
   ],
   "source": [
    "df_samp.head()"
   ]
  },
  {
   "cell_type": "code",
   "execution_count": 30,
   "metadata": {},
   "outputs": [
    {
     "name": "stdout",
     "output_type": "stream",
     "text": [
      "<class 'pandas.core.frame.DataFrame'>\n",
      "RangeIndex: 759387 entries, 0 to 759386\n",
      "Data columns (total 7 columns):\n",
      "Rental Id          747021 non-null float64\n",
      "Duration           745345 non-null float64\n",
      "Bike Id            747020 non-null float64\n",
      "End Date           745345 non-null datetime64[ns]\n",
      "EndStation Id      745190 non-null float64\n",
      "Start Date         747021 non-null datetime64[ns]\n",
      "StartStation Id    747021 non-null float64\n",
      "dtypes: datetime64[ns](2), float64(5)\n",
      "memory usage: 40.6 MB\n"
     ]
    }
   ],
   "source": [
    "df_samp.info()"
   ]
  },
  {
   "cell_type": "markdown",
   "metadata": {},
   "source": [
    "## Start Dates"
   ]
  },
  {
   "cell_type": "code",
   "execution_count": 31,
   "metadata": {},
   "outputs": [
    {
     "data": {
      "text/plain": [
       "<matplotlib.axes._subplots.AxesSubplot at 0x1a9906299b0>"
      ]
     },
     "execution_count": 31,
     "metadata": {},
     "output_type": "execute_result"
    },
    {
     "data": {
      "image/png": "[encoded data removed]",
      "text/plain": [
       "<Figure size 432x288 with 1 Axes>"
      ]
     },
     "metadata": {
      "needs_background": "light"
     },
     "output_type": "display_data"
    }
   ],
   "source": [
    "# Plot timeseries of journey volumes\n",
    "df_samp.groupby('Start Date').count()['Rental Id'].plot()"
   ]
  },
  {
   "cell_type": "markdown",
   "metadata": {},
   "source": [
    "**issue:** A handful of rows have 1900 start-dates, but such cases it appears End Date is valid, we can just reverse-engineer the Sart Date"
   ]
  },
  {
   "cell_type": "code",
   "execution_count": 32,
   "metadata": {},
   "outputs": [],
   "source": [
    "def correct_start_date_errors(df):\n",
    "    \"\"\" Void function: adds 'Start Date 2' column to the dataframe.\n",
    "    Dataset contains start dates in 1900. In such cases, the complimenting date column appears\n",
    "    to be correct, as well as the duration. This function attempts to fix the implausible start dates. \n",
    "    \"\"\"\n",
    "    \n",
    "    # Correct inplausible start dates \n",
    "    df['Start Date 2']= df['Start Date'].where(\n",
    "        (df['Start Date'] >= '2012') | (df['End Date'] < '2012')  # If start date is after 2012 we can trust it. If end date is before 2012, the fix won't work\n",
    "        ,df_samp['End Date'] - pd.to_timedelta(df_samp['Duration'], unit='s')  # else: correct start_date using end date\n",
    "        ,axis=0\n",
    "    )\n"
   ]
  },
  {
   "cell_type": "code",
   "execution_count": 33,
   "metadata": {},
   "outputs": [],
   "source": [
    "correct_start_date_errors(df_samp)"
   ]
  },
  {
   "cell_type": "code",
   "execution_count": 34,
   "metadata": {},
   "outputs": [
    {
     "data": {
      "text/plain": [
       "<matplotlib.axes._subplots.AxesSubplot at 0x1a996f9e4a8>"
      ]
     },
     "execution_count": 34,
     "metadata": {},
     "output_type": "execute_result"
    },
    {
     "data": {
      "image/png": "[encoded data removed]",
      "text/plain": [
       "<Figure size 432x288 with 1 Axes>"
      ]
     },
     "metadata": {
      "needs_background": "light"
     },
     "output_type": "display_data"
    }
   ],
   "source": [
    "# Plot 'corrected' timeseries of journeys\n",
    "df_samp.groupby('Start Date 2').count()['Rental Id'].plot()"
   ]
  },
  {
   "cell_type": "markdown",
   "metadata": {},
   "source": [
    "In `Start Date 2` the error has been corrected"
   ]
  },
  {
   "cell_type": "markdown",
   "metadata": {},
   "source": [
    "## End Date"
   ]
  },
  {
   "cell_type": "markdown",
   "metadata": {},
   "source": [
    "### End Dates before 2012"
   ]
  },
  {
   "cell_type": "code",
   "execution_count": 64,
   "metadata": {},
   "outputs": [
    {
     "data": {
      "text/html": [
       "<div>\n",
       "<style scoped>\n",
       "    .dataframe tbody tr th:only-of-type {\n",
       "        vertical-align: middle;\n",
       "    }\n",
       "\n",
       "    .dataframe tbody tr th {\n",
       "        vertical-align: top;\n",
       "    }\n",
       "\n",
       "    .dataframe thead th {\n",
       "        text-align: right;\n",
       "    }\n",
       "</style>\n",
       "<table border=\"1\" class=\"dataframe\">\n",
       "  <thead>\n",
       "    <tr style=\"text-align: right;\">\n",
       "      <th></th>\n",
       "      <th>Rental Id</th>\n",
       "      <th>Duration</th>\n",
       "      <th>Bike Id</th>\n",
       "      <th>End Date</th>\n",
       "      <th>EndStation Id</th>\n",
       "      <th>Start Date</th>\n",
       "      <th>StartStation Id</th>\n",
       "      <th>Start Date 2</th>\n",
       "      <th>End Date 2</th>\n",
       "      <th>EndStation Id 2</th>\n",
       "      <th>Duration 2</th>\n",
       "    </tr>\n",
       "  </thead>\n",
       "  <tbody>\n",
       "    <tr>\n",
       "      <th>262484</th>\n",
       "      <td>16280522.0</td>\n",
       "      <td>-1.347725e+09</td>\n",
       "      <td>5442.0</td>\n",
       "      <td>1970-01-01</td>\n",
       "      <td>0.0</td>\n",
       "      <td>2012-09-15 16:06:00</td>\n",
       "      <td>541.0</td>\n",
       "      <td>2012-09-15 16:06:00</td>\n",
       "      <td>NaT</td>\n",
       "      <td>NaN</td>\n",
       "      <td>NaN</td>\n",
       "    </tr>\n",
       "    <tr>\n",
       "      <th>718362</th>\n",
       "      <td>23669984.0</td>\n",
       "      <td>-1.375204e+09</td>\n",
       "      <td>7848.0</td>\n",
       "      <td>1970-01-01</td>\n",
       "      <td>0.0</td>\n",
       "      <td>2013-07-30 17:14:00</td>\n",
       "      <td>16.0</td>\n",
       "      <td>2013-07-30 17:14:00</td>\n",
       "      <td>NaT</td>\n",
       "      <td>NaN</td>\n",
       "      <td>NaN</td>\n",
       "    </tr>\n",
       "    <tr>\n",
       "      <th>718072</th>\n",
       "      <td>23659061.0</td>\n",
       "      <td>-1.375091e+09</td>\n",
       "      <td>3341.0</td>\n",
       "      <td>1970-01-01</td>\n",
       "      <td>0.0</td>\n",
       "      <td>2013-07-29 09:42:00</td>\n",
       "      <td>64.0</td>\n",
       "      <td>2013-07-29 09:42:00</td>\n",
       "      <td>NaT</td>\n",
       "      <td>NaN</td>\n",
       "      <td>NaN</td>\n",
       "    </tr>\n",
       "    <tr>\n",
       "      <th>372592</th>\n",
       "      <td>19050085.0</td>\n",
       "      <td>-1.357841e+09</td>\n",
       "      <td>1786.0</td>\n",
       "      <td>1970-01-01</td>\n",
       "      <td>NaN</td>\n",
       "      <td>2013-10-01 18:02:00</td>\n",
       "      <td>236.0</td>\n",
       "      <td>2013-10-01 18:02:00</td>\n",
       "      <td>NaT</td>\n",
       "      <td>NaN</td>\n",
       "      <td>NaN</td>\n",
       "    </tr>\n",
       "    <tr>\n",
       "      <th>429097</th>\n",
       "      <td>10901900.0</td>\n",
       "      <td>0.000000e+00</td>\n",
       "      <td>2574.0</td>\n",
       "      <td>1970-01-01</td>\n",
       "      <td>0.0</td>\n",
       "      <td>2012-03-25 09:10:00</td>\n",
       "      <td>78.0</td>\n",
       "      <td>2012-03-25 09:10:00</td>\n",
       "      <td>NaT</td>\n",
       "      <td>NaN</td>\n",
       "      <td>NaN</td>\n",
       "    </tr>\n",
       "    <tr>\n",
       "      <th>52927</th>\n",
       "      <td>24724171.0</td>\n",
       "      <td>-1.378278e+09</td>\n",
       "      <td>6139.0</td>\n",
       "      <td>1970-01-01</td>\n",
       "      <td>0.0</td>\n",
       "      <td>2013-04-09 06:56:00</td>\n",
       "      <td>167.0</td>\n",
       "      <td>2013-04-09 06:56:00</td>\n",
       "      <td>NaT</td>\n",
       "      <td>NaN</td>\n",
       "      <td>NaN</td>\n",
       "    </tr>\n",
       "    <tr>\n",
       "      <th>429122</th>\n",
       "      <td>10903910.0</td>\n",
       "      <td>0.000000e+00</td>\n",
       "      <td>7330.0</td>\n",
       "      <td>1970-01-01</td>\n",
       "      <td>0.0</td>\n",
       "      <td>2012-03-25 14:12:00</td>\n",
       "      <td>213.0</td>\n",
       "      <td>2012-03-25 14:12:00</td>\n",
       "      <td>NaT</td>\n",
       "      <td>NaN</td>\n",
       "      <td>NaN</td>\n",
       "    </tr>\n",
       "    <tr>\n",
       "      <th>673631</th>\n",
       "      <td>22857846.0</td>\n",
       "      <td>-1.373050e+09</td>\n",
       "      <td>5053.0</td>\n",
       "      <td>1970-01-01</td>\n",
       "      <td>0.0</td>\n",
       "      <td>2013-05-07 18:53:00</td>\n",
       "      <td>91.0</td>\n",
       "      <td>2013-05-07 18:53:00</td>\n",
       "      <td>NaT</td>\n",
       "      <td>NaN</td>\n",
       "      <td>NaN</td>\n",
       "    </tr>\n",
       "    <tr>\n",
       "      <th>239630</th>\n",
       "      <td>15668397.0</td>\n",
       "      <td>-1.346352e+09</td>\n",
       "      <td>8871.0</td>\n",
       "      <td>1970-01-01</td>\n",
       "      <td>0.0</td>\n",
       "      <td>2012-08-30 18:34:00</td>\n",
       "      <td>506.0</td>\n",
       "      <td>2012-08-30 18:34:00</td>\n",
       "      <td>NaT</td>\n",
       "      <td>NaN</td>\n",
       "      <td>NaN</td>\n",
       "    </tr>\n",
       "    <tr>\n",
       "      <th>462333</th>\n",
       "      <td>20251146.0</td>\n",
       "      <td>-1.363533e+09</td>\n",
       "      <td>4028.0</td>\n",
       "      <td>1970-01-01</td>\n",
       "      <td>0.0</td>\n",
       "      <td>2013-03-17 15:03:00</td>\n",
       "      <td>210.0</td>\n",
       "      <td>2013-03-17 15:03:00</td>\n",
       "      <td>NaT</td>\n",
       "      <td>NaN</td>\n",
       "      <td>NaN</td>\n",
       "    </tr>\n",
       "  </tbody>\n",
       "</table>\n",
       "</div>"
      ],
      "text/plain": [
       "         Rental Id      Duration  Bike Id   End Date  EndStation Id  \\\n",
       "262484  16280522.0 -1.347725e+09   5442.0 1970-01-01            0.0   \n",
       "718362  23669984.0 -1.375204e+09   7848.0 1970-01-01            0.0   \n",
       "718072  23659061.0 -1.375091e+09   3341.0 1970-01-01            0.0   \n",
       "372592  19050085.0 -1.357841e+09   1786.0 1970-01-01            NaN   \n",
       "429097  10901900.0  0.000000e+00   2574.0 1970-01-01            0.0   \n",
       "52927   24724171.0 -1.378278e+09   6139.0 1970-01-01            0.0   \n",
       "429122  10903910.0  0.000000e+00   7330.0 1970-01-01            0.0   \n",
       "673631  22857846.0 -1.373050e+09   5053.0 1970-01-01            0.0   \n",
       "239630  15668397.0 -1.346352e+09   8871.0 1970-01-01            0.0   \n",
       "462333  20251146.0 -1.363533e+09   4028.0 1970-01-01            0.0   \n",
       "\n",
       "                Start Date  StartStation Id        Start Date 2 End Date 2  \\\n",
       "262484 2012-09-15 16:06:00            541.0 2012-09-15 16:06:00        NaT   \n",
       "718362 2013-07-30 17:14:00             16.0 2013-07-30 17:14:00        NaT   \n",
       "718072 2013-07-29 09:42:00             64.0 2013-07-29 09:42:00        NaT   \n",
       "372592 2013-10-01 18:02:00            236.0 2013-10-01 18:02:00        NaT   \n",
       "429097 2012-03-25 09:10:00             78.0 2012-03-25 09:10:00        NaT   \n",
       "52927  2013-04-09 06:56:00            167.0 2013-04-09 06:56:00        NaT   \n",
       "429122 2012-03-25 14:12:00            213.0 2012-03-25 14:12:00        NaT   \n",
       "673631 2013-05-07 18:53:00             91.0 2013-05-07 18:53:00        NaT   \n",
       "239630 2012-08-30 18:34:00            506.0 2012-08-30 18:34:00        NaT   \n",
       "462333 2013-03-17 15:03:00            210.0 2013-03-17 15:03:00        NaT   \n",
       "\n",
       "        EndStation Id 2  Duration 2  \n",
       "262484              NaN         NaN  \n",
       "718362              NaN         NaN  \n",
       "718072              NaN         NaN  \n",
       "372592              NaN         NaN  \n",
       "429097              NaN         NaN  \n",
       "52927               NaN         NaN  \n",
       "429122              NaN         NaN  \n",
       "673631              NaN         NaN  \n",
       "239630              NaN         NaN  \n",
       "462333              NaN         NaN  "
      ]
     },
     "execution_count": 64,
     "metadata": {},
     "output_type": "execute_result"
    }
   ],
   "source": [
    "df_samp[df_samp['End Date'] < '2012'].sample(10)"
   ]
  },
  {
   "cell_type": "code",
   "execution_count": 37,
   "metadata": {},
   "outputs": [
    {
     "data": {
      "text/plain": [
       "0.0    2624\n",
       "Name: EndStation Id, dtype: int64"
      ]
     },
     "execution_count": 37,
     "metadata": {},
     "output_type": "execute_result"
    }
   ],
   "source": [
    "df_samp[df_samp['End Date'] < '2012']['EndStation Id'].value_counts()"
   ]
  },
  {
   "cell_type": "code",
   "execution_count": 50,
   "metadata": {},
   "outputs": [
    {
     "data": {
      "text/plain": [
       "2013    1520\n",
       "2012    1251\n",
       "Name: Start Date 2, dtype: int64"
      ]
     },
     "execution_count": 50,
     "metadata": {},
     "output_type": "execute_result"
    }
   ],
   "source": [
    "df_samp[df_samp['End Date'] < '2012']['Start Date 2'].dt.year.value_counts()"
   ]
  },
  {
   "cell_type": "markdown",
   "metadata": {},
   "source": [
    "Some rows have an end date on the epoch. These all occur in 2012-2013 and in every case the EndStation Id is '0' (NA)\n",
    "\n",
    "I suspect that these are journeys without an EndStation (i.e. theft etc) and that the End Date was supposed to be 'NaT' but got replaced with zero, which was then interpreted as 1970-01-01\n",
    "\n",
    "To test this, I will see if there are similar volumes of 'NaT' after 2013"
   ]
  },
  {
   "cell_type": "code",
   "execution_count": 49,
   "metadata": {},
   "outputs": [
    {
     "data": {
      "text/plain": [
       "2016.0    1047\n",
       "2017.0     629\n",
       "Name: Start Date 2, dtype: int64"
      ]
     },
     "execution_count": 49,
     "metadata": {},
     "output_type": "execute_result"
    }
   ],
   "source": [
    "# Volumes of NaT over years\n",
    "df_samp[df_samp['End Date'].isna()]['Start Date 2'].dt.year.value_counts()"
   ]
  },
  {
   "cell_type": "code",
   "execution_count": 51,
   "metadata": {},
   "outputs": [
    {
     "data": {
      "text/plain": [
       "2013.0    1520\n",
       "2012.0    1297\n",
       "2016.0    1053\n",
       "2017.0     629\n",
       "2015.0       1\n",
       "2014.0       1\n",
       "Name: Start Date 2, dtype: int64"
      ]
     },
     "execution_count": 51,
     "metadata": {},
     "output_type": "execute_result"
    }
   ],
   "source": [
    "df_samp[df_samp['EndStation Id'].isna() | (df_samp['EndStation Id']==0)]['Start Date 2'].dt.year.value_counts()"
   ]
  },
  {
   "cell_type": "markdown",
   "metadata": {},
   "source": [
    "For unknown reasons 'lost bike journeys' seem to be absent from the 2014/2015 datasets. \n",
    "\n",
    "But, the volumes of End Stations and End Dates == 0 in 2012-2013 are comparable to the volumes where they are NaN and NaT respectively in 2016/2017. \n",
    "\n",
    "So, the best action is to replace NaN/NaT"
   ]
  },
  {
   "cell_type": "code",
   "execution_count": 59,
   "metadata": {},
   "outputs": [],
   "source": [
    "def correct_0_end_date_stations(df):\n",
    "    \"\"\" Void function: adds 'End Date 2' and 'EndStation Id 2' and 'Duration 2' columns to the dataframe.\n",
    "    In 2012/2013, missing end dates and missing end stations are encoded as 1970-01-01 and 0, respectively. \n",
    "    This function replaces those cases with NaT and NaN\n",
    "    \"\"\"\n",
    "    \n",
    "    # Replace 1970 End Dates with NaT \n",
    "    df['End Date 2']= df['End Date'].where(\n",
    "        df['End Date'] >= '2012'\n",
    "        ,pd.NaT\n",
    "        ,axis=0\n",
    "    )\n",
    "    \n",
    "    df['Duration 2']= df['Duration'].where(\n",
    "        (df['End Date'] >= '2012') & (df['Duration'] >= 0)\n",
    "        ,np.NaN\n",
    "        ,axis=0\n",
    "    )\n",
    "    \n",
    "    df['EndStation Id 2'] = df['EndStation Id'].where(\n",
    "        df['EndStation Id'] != 0\n",
    "        ,np.NaN\n",
    "    )\n"
   ]
  },
  {
   "cell_type": "code",
   "execution_count": 60,
   "metadata": {},
   "outputs": [],
   "source": [
    "correct_0_end_date_stations(df_samp)"
   ]
  },
  {
   "cell_type": "code",
   "execution_count": 63,
   "metadata": {},
   "outputs": [
    {
     "data": {
      "text/html": [
       "<div>\n",
       "<style scoped>\n",
       "    .dataframe tbody tr th:only-of-type {\n",
       "        vertical-align: middle;\n",
       "    }\n",
       "\n",
       "    .dataframe tbody tr th {\n",
       "        vertical-align: top;\n",
       "    }\n",
       "\n",
       "    .dataframe thead th {\n",
       "        text-align: right;\n",
       "    }\n",
       "</style>\n",
       "<table border=\"1\" class=\"dataframe\">\n",
       "  <thead>\n",
       "    <tr style=\"text-align: right;\">\n",
       "      <th></th>\n",
       "      <th>Rental Id</th>\n",
       "      <th>Duration</th>\n",
       "      <th>Bike Id</th>\n",
       "      <th>End Date</th>\n",
       "      <th>EndStation Id</th>\n",
       "      <th>Start Date</th>\n",
       "      <th>StartStation Id</th>\n",
       "      <th>Start Date 2</th>\n",
       "      <th>End Date 2</th>\n",
       "      <th>EndStation Id 2</th>\n",
       "      <th>Duration 2</th>\n",
       "    </tr>\n",
       "  </thead>\n",
       "  <tbody>\n",
       "    <tr>\n",
       "      <th>461301</th>\n",
       "      <td>20136965.0</td>\n",
       "      <td>-1.362945e+09</td>\n",
       "      <td>2437.0</td>\n",
       "      <td>1970-01-01</td>\n",
       "      <td>0.0</td>\n",
       "      <td>2013-10-03 19:49:00</td>\n",
       "      <td>483.0</td>\n",
       "      <td>2013-10-03 19:49:00</td>\n",
       "      <td>NaT</td>\n",
       "      <td>NaN</td>\n",
       "      <td>NaN</td>\n",
       "    </tr>\n",
       "    <tr>\n",
       "      <th>494833</th>\n",
       "      <td>20657858.0</td>\n",
       "      <td>-1.365686e+09</td>\n",
       "      <td>1705.0</td>\n",
       "      <td>1970-01-01</td>\n",
       "      <td>0.0</td>\n",
       "      <td>2013-11-04 13:14:00</td>\n",
       "      <td>192.0</td>\n",
       "      <td>2013-11-04 13:14:00</td>\n",
       "      <td>NaT</td>\n",
       "      <td>NaN</td>\n",
       "      <td>NaN</td>\n",
       "    </tr>\n",
       "    <tr>\n",
       "      <th>350741</th>\n",
       "      <td>18367586.0</td>\n",
       "      <td>-1.354455e+09</td>\n",
       "      <td>900.0</td>\n",
       "      <td>1970-01-01</td>\n",
       "      <td>0.0</td>\n",
       "      <td>2012-02-12 13:23:00</td>\n",
       "      <td>486.0</td>\n",
       "      <td>2012-02-12 13:23:00</td>\n",
       "      <td>NaT</td>\n",
       "      <td>NaN</td>\n",
       "      <td>NaN</td>\n",
       "    </tr>\n",
       "    <tr>\n",
       "      <th>428167</th>\n",
       "      <td>10807465.0</td>\n",
       "      <td>0.000000e+00</td>\n",
       "      <td>2853.0</td>\n",
       "      <td>1970-01-01</td>\n",
       "      <td>0.0</td>\n",
       "      <td>2012-03-22 07:59:00</td>\n",
       "      <td>324.0</td>\n",
       "      <td>2012-03-22 07:59:00</td>\n",
       "      <td>NaT</td>\n",
       "      <td>NaN</td>\n",
       "      <td>NaN</td>\n",
       "    </tr>\n",
       "    <tr>\n",
       "      <th>324304</th>\n",
       "      <td>17676809.0</td>\n",
       "      <td>-1.351948e+09</td>\n",
       "      <td>4276.0</td>\n",
       "      <td>1970-01-01</td>\n",
       "      <td>0.0</td>\n",
       "      <td>2012-03-11 13:08:00</td>\n",
       "      <td>503.0</td>\n",
       "      <td>2012-03-11 13:08:00</td>\n",
       "      <td>NaT</td>\n",
       "      <td>NaN</td>\n",
       "      <td>NaN</td>\n",
       "    </tr>\n",
       "  </tbody>\n",
       "</table>\n",
       "</div>"
      ],
      "text/plain": [
       "         Rental Id      Duration  Bike Id   End Date  EndStation Id  \\\n",
       "461301  20136965.0 -1.362945e+09   2437.0 1970-01-01            0.0   \n",
       "494833  20657858.0 -1.365686e+09   1705.0 1970-01-01            0.0   \n",
       "350741  18367586.0 -1.354455e+09    900.0 1970-01-01            0.0   \n",
       "428167  10807465.0  0.000000e+00   2853.0 1970-01-01            0.0   \n",
       "324304  17676809.0 -1.351948e+09   4276.0 1970-01-01            0.0   \n",
       "\n",
       "                Start Date  StartStation Id        Start Date 2 End Date 2  \\\n",
       "461301 2013-10-03 19:49:00            483.0 2013-10-03 19:49:00        NaT   \n",
       "494833 2013-11-04 13:14:00            192.0 2013-11-04 13:14:00        NaT   \n",
       "350741 2012-02-12 13:23:00            486.0 2012-02-12 13:23:00        NaT   \n",
       "428167 2012-03-22 07:59:00            324.0 2012-03-22 07:59:00        NaT   \n",
       "324304 2012-03-11 13:08:00            503.0 2012-03-11 13:08:00        NaT   \n",
       "\n",
       "        EndStation Id 2  Duration 2  \n",
       "461301              NaN         NaN  \n",
       "494833              NaN         NaN  \n",
       "350741              NaN         NaN  \n",
       "428167              NaN         NaN  \n",
       "324304              NaN         NaN  "
      ]
     },
     "execution_count": 63,
     "metadata": {},
     "output_type": "execute_result"
    }
   ],
   "source": [
    "df_samp[df_samp['End Date'] < '2012'].sample(5)"
   ]
  },
  {
   "cell_type": "markdown",
   "metadata": {},
   "source": [
    "End Date / Negative Duration Issue corrected. "
   ]
  },
  {
   "cell_type": "markdown",
   "metadata": {},
   "source": [
    "## Duration"
   ]
  },
  {
   "cell_type": "markdown",
   "metadata": {},
   "source": [
    "Whilst fixing the 1970 end dates issue, I should have also fixed the 'negative duration' issue with the `Duration 2` field. \n",
    "\n",
    "Explore whether there are any other issues with this field"
   ]
  },
  {
   "cell_type": "code",
   "execution_count": 67,
   "metadata": {},
   "outputs": [
    {
     "data": {
      "text/plain": [
       "<matplotlib.collections.PathCollection at 0x1a9a51ad048>"
      ]
     },
     "execution_count": 67,
     "metadata": {},
     "output_type": "execute_result"
    },
    {
     "data": {
      "image/png": "[encoded data removed]",
      "text/plain": [
       "<Figure size 432x288 with 1 Axes>"
      ]
     },
     "metadata": {
      "needs_background": "light"
     },
     "output_type": "display_data"
    }
   ],
   "source": [
    "# Compare Duration 2 field with a manually-calculated duration field to validate\n",
    "df_samp['duration_from_dates'] = (df_samp['End Date 2'] - df_samp['Start Date 2'])/np.timedelta64(1,'s')\n",
    "plt.scatter(df_samp['Duration 2'].tolist(), df_samp['duration_from_dates'].tolist())"
   ]
  },
  {
   "cell_type": "code",
   "execution_count": 92,
   "metadata": {},
   "outputs": [
    {
     "data": {
      "text/plain": [
       "<seaborn.axisgrid.JointGrid at 0x1a9983c5cf8>"
      ]
     },
     "execution_count": 92,
     "metadata": {},
     "output_type": "execute_result"
    },
    {
     "data": {
      "image/png": "[encoded data removed]",
      "text/plain": [
       "<Figure size 432x432 with 3 Axes>"
      ]
     },
     "metadata": {
      "needs_background": "light"
     },
     "output_type": "display_data"
    }
   ],
   "source": [
    "sns.jointplot(\n",
    "    x=\"Duration 2\"\n",
    "    , y=\"duration_from_dates\"\n",
    "    , data=df_samp\n",
    "    , kind=\"hex\")"
   ]
  },
  {
   "cell_type": "code",
   "execution_count": 84,
   "metadata": {},
   "outputs": [
    {
     "data": {
      "text/plain": [
       "<seaborn.axisgrid.JointGrid at 0x1a99785dd30>"
      ]
     },
     "execution_count": 84,
     "metadata": {},
     "output_type": "execute_result"
    },
    {
     "data": {
      "image/png": "[encoded data removed]",
      "text/plain": [
       "<Figure size 432x432 with 3 Axes>"
      ]
     },
     "metadata": {
      "needs_background": "light"
     },
     "output_type": "display_data"
    }
   ],
   "source": [
    "zoom = (df_samp['Duration 2'] < 3000) & (df_samp['duration_from_dates'] < 3000) & (df_samp['duration_from_dates'] >= 0)\n",
    "\n",
    "sns.jointplot(\n",
    "    x=\"Duration 2\"\n",
    "    , y=\"duration_from_dates\"\n",
    "    , data=df_samp[zoom]\n",
    "    , kind=\"hex\")"
   ]
  },
  {
   "cell_type": "code",
   "execution_count": 73,
   "metadata": {},
   "outputs": [],
   "source": [
    "df_samp['End Date from Duration'] = df_samp['Start Date 2'] + pd.to_timedelta(df_samp['Duration 2'], unit='s')"
   ]
  },
  {
   "cell_type": "code",
   "execution_count": 74,
   "metadata": {},
   "outputs": [
    {
     "data": {
      "text/html": [
       "<div>\n",
       "<style scoped>\n",
       "    .dataframe tbody tr th:only-of-type {\n",
       "        vertical-align: middle;\n",
       "    }\n",
       "\n",
       "    .dataframe tbody tr th {\n",
       "        vertical-align: top;\n",
       "    }\n",
       "\n",
       "    .dataframe thead th {\n",
       "        text-align: right;\n",
       "    }\n",
       "</style>\n",
       "<table border=\"1\" class=\"dataframe\">\n",
       "  <thead>\n",
       "    <tr style=\"text-align: right;\">\n",
       "      <th></th>\n",
       "      <th>Rental Id</th>\n",
       "      <th>Duration</th>\n",
       "      <th>Bike Id</th>\n",
       "      <th>End Date</th>\n",
       "      <th>EndStation Id</th>\n",
       "      <th>Start Date</th>\n",
       "      <th>StartStation Id</th>\n",
       "      <th>Start Date 2</th>\n",
       "      <th>End Date 2</th>\n",
       "      <th>EndStation Id 2</th>\n",
       "      <th>Duration 2</th>\n",
       "      <th>duration_from_dates</th>\n",
       "      <th>End Date from Duration</th>\n",
       "    </tr>\n",
       "  </thead>\n",
       "  <tbody>\n",
       "    <tr>\n",
       "      <th>629779</th>\n",
       "      <td>68524197.0</td>\n",
       "      <td>1192.0</td>\n",
       "      <td>13174.0</td>\n",
       "      <td>2017-08-17 17:29:00</td>\n",
       "      <td>387.0</td>\n",
       "      <td>2017-08-17 17:09:00</td>\n",
       "      <td>15.0</td>\n",
       "      <td>2017-08-17 17:09:00</td>\n",
       "      <td>2017-08-17 17:29:00</td>\n",
       "      <td>387.0</td>\n",
       "      <td>1192.0</td>\n",
       "      <td>1200.0</td>\n",
       "      <td>2017-08-17 17:28:52</td>\n",
       "    </tr>\n",
       "    <tr>\n",
       "      <th>328828</th>\n",
       "      <td>18133184.0</td>\n",
       "      <td>5242.0</td>\n",
       "      <td>3188.0</td>\n",
       "      <td>2012-11-21 05:49:00</td>\n",
       "      <td>462.0</td>\n",
       "      <td>2012-11-21 04:22:00</td>\n",
       "      <td>425.0</td>\n",
       "      <td>2012-11-21 04:22:00</td>\n",
       "      <td>2012-11-21 05:49:00</td>\n",
       "      <td>462.0</td>\n",
       "      <td>5242.0</td>\n",
       "      <td>5220.0</td>\n",
       "      <td>2012-11-21 05:49:22</td>\n",
       "    </tr>\n",
       "    <tr>\n",
       "      <th>716498</th>\n",
       "      <td>23582817.0</td>\n",
       "      <td>562.0</td>\n",
       "      <td>2926.0</td>\n",
       "      <td>2013-07-26 09:05:00</td>\n",
       "      <td>239.0</td>\n",
       "      <td>2013-07-26 08:56:00</td>\n",
       "      <td>581.0</td>\n",
       "      <td>2013-07-26 08:56:00</td>\n",
       "      <td>2013-07-26 09:05:00</td>\n",
       "      <td>239.0</td>\n",
       "      <td>562.0</td>\n",
       "      <td>540.0</td>\n",
       "      <td>2013-07-26 09:05:22</td>\n",
       "    </tr>\n",
       "    <tr>\n",
       "      <th>325329</th>\n",
       "      <td>17781083.0</td>\n",
       "      <td>1581.0</td>\n",
       "      <td>8285.0</td>\n",
       "      <td>2012-07-11 09:39:00</td>\n",
       "      <td>104.0</td>\n",
       "      <td>2012-07-11 09:12:00</td>\n",
       "      <td>197.0</td>\n",
       "      <td>2012-07-11 09:12:00</td>\n",
       "      <td>2012-07-11 09:39:00</td>\n",
       "      <td>104.0</td>\n",
       "      <td>1581.0</td>\n",
       "      <td>1620.0</td>\n",
       "      <td>2012-07-11 09:38:21</td>\n",
       "    </tr>\n",
       "    <tr>\n",
       "      <th>228636</th>\n",
       "      <td>NaN</td>\n",
       "      <td>NaN</td>\n",
       "      <td>NaN</td>\n",
       "      <td>NaT</td>\n",
       "      <td>NaN</td>\n",
       "      <td>NaT</td>\n",
       "      <td>NaN</td>\n",
       "      <td>NaT</td>\n",
       "      <td>NaT</td>\n",
       "      <td>NaN</td>\n",
       "      <td>NaN</td>\n",
       "      <td>NaN</td>\n",
       "      <td>NaT</td>\n",
       "    </tr>\n",
       "    <tr>\n",
       "      <th>632537</th>\n",
       "      <td>68824998.0</td>\n",
       "      <td>312.0</td>\n",
       "      <td>14081.0</td>\n",
       "      <td>2017-08-26 20:42:00</td>\n",
       "      <td>697.0</td>\n",
       "      <td>2017-08-26 20:37:00</td>\n",
       "      <td>804.0</td>\n",
       "      <td>2017-08-26 20:37:00</td>\n",
       "      <td>2017-08-26 20:42:00</td>\n",
       "      <td>697.0</td>\n",
       "      <td>312.0</td>\n",
       "      <td>300.0</td>\n",
       "      <td>2017-08-26 20:42:12</td>\n",
       "    </tr>\n",
       "    <tr>\n",
       "      <th>557546</th>\n",
       "      <td>21530512.0</td>\n",
       "      <td>426.0</td>\n",
       "      <td>4728.0</td>\n",
       "      <td>2013-05-16 07:06:00</td>\n",
       "      <td>48.0</td>\n",
       "      <td>2013-05-16 06:59:00</td>\n",
       "      <td>173.0</td>\n",
       "      <td>2013-05-16 06:59:00</td>\n",
       "      <td>2013-05-16 07:06:00</td>\n",
       "      <td>48.0</td>\n",
       "      <td>426.0</td>\n",
       "      <td>420.0</td>\n",
       "      <td>2013-05-16 07:06:06</td>\n",
       "    </tr>\n",
       "    <tr>\n",
       "      <th>265063</th>\n",
       "      <td>16551007.0</td>\n",
       "      <td>717.0</td>\n",
       "      <td>3204.0</td>\n",
       "      <td>2012-09-24 17:49:00</td>\n",
       "      <td>457.0</td>\n",
       "      <td>2012-09-24 17:37:00</td>\n",
       "      <td>98.0</td>\n",
       "      <td>2012-09-24 17:37:00</td>\n",
       "      <td>2012-09-24 17:49:00</td>\n",
       "      <td>457.0</td>\n",
       "      <td>717.0</td>\n",
       "      <td>720.0</td>\n",
       "      <td>2012-09-24 17:48:57</td>\n",
       "    </tr>\n",
       "    <tr>\n",
       "      <th>262511</th>\n",
       "      <td>16283512.0</td>\n",
       "      <td>447.0</td>\n",
       "      <td>5579.0</td>\n",
       "      <td>2012-09-15 13:21:00</td>\n",
       "      <td>527.0</td>\n",
       "      <td>2012-09-15 13:14:00</td>\n",
       "      <td>158.0</td>\n",
       "      <td>2012-09-15 13:14:00</td>\n",
       "      <td>2012-09-15 13:21:00</td>\n",
       "      <td>527.0</td>\n",
       "      <td>447.0</td>\n",
       "      <td>420.0</td>\n",
       "      <td>2012-09-15 13:21:27</td>\n",
       "    </tr>\n",
       "    <tr>\n",
       "      <th>418819</th>\n",
       "      <td>19576770.0</td>\n",
       "      <td>422.0</td>\n",
       "      <td>9060.0</td>\n",
       "      <td>2013-08-02 11:47:00</td>\n",
       "      <td>94.0</td>\n",
       "      <td>2013-08-02 11:40:00</td>\n",
       "      <td>194.0</td>\n",
       "      <td>2013-08-02 11:40:00</td>\n",
       "      <td>2013-08-02 11:47:00</td>\n",
       "      <td>94.0</td>\n",
       "      <td>422.0</td>\n",
       "      <td>420.0</td>\n",
       "      <td>2013-08-02 11:47:02</td>\n",
       "    </tr>\n",
       "  </tbody>\n",
       "</table>\n",
       "</div>"
      ],
      "text/plain": [
       "         Rental Id  Duration  Bike Id            End Date  EndStation Id  \\\n",
       "629779  68524197.0    1192.0  13174.0 2017-08-17 17:29:00          387.0   \n",
       "328828  18133184.0    5242.0   3188.0 2012-11-21 05:49:00          462.0   \n",
       "716498  23582817.0     562.0   2926.0 2013-07-26 09:05:00          239.0   \n",
       "325329  17781083.0    1581.0   8285.0 2012-07-11 09:39:00          104.0   \n",
       "228636         NaN       NaN      NaN                 NaT            NaN   \n",
       "632537  68824998.0     312.0  14081.0 2017-08-26 20:42:00          697.0   \n",
       "557546  21530512.0     426.0   4728.0 2013-05-16 07:06:00           48.0   \n",
       "265063  16551007.0     717.0   3204.0 2012-09-24 17:49:00          457.0   \n",
       "262511  16283512.0     447.0   5579.0 2012-09-15 13:21:00          527.0   \n",
       "418819  19576770.0     422.0   9060.0 2013-08-02 11:47:00           94.0   \n",
       "\n",
       "                Start Date  StartStation Id        Start Date 2  \\\n",
       "629779 2017-08-17 17:09:00             15.0 2017-08-17 17:09:00   \n",
       "328828 2012-11-21 04:22:00            425.0 2012-11-21 04:22:00   \n",
       "716498 2013-07-26 08:56:00            581.0 2013-07-26 08:56:00   \n",
       "325329 2012-07-11 09:12:00            197.0 2012-07-11 09:12:00   \n",
       "228636                 NaT              NaN                 NaT   \n",
       "632537 2017-08-26 20:37:00            804.0 2017-08-26 20:37:00   \n",
       "557546 2013-05-16 06:59:00            173.0 2013-05-16 06:59:00   \n",
       "265063 2012-09-24 17:37:00             98.0 2012-09-24 17:37:00   \n",
       "262511 2012-09-15 13:14:00            158.0 2012-09-15 13:14:00   \n",
       "418819 2013-08-02 11:40:00            194.0 2013-08-02 11:40:00   \n",
       "\n",
       "                End Date 2  EndStation Id 2  Duration 2  duration_from_dates  \\\n",
       "629779 2017-08-17 17:29:00            387.0      1192.0               1200.0   \n",
       "328828 2012-11-21 05:49:00            462.0      5242.0               5220.0   \n",
       "716498 2013-07-26 09:05:00            239.0       562.0                540.0   \n",
       "325329 2012-07-11 09:39:00            104.0      1581.0               1620.0   \n",
       "228636                 NaT              NaN         NaN                  NaN   \n",
       "632537 2017-08-26 20:42:00            697.0       312.0                300.0   \n",
       "557546 2013-05-16 07:06:00             48.0       426.0                420.0   \n",
       "265063 2012-09-24 17:49:00            457.0       717.0                720.0   \n",
       "262511 2012-09-15 13:21:00            527.0       447.0                420.0   \n",
       "418819 2013-08-02 11:47:00             94.0       422.0                420.0   \n",
       "\n",
       "       End Date from Duration  \n",
       "629779    2017-08-17 17:28:52  \n",
       "328828    2012-11-21 05:49:22  \n",
       "716498    2013-07-26 09:05:22  \n",
       "325329    2012-07-11 09:38:21  \n",
       "228636                    NaT  \n",
       "632537    2017-08-26 20:42:12  \n",
       "557546    2013-05-16 07:06:06  \n",
       "265063    2012-09-24 17:48:57  \n",
       "262511    2012-09-15 13:21:27  \n",
       "418819    2013-08-02 11:47:02  "
      ]
     },
     "execution_count": 74,
     "metadata": {},
     "output_type": "execute_result"
    }
   ],
   "source": [
    "df_samp[df_samp['duration_from_dates'] != df_samp['Duration 2']].sample(10)"
   ]
  },
  {
   "cell_type": "code",
   "execution_count": 75,
   "metadata": {},
   "outputs": [
    {
     "data": {
      "text/html": [
       "<div>\n",
       "<style scoped>\n",
       "    .dataframe tbody tr th:only-of-type {\n",
       "        vertical-align: middle;\n",
       "    }\n",
       "\n",
       "    .dataframe tbody tr th {\n",
       "        vertical-align: top;\n",
       "    }\n",
       "\n",
       "    .dataframe thead th {\n",
       "        text-align: right;\n",
       "    }\n",
       "</style>\n",
       "<table border=\"1\" class=\"dataframe\">\n",
       "  <thead>\n",
       "    <tr style=\"text-align: right;\">\n",
       "      <th></th>\n",
       "      <th>Rental Id</th>\n",
       "      <th>Duration</th>\n",
       "      <th>Bike Id</th>\n",
       "      <th>End Date</th>\n",
       "      <th>EndStation Id</th>\n",
       "      <th>Start Date</th>\n",
       "      <th>StartStation Id</th>\n",
       "      <th>Start Date 2</th>\n",
       "      <th>End Date 2</th>\n",
       "      <th>EndStation Id 2</th>\n",
       "      <th>Duration 2</th>\n",
       "      <th>duration_from_dates</th>\n",
       "      <th>End Date from Duration</th>\n",
       "    </tr>\n",
       "  </thead>\n",
       "  <tbody>\n",
       "    <tr>\n",
       "      <th>4412</th>\n",
       "      <td>51217356.0</td>\n",
       "      <td>91620.0</td>\n",
       "      <td>2309.0</td>\n",
       "      <td>2016-01-02 18:34:00</td>\n",
       "      <td>41.0</td>\n",
       "      <td>2016-01-31 17:07:00</td>\n",
       "      <td>311.0</td>\n",
       "      <td>2016-01-31 17:07:00</td>\n",
       "      <td>2016-01-02 18:34:00</td>\n",
       "      <td>41.0</td>\n",
       "      <td>91620.0</td>\n",
       "      <td>-2500380.0</td>\n",
       "      <td>2016-02-01 18:34:00</td>\n",
       "    </tr>\n",
       "    <tr>\n",
       "      <th>7106</th>\n",
       "      <td>51495675.0</td>\n",
       "      <td>420.0</td>\n",
       "      <td>8336.0</td>\n",
       "      <td>2016-02-13 00:00:00</td>\n",
       "      <td>113.0</td>\n",
       "      <td>2016-12-02 23:53:00</td>\n",
       "      <td>157.0</td>\n",
       "      <td>2016-12-02 23:53:00</td>\n",
       "      <td>2016-02-13 00:00:00</td>\n",
       "      <td>113.0</td>\n",
       "      <td>420.0</td>\n",
       "      <td>-25401180.0</td>\n",
       "      <td>2016-12-03 00:00:00</td>\n",
       "    </tr>\n",
       "    <tr>\n",
       "      <th>12848</th>\n",
       "      <td>52101691.0</td>\n",
       "      <td>10440.0</td>\n",
       "      <td>7697.0</td>\n",
       "      <td>2016-03-13 00:00:00</td>\n",
       "      <td>407.0</td>\n",
       "      <td>2016-12-03 21:06:00</td>\n",
       "      <td>407.0</td>\n",
       "      <td>2016-12-03 21:06:00</td>\n",
       "      <td>2016-03-13 00:00:00</td>\n",
       "      <td>407.0</td>\n",
       "      <td>10440.0</td>\n",
       "      <td>-22971960.0</td>\n",
       "      <td>2016-12-04 00:00:00</td>\n",
       "    </tr>\n",
       "    <tr>\n",
       "      <th>12858</th>\n",
       "      <td>52102738.0</td>\n",
       "      <td>1320.0</td>\n",
       "      <td>6146.0</td>\n",
       "      <td>2016-03-13 00:01:00</td>\n",
       "      <td>386.0</td>\n",
       "      <td>2016-12-03 23:39:00</td>\n",
       "      <td>427.0</td>\n",
       "      <td>2016-12-03 23:39:00</td>\n",
       "      <td>2016-03-13 00:01:00</td>\n",
       "      <td>386.0</td>\n",
       "      <td>1320.0</td>\n",
       "      <td>-22981080.0</td>\n",
       "      <td>2016-12-04 00:01:00</td>\n",
       "    </tr>\n",
       "    <tr>\n",
       "      <th>17067</th>\n",
       "      <td>52538845.0</td>\n",
       "      <td>900.0</td>\n",
       "      <td>6210.0</td>\n",
       "      <td>2016-01-04 00:10:00</td>\n",
       "      <td>690.0</td>\n",
       "      <td>2016-03-31 23:55:00</td>\n",
       "      <td>638.0</td>\n",
       "      <td>2016-03-31 23:55:00</td>\n",
       "      <td>2016-01-04 00:10:00</td>\n",
       "      <td>690.0</td>\n",
       "      <td>900.0</td>\n",
       "      <td>-7602300.0</td>\n",
       "      <td>2016-04-01 00:10:00</td>\n",
       "    </tr>\n",
       "    <tr>\n",
       "      <th>...</th>\n",
       "      <td>...</td>\n",
       "      <td>...</td>\n",
       "      <td>...</td>\n",
       "      <td>...</td>\n",
       "      <td>...</td>\n",
       "      <td>...</td>\n",
       "      <td>...</td>\n",
       "      <td>...</td>\n",
       "      <td>...</td>\n",
       "      <td>...</td>\n",
       "      <td>...</td>\n",
       "      <td>...</td>\n",
       "      <td>...</td>\n",
       "    </tr>\n",
       "    <tr>\n",
       "      <th>754826</th>\n",
       "      <td>37319058.0</td>\n",
       "      <td>300.0</td>\n",
       "      <td>10918.0</td>\n",
       "      <td>2014-09-13 00:01:00</td>\n",
       "      <td>131.0</td>\n",
       "      <td>2014-12-09 23:56:00</td>\n",
       "      <td>69.0</td>\n",
       "      <td>2014-12-09 23:56:00</td>\n",
       "      <td>2014-09-13 00:01:00</td>\n",
       "      <td>131.0</td>\n",
       "      <td>300.0</td>\n",
       "      <td>-7602900.0</td>\n",
       "      <td>2014-12-10 00:01:00</td>\n",
       "    </tr>\n",
       "    <tr>\n",
       "      <th>754827</th>\n",
       "      <td>37319086.0</td>\n",
       "      <td>840.0</td>\n",
       "      <td>8876.0</td>\n",
       "      <td>2014-09-13 00:12:00</td>\n",
       "      <td>600.0</td>\n",
       "      <td>2014-12-09 23:58:00</td>\n",
       "      <td>154.0</td>\n",
       "      <td>2014-12-09 23:58:00</td>\n",
       "      <td>2014-09-13 00:12:00</td>\n",
       "      <td>600.0</td>\n",
       "      <td>840.0</td>\n",
       "      <td>-7602360.0</td>\n",
       "      <td>2014-12-10 00:12:00</td>\n",
       "    </tr>\n",
       "    <tr>\n",
       "      <th>757653</th>\n",
       "      <td>47762119.0</td>\n",
       "      <td>57600.0</td>\n",
       "      <td>1605.0</td>\n",
       "      <td>2015-09-13 06:07:00</td>\n",
       "      <td>620.0</td>\n",
       "      <td>2015-12-09 14:07:00</td>\n",
       "      <td>597.0</td>\n",
       "      <td>2015-12-09 14:07:00</td>\n",
       "      <td>2015-09-13 06:07:00</td>\n",
       "      <td>620.0</td>\n",
       "      <td>57600.0</td>\n",
       "      <td>-7545600.0</td>\n",
       "      <td>2015-12-10 06:07:00</td>\n",
       "    </tr>\n",
       "    <tr>\n",
       "      <th>757782</th>\n",
       "      <td>47776339.0</td>\n",
       "      <td>20160.0</td>\n",
       "      <td>5220.0</td>\n",
       "      <td>2015-09-13 01:20:00</td>\n",
       "      <td>595.0</td>\n",
       "      <td>2015-12-09 19:44:00</td>\n",
       "      <td>730.0</td>\n",
       "      <td>2015-12-09 19:44:00</td>\n",
       "      <td>2015-09-13 01:20:00</td>\n",
       "      <td>595.0</td>\n",
       "      <td>20160.0</td>\n",
       "      <td>-7583040.0</td>\n",
       "      <td>2015-12-10 01:20:00</td>\n",
       "    </tr>\n",
       "    <tr>\n",
       "      <th>757816</th>\n",
       "      <td>47779826.0</td>\n",
       "      <td>1200.0</td>\n",
       "      <td>421.0</td>\n",
       "      <td>2015-09-13 00:05:00</td>\n",
       "      <td>410.0</td>\n",
       "      <td>2015-12-09 23:45:00</td>\n",
       "      <td>410.0</td>\n",
       "      <td>2015-12-09 23:45:00</td>\n",
       "      <td>2015-09-13 00:05:00</td>\n",
       "      <td>410.0</td>\n",
       "      <td>1200.0</td>\n",
       "      <td>-7602000.0</td>\n",
       "      <td>2015-12-10 00:05:00</td>\n",
       "    </tr>\n",
       "  </tbody>\n",
       "</table>\n",
       "<p>231 rows × 13 columns</p>\n",
       "</div>"
      ],
      "text/plain": [
       "         Rental Id  Duration  Bike Id            End Date  EndStation Id  \\\n",
       "4412    51217356.0   91620.0   2309.0 2016-01-02 18:34:00           41.0   \n",
       "7106    51495675.0     420.0   8336.0 2016-02-13 00:00:00          113.0   \n",
       "12848   52101691.0   10440.0   7697.0 2016-03-13 00:00:00          407.0   \n",
       "12858   52102738.0    1320.0   6146.0 2016-03-13 00:01:00          386.0   \n",
       "17067   52538845.0     900.0   6210.0 2016-01-04 00:10:00          690.0   \n",
       "...            ...       ...      ...                 ...            ...   \n",
       "754826  37319058.0     300.0  10918.0 2014-09-13 00:01:00          131.0   \n",
       "754827  37319086.0     840.0   8876.0 2014-09-13 00:12:00          600.0   \n",
       "757653  47762119.0   57600.0   1605.0 2015-09-13 06:07:00          620.0   \n",
       "757782  47776339.0   20160.0   5220.0 2015-09-13 01:20:00          595.0   \n",
       "757816  47779826.0    1200.0    421.0 2015-09-13 00:05:00          410.0   \n",
       "\n",
       "                Start Date  StartStation Id        Start Date 2  \\\n",
       "4412   2016-01-31 17:07:00            311.0 2016-01-31 17:07:00   \n",
       "7106   2016-12-02 23:53:00            157.0 2016-12-02 23:53:00   \n",
       "12848  2016-12-03 21:06:00            407.0 2016-12-03 21:06:00   \n",
       "12858  2016-12-03 23:39:00            427.0 2016-12-03 23:39:00   \n",
       "17067  2016-03-31 23:55:00            638.0 2016-03-31 23:55:00   \n",
       "...                    ...              ...                 ...   \n",
       "754826 2014-12-09 23:56:00             69.0 2014-12-09 23:56:00   \n",
       "754827 2014-12-09 23:58:00            154.0 2014-12-09 23:58:00   \n",
       "757653 2015-12-09 14:07:00            597.0 2015-12-09 14:07:00   \n",
       "757782 2015-12-09 19:44:00            730.0 2015-12-09 19:44:00   \n",
       "757816 2015-12-09 23:45:00            410.0 2015-12-09 23:45:00   \n",
       "\n",
       "                End Date 2  EndStation Id 2  Duration 2  duration_from_dates  \\\n",
       "4412   2016-01-02 18:34:00             41.0     91620.0           -2500380.0   \n",
       "7106   2016-02-13 00:00:00            113.0       420.0          -25401180.0   \n",
       "12848  2016-03-13 00:00:00            407.0     10440.0          -22971960.0   \n",
       "12858  2016-03-13 00:01:00            386.0      1320.0          -22981080.0   \n",
       "17067  2016-01-04 00:10:00            690.0       900.0           -7602300.0   \n",
       "...                    ...              ...         ...                  ...   \n",
       "754826 2014-09-13 00:01:00            131.0       300.0           -7602900.0   \n",
       "754827 2014-09-13 00:12:00            600.0       840.0           -7602360.0   \n",
       "757653 2015-09-13 06:07:00            620.0     57600.0           -7545600.0   \n",
       "757782 2015-09-13 01:20:00            595.0     20160.0           -7583040.0   \n",
       "757816 2015-09-13 00:05:00            410.0      1200.0           -7602000.0   \n",
       "\n",
       "       End Date from Duration  \n",
       "4412      2016-02-01 18:34:00  \n",
       "7106      2016-12-03 00:00:00  \n",
       "12848     2016-12-04 00:00:00  \n",
       "12858     2016-12-04 00:01:00  \n",
       "17067     2016-04-01 00:10:00  \n",
       "...                       ...  \n",
       "754826    2014-12-10 00:01:00  \n",
       "754827    2014-12-10 00:12:00  \n",
       "757653    2015-12-10 06:07:00  \n",
       "757782    2015-12-10 01:20:00  \n",
       "757816    2015-12-10 00:05:00  \n",
       "\n",
       "[231 rows x 13 columns]"
      ]
     },
     "execution_count": 75,
     "metadata": {},
     "output_type": "execute_result"
    }
   ],
   "source": [
    "df_samp[df_samp['duration_from_dates'] < 0]"
   ]
  },
  {
   "cell_type": "markdown",
   "metadata": {},
   "source": [
    "It seems that in some cases, the End Date (or start date??) is wrong but the times are in fact correct. It seems that timings around midnight or the new year might be some cases. \n",
    "\n",
    "I think a possible approach might be to contrast Duration 2 and duration_from_dates and to pick the one that is more 'plausible' in each case. \n",
    "\n",
    "'plausible' might be measured by how many standard deviations is is away from the mean. Or perhaps, Duration 2 is always the best option"
   ]
  },
  {
   "cell_type": "markdown",
   "metadata": {},
   "source": [
    "End Date is also broken!"
   ]
  }
 ],
 "metadata": {
  "kernelspec": {
   "display_name": "tflProject",
   "language": "python",
   "name": "tflproject"
  },
  "language_info": {
   "codemirror_mode": {
    "name": "ipython",
    "version": 3
   },
   "file_extension": ".py",
   "mimetype": "text/x-python",
   "name": "python",
   "nbconvert_exporter": "python",
   "pygments_lexer": "ipython3",
   "version": "3.6.9"
  }
 },
 "nbformat": 4,
 "nbformat_minor": 4
}
