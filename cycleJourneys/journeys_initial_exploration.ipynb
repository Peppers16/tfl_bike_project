{
 "cells": [
  {
   "cell_type": "markdown",
   "metadata": {},
   "source": [
    "# Initial Exploration and Cleansing of cycleJourneys\n",
    "\n",
    "This is for the initial exploration of the cycleJourneys dataset, primarily focusing on data integrity, and the best approaches to data-cleaning. \n",
    "\n",
    "This notebook is experimental and exploratory in nature. _The implemented fixes_ are in `clean_combined_cycle_data.py`"
   ]
  },
  {
   "cell_type": "code",
   "execution_count": 4,
   "metadata": {},
   "outputs": [],
   "source": [
    "journeys_path = '..\\data\\cycle_journeys\\JourneysDataCombined.csv'\n",
    "stations_path = '..\\data\\cycle_journeys\\Station Lookup.csv'"
   ]
  },
  {
   "cell_type": "code",
   "execution_count": 3,
   "metadata": {},
   "outputs": [],
   "source": [
    "import pandas as pd\n",
    "import random\n",
    "import networkx as nx\n",
    "from matplotlib import pyplot as plt\n",
    "import numpy as np\n",
    "import seaborn as sns"
   ]
  },
  {
   "cell_type": "markdown",
   "metadata": {},
   "source": [
    "---\n",
    "# Dates and Durations"
   ]
  },
  {
   "cell_type": "markdown",
   "metadata": {},
   "source": [
    "## Sample Journeys and Inspect"
   ]
  },
  {
   "cell_type": "code",
   "execution_count": 3,
   "metadata": {},
   "outputs": [],
   "source": [
    "# We will sample just 5% of journeys, using skiprows\n",
    "p = 0.01 \n",
    "random.seed(16)\n",
    "\n",
    "df_samp = pd.read_csv(\n",
    "        journeys_path\n",
    "        ,header=0\n",
    "        ,sep=','\n",
    "        ,skiprows=lambda i: i>0 and random.random() > p\n",
    "        ,parse_dates=['Start Date', 'End Date']\n",
    "        ,infer_datetime_format=True\n",
    ")"
   ]
  },
  {
   "cell_type": "code",
   "execution_count": 4,
   "metadata": {},
   "outputs": [
    {
     "data": {
      "text/html": [
       "<div>\n",
       "<style scoped>\n",
       "    .dataframe tbody tr th:only-of-type {\n",
       "        vertical-align: middle;\n",
       "    }\n",
       "\n",
       "    .dataframe tbody tr th {\n",
       "        vertical-align: top;\n",
       "    }\n",
       "\n",
       "    .dataframe thead th {\n",
       "        text-align: right;\n",
       "    }\n",
       "</style>\n",
       "<table border=\"1\" class=\"dataframe\">\n",
       "  <thead>\n",
       "    <tr style=\"text-align: right;\">\n",
       "      <th></th>\n",
       "      <th>Rental Id</th>\n",
       "      <th>Duration</th>\n",
       "      <th>Bike Id</th>\n",
       "      <th>End Date</th>\n",
       "      <th>EndStation Id</th>\n",
       "      <th>Start Date</th>\n",
       "      <th>StartStation Id</th>\n",
       "    </tr>\n",
       "  </thead>\n",
       "  <tbody>\n",
       "    <tr>\n",
       "      <th>0</th>\n",
       "      <td>50754299.0</td>\n",
       "      <td>1320.0</td>\n",
       "      <td>3118.0</td>\n",
       "      <td>2016-10-01 00:50:00</td>\n",
       "      <td>686.0</td>\n",
       "      <td>2016-10-01 00:28:00</td>\n",
       "      <td>166.0</td>\n",
       "    </tr>\n",
       "    <tr>\n",
       "      <th>1</th>\n",
       "      <td>50754531.0</td>\n",
       "      <td>4860.0</td>\n",
       "      <td>11001.0</td>\n",
       "      <td>2016-10-01 02:56:00</td>\n",
       "      <td>481.0</td>\n",
       "      <td>2016-10-01 01:35:00</td>\n",
       "      <td>654.0</td>\n",
       "    </tr>\n",
       "    <tr>\n",
       "      <th>2</th>\n",
       "      <td>50754559.0</td>\n",
       "      <td>300.0</td>\n",
       "      <td>397.0</td>\n",
       "      <td>2016-10-01 01:45:00</td>\n",
       "      <td>192.0</td>\n",
       "      <td>2016-10-01 01:40:00</td>\n",
       "      <td>244.0</td>\n",
       "    </tr>\n",
       "    <tr>\n",
       "      <th>3</th>\n",
       "      <td>50754568.0</td>\n",
       "      <td>300.0</td>\n",
       "      <td>8480.0</td>\n",
       "      <td>2016-10-01 01:50:00</td>\n",
       "      <td>197.0</td>\n",
       "      <td>2016-10-01 01:45:00</td>\n",
       "      <td>230.0</td>\n",
       "    </tr>\n",
       "    <tr>\n",
       "      <th>4</th>\n",
       "      <td>50754625.0</td>\n",
       "      <td>840.0</td>\n",
       "      <td>863.0</td>\n",
       "      <td>2016-10-01 02:20:00</td>\n",
       "      <td>664.0</td>\n",
       "      <td>2016-10-01 02:06:00</td>\n",
       "      <td>738.0</td>\n",
       "    </tr>\n",
       "  </tbody>\n",
       "</table>\n",
       "</div>"
      ],
      "text/plain": [
       "    Rental Id  Duration  Bike Id            End Date  EndStation Id  \\\n",
       "0  50754299.0    1320.0   3118.0 2016-10-01 00:50:00          686.0   \n",
       "1  50754531.0    4860.0  11001.0 2016-10-01 02:56:00          481.0   \n",
       "2  50754559.0     300.0    397.0 2016-10-01 01:45:00          192.0   \n",
       "3  50754568.0     300.0   8480.0 2016-10-01 01:50:00          197.0   \n",
       "4  50754625.0     840.0    863.0 2016-10-01 02:20:00          664.0   \n",
       "\n",
       "           Start Date  StartStation Id  \n",
       "0 2016-10-01 00:28:00            166.0  \n",
       "1 2016-10-01 01:35:00            654.0  \n",
       "2 2016-10-01 01:40:00            244.0  \n",
       "3 2016-10-01 01:45:00            230.0  \n",
       "4 2016-10-01 02:06:00            738.0  "
      ]
     },
     "execution_count": 4,
     "metadata": {},
     "output_type": "execute_result"
    }
   ],
   "source": [
    "df_samp.head()"
   ]
  },
  {
   "cell_type": "code",
   "execution_count": 5,
   "metadata": {},
   "outputs": [
    {
     "name": "stdout",
     "output_type": "stream",
     "text": [
      "<class 'pandas.core.frame.DataFrame'>\n",
      "RangeIndex: 759387 entries, 0 to 759386\n",
      "Data columns (total 7 columns):\n",
      "Rental Id          747021 non-null float64\n",
      "Duration           745345 non-null float64\n",
      "Bike Id            747020 non-null float64\n",
      "End Date           745345 non-null datetime64[ns]\n",
      "EndStation Id      745190 non-null float64\n",
      "Start Date         747021 non-null datetime64[ns]\n",
      "StartStation Id    747021 non-null float64\n",
      "dtypes: datetime64[ns](2), float64(5)\n",
      "memory usage: 40.6 MB\n"
     ]
    }
   ],
   "source": [
    "df_samp.info()"
   ]
  },
  {
   "cell_type": "markdown",
   "metadata": {},
   "source": [
    "## Start Dates"
   ]
  },
  {
   "cell_type": "code",
   "execution_count": 6,
   "metadata": {},
   "outputs": [
    {
     "data": {
      "text/plain": [
       "<matplotlib.axes._subplots.AxesSubplot at 0x207e46e4be0>"
      ]
     },
     "execution_count": 6,
     "metadata": {},
     "output_type": "execute_result"
    },
    {
     "data": {
      "image/png": "[encoded data removed]",
      "text/plain": [
       "<Figure size 432x288 with 1 Axes>"
      ]
     },
     "metadata": {
      "needs_background": "light"
     },
     "output_type": "display_data"
    }
   ],
   "source": [
    "# Plot timeseries of journey volumes\n",
    "df_samp.groupby('Start Date').count()['Rental Id'].plot()"
   ]
  },
  {
   "cell_type": "markdown",
   "metadata": {},
   "source": [
    "**issue:** A handful of rows have 1900 start-dates, but such cases it appears End Date is valid, we can just reverse-engineer the Sart Date"
   ]
  },
  {
   "cell_type": "code",
   "execution_count": 7,
   "metadata": {},
   "outputs": [],
   "source": [
    "def correct_start_date_errors(df):\n",
    "    \"\"\" Void function: adds 'Start Date 2' column to the dataframe.\n",
    "    Dataset contains start dates in 1900. In such cases, the complimenting end date column appears\n",
    "    to be correct, as well as the duration. This function attempts to fix the implausible start dates. \n",
    "    \"\"\"\n",
    "    \n",
    "    # Correct inplausible start dates \n",
    "    df['Start Date 2']= df['Start Date'].where(\n",
    "        (df['Start Date'] >= '2012') | (df['End Date'] < '2012')  # If start date is after 2012 we can trust it. If end date is before 2012, the fix won't work\n",
    "        ,df['End Date'] - pd.to_timedelta(df['Duration'], unit='s')  # else: correct start_date using end date\n",
    "        ,axis=0\n",
    "    )\n"
   ]
  },
  {
   "cell_type": "code",
   "execution_count": 8,
   "metadata": {},
   "outputs": [],
   "source": [
    "correct_start_date_errors(df_samp)"
   ]
  },
  {
   "cell_type": "code",
   "execution_count": 9,
   "metadata": {},
   "outputs": [
    {
     "data": {
      "text/plain": [
       "<matplotlib.axes._subplots.AxesSubplot at 0x207daf19c50>"
      ]
     },
     "execution_count": 9,
     "metadata": {},
     "output_type": "execute_result"
    },
    {
     "data": {
      "image/png": "[encoded data removed]",
      "text/plain": [
       "<Figure size 432x288 with 1 Axes>"
      ]
     },
     "metadata": {
      "needs_background": "light"
     },
     "output_type": "display_data"
    }
   ],
   "source": [
    "# Plot 'corrected' timeseries of journeys\n",
    "df_samp.groupby('Start Date 2').count()['Rental Id'].plot()"
   ]
  },
  {
   "cell_type": "markdown",
   "metadata": {},
   "source": [
    "In `Start Date 2` the error has been corrected"
   ]
  },
  {
   "cell_type": "markdown",
   "metadata": {},
   "source": [
    "## End Date"
   ]
  },
  {
   "cell_type": "markdown",
   "metadata": {},
   "source": [
    "### End Dates before 2012"
   ]
  },
  {
   "cell_type": "code",
   "execution_count": 10,
   "metadata": {},
   "outputs": [
    {
     "data": {
      "text/html": [
       "<div>\n",
       "<style scoped>\n",
       "    .dataframe tbody tr th:only-of-type {\n",
       "        vertical-align: middle;\n",
       "    }\n",
       "\n",
       "    .dataframe tbody tr th {\n",
       "        vertical-align: top;\n",
       "    }\n",
       "\n",
       "    .dataframe thead th {\n",
       "        text-align: right;\n",
       "    }\n",
       "</style>\n",
       "<table border=\"1\" class=\"dataframe\">\n",
       "  <thead>\n",
       "    <tr style=\"text-align: right;\">\n",
       "      <th></th>\n",
       "      <th>Rental Id</th>\n",
       "      <th>Duration</th>\n",
       "      <th>Bike Id</th>\n",
       "      <th>End Date</th>\n",
       "      <th>EndStation Id</th>\n",
       "      <th>Start Date</th>\n",
       "      <th>StartStation Id</th>\n",
       "      <th>Start Date 2</th>\n",
       "    </tr>\n",
       "  </thead>\n",
       "  <tbody>\n",
       "    <tr>\n",
       "      <th>266867</th>\n",
       "      <td>16731065.0</td>\n",
       "      <td>-1.349012e+09</td>\n",
       "      <td>5578.0</td>\n",
       "      <td>1970-01-01</td>\n",
       "      <td>0.0</td>\n",
       "      <td>2012-09-30 13:37:00</td>\n",
       "      <td>304.0</td>\n",
       "      <td>2012-09-30 13:37:00</td>\n",
       "    </tr>\n",
       "    <tr>\n",
       "      <th>355344</th>\n",
       "      <td>18825038.0</td>\n",
       "      <td>-1.356643e+09</td>\n",
       "      <td>5509.0</td>\n",
       "      <td>1970-01-01</td>\n",
       "      <td>0.0</td>\n",
       "      <td>2012-12-27 21:09:00</td>\n",
       "      <td>303.0</td>\n",
       "      <td>2012-12-27 21:09:00</td>\n",
       "    </tr>\n",
       "    <tr>\n",
       "      <th>295725</th>\n",
       "      <td>17401427.0</td>\n",
       "      <td>-1.351011e+09</td>\n",
       "      <td>6463.0</td>\n",
       "      <td>1970-01-01</td>\n",
       "      <td>0.0</td>\n",
       "      <td>2012-10-23 16:56:00</td>\n",
       "      <td>101.0</td>\n",
       "      <td>2012-10-23 16:56:00</td>\n",
       "    </tr>\n",
       "    <tr>\n",
       "      <th>719208</th>\n",
       "      <td>24060130.0</td>\n",
       "      <td>-1.376221e+09</td>\n",
       "      <td>2875.0</td>\n",
       "      <td>1970-01-01</td>\n",
       "      <td>0.0</td>\n",
       "      <td>2013-11-08 11:44:00</td>\n",
       "      <td>367.0</td>\n",
       "      <td>2013-11-08 11:44:00</td>\n",
       "    </tr>\n",
       "    <tr>\n",
       "      <th>266885</th>\n",
       "      <td>16732978.0</td>\n",
       "      <td>-1.349029e+09</td>\n",
       "      <td>3287.0</td>\n",
       "      <td>1970-01-01</td>\n",
       "      <td>0.0</td>\n",
       "      <td>2012-09-30 18:22:00</td>\n",
       "      <td>454.0</td>\n",
       "      <td>2012-09-30 18:22:00</td>\n",
       "    </tr>\n",
       "    <tr>\n",
       "      <th>257581</th>\n",
       "      <td>15792250.0</td>\n",
       "      <td>-1.346592e+09</td>\n",
       "      <td>8419.0</td>\n",
       "      <td>1970-01-01</td>\n",
       "      <td>0.0</td>\n",
       "      <td>2012-02-09 13:15:00</td>\n",
       "      <td>510.0</td>\n",
       "      <td>2012-02-09 13:15:00</td>\n",
       "    </tr>\n",
       "    <tr>\n",
       "      <th>40244</th>\n",
       "      <td>18894258.0</td>\n",
       "      <td>-1.357153e+09</td>\n",
       "      <td>6134.0</td>\n",
       "      <td>1970-01-01</td>\n",
       "      <td>0.0</td>\n",
       "      <td>2013-02-01 18:57:00</td>\n",
       "      <td>115.0</td>\n",
       "      <td>2013-02-01 18:57:00</td>\n",
       "    </tr>\n",
       "    <tr>\n",
       "      <th>289822</th>\n",
       "      <td>16805686.0</td>\n",
       "      <td>-1.349290e+09</td>\n",
       "      <td>8433.0</td>\n",
       "      <td>1970-01-01</td>\n",
       "      <td>0.0</td>\n",
       "      <td>2012-03-10 18:51:00</td>\n",
       "      <td>246.0</td>\n",
       "      <td>2012-03-10 18:51:00</td>\n",
       "    </tr>\n",
       "    <tr>\n",
       "      <th>723739</th>\n",
       "      <td>23557921.0</td>\n",
       "      <td>-1.374863e+09</td>\n",
       "      <td>3355.0</td>\n",
       "      <td>1970-01-01</td>\n",
       "      <td>0.0</td>\n",
       "      <td>2013-07-26 18:29:00</td>\n",
       "      <td>141.0</td>\n",
       "      <td>2013-07-26 18:29:00</td>\n",
       "    </tr>\n",
       "    <tr>\n",
       "      <th>461626</th>\n",
       "      <td>20171241.0</td>\n",
       "      <td>-1.363126e+09</td>\n",
       "      <td>4899.0</td>\n",
       "      <td>1970-01-01</td>\n",
       "      <td>0.0</td>\n",
       "      <td>2013-12-03 22:04:00</td>\n",
       "      <td>491.0</td>\n",
       "      <td>2013-12-03 22:04:00</td>\n",
       "    </tr>\n",
       "  </tbody>\n",
       "</table>\n",
       "</div>"
      ],
      "text/plain": [
       "         Rental Id      Duration  Bike Id   End Date  EndStation Id  \\\n",
       "266867  16731065.0 -1.349012e+09   5578.0 1970-01-01            0.0   \n",
       "355344  18825038.0 -1.356643e+09   5509.0 1970-01-01            0.0   \n",
       "295725  17401427.0 -1.351011e+09   6463.0 1970-01-01            0.0   \n",
       "719208  24060130.0 -1.376221e+09   2875.0 1970-01-01            0.0   \n",
       "266885  16732978.0 -1.349029e+09   3287.0 1970-01-01            0.0   \n",
       "257581  15792250.0 -1.346592e+09   8419.0 1970-01-01            0.0   \n",
       "40244   18894258.0 -1.357153e+09   6134.0 1970-01-01            0.0   \n",
       "289822  16805686.0 -1.349290e+09   8433.0 1970-01-01            0.0   \n",
       "723739  23557921.0 -1.374863e+09   3355.0 1970-01-01            0.0   \n",
       "461626  20171241.0 -1.363126e+09   4899.0 1970-01-01            0.0   \n",
       "\n",
       "                Start Date  StartStation Id        Start Date 2  \n",
       "266867 2012-09-30 13:37:00            304.0 2012-09-30 13:37:00  \n",
       "355344 2012-12-27 21:09:00            303.0 2012-12-27 21:09:00  \n",
       "295725 2012-10-23 16:56:00            101.0 2012-10-23 16:56:00  \n",
       "719208 2013-11-08 11:44:00            367.0 2013-11-08 11:44:00  \n",
       "266885 2012-09-30 18:22:00            454.0 2012-09-30 18:22:00  \n",
       "257581 2012-02-09 13:15:00            510.0 2012-02-09 13:15:00  \n",
       "40244  2013-02-01 18:57:00            115.0 2013-02-01 18:57:00  \n",
       "289822 2012-03-10 18:51:00            246.0 2012-03-10 18:51:00  \n",
       "723739 2013-07-26 18:29:00            141.0 2013-07-26 18:29:00  \n",
       "461626 2013-12-03 22:04:00            491.0 2013-12-03 22:04:00  "
      ]
     },
     "execution_count": 10,
     "metadata": {},
     "output_type": "execute_result"
    }
   ],
   "source": [
    "df_samp[df_samp['End Date'] < '2012'].sample(10)"
   ]
  },
  {
   "cell_type": "code",
   "execution_count": 11,
   "metadata": {},
   "outputs": [
    {
     "data": {
      "text/plain": [
       "0.0    2624\n",
       "Name: EndStation Id, dtype: int64"
      ]
     },
     "execution_count": 11,
     "metadata": {},
     "output_type": "execute_result"
    }
   ],
   "source": [
    "df_samp[df_samp['End Date'] < '2012']['EndStation Id'].value_counts()"
   ]
  },
  {
   "cell_type": "code",
   "execution_count": 12,
   "metadata": {},
   "outputs": [
    {
     "data": {
      "text/plain": [
       "2013    1520\n",
       "2012    1251\n",
       "Name: Start Date 2, dtype: int64"
      ]
     },
     "execution_count": 12,
     "metadata": {},
     "output_type": "execute_result"
    }
   ],
   "source": [
    "df_samp[df_samp['End Date'] < '2012']['Start Date 2'].dt.year.value_counts()"
   ]
  },
  {
   "cell_type": "markdown",
   "metadata": {},
   "source": [
    "Some rows have an end date on the epoch. These all occur when the start date is in 2012-2013 and in every case the EndStation Id is '0' (NA)\n",
    "\n",
    "I suspect that these are journeys without an EndStation (i.e. theft etc) and that the End Date was supposed to be 'NaT' but got replaced with zero, which was then interpreted as 1970-01-01\n",
    "\n",
    "To test this, I will see if there are similar volumes of 'NaT' after 2013"
   ]
  },
  {
   "cell_type": "code",
   "execution_count": 13,
   "metadata": {},
   "outputs": [
    {
     "data": {
      "text/plain": [
       "2016.0    1047\n",
       "2017.0     629\n",
       "Name: Start Date 2, dtype: int64"
      ]
     },
     "execution_count": 13,
     "metadata": {},
     "output_type": "execute_result"
    }
   ],
   "source": [
    "# Volumes of NaT over years\n",
    "df_samp[df_samp['End Date'].isna()]['Start Date 2'].dt.year.value_counts()"
   ]
  },
  {
   "cell_type": "code",
   "execution_count": 14,
   "metadata": {},
   "outputs": [
    {
     "data": {
      "text/plain": [
       "2013.0    1520\n",
       "2012.0    1297\n",
       "2016.0    1053\n",
       "2017.0     629\n",
       "2015.0       1\n",
       "2014.0       1\n",
       "Name: Start Date 2, dtype: int64"
      ]
     },
     "execution_count": 14,
     "metadata": {},
     "output_type": "execute_result"
    }
   ],
   "source": [
    "df_samp[df_samp['EndStation Id'].isna() | (df_samp['EndStation Id']==0)]['Start Date 2'].dt.year.value_counts()"
   ]
  },
  {
   "cell_type": "markdown",
   "metadata": {},
   "source": [
    "For unknown reasons 'lost bike journeys' seem to be absent from the 2014/2015 datasets. \n",
    "\n",
    "But, the volumes of End Stations and End Dates == 0 in 2012-2013 are comparable to the volumes where they are NaN and NaT respectively in 2016/2017. \n",
    "\n",
    "So, the best action is to replace these cases with NaN/NaT. Also: correct duration"
   ]
  },
  {
   "cell_type": "code",
   "execution_count": 15,
   "metadata": {},
   "outputs": [],
   "source": [
    "def correct_0_end_date_stations(df):\n",
    "    \"\"\" Void function: adds 'End Date 2' and 'EndStation Id 2' and 'Duration 2' columns to the dataframe.\n",
    "    In 2012/2013, missing end dates and missing end stations are encoded as 1970-01-01 and 0, respectively. \n",
    "    This function replaces those cases with NaT and NaN\n",
    "    \"\"\"\n",
    "    \n",
    "    # Replace 1970 End Dates with NaT \n",
    "    df['End Date 2']= df['End Date'].where(\n",
    "        df['End Date'] >= '2012'\n",
    "        ,pd.NaT\n",
    "        ,axis=0\n",
    "    )\n",
    "    \n",
    "    df['Duration 2']= df['Duration'].where(\n",
    "        (df['End Date'] >= '2012') & (df['Duration'] >= 0)\n",
    "        ,np.NaN\n",
    "        ,axis=0\n",
    "    )\n",
    "    \n",
    "    df['EndStation Id 2'] = df['EndStation Id'].where(\n",
    "        df['EndStation Id'] != 0\n",
    "        ,np.NaN\n",
    "    )\n"
   ]
  },
  {
   "cell_type": "code",
   "execution_count": 16,
   "metadata": {},
   "outputs": [],
   "source": [
    "correct_0_end_date_stations(df_samp)"
   ]
  },
  {
   "cell_type": "code",
   "execution_count": 17,
   "metadata": {},
   "outputs": [
    {
     "data": {
      "text/html": [
       "<div>\n",
       "<style scoped>\n",
       "    .dataframe tbody tr th:only-of-type {\n",
       "        vertical-align: middle;\n",
       "    }\n",
       "\n",
       "    .dataframe tbody tr th {\n",
       "        vertical-align: top;\n",
       "    }\n",
       "\n",
       "    .dataframe thead th {\n",
       "        text-align: right;\n",
       "    }\n",
       "</style>\n",
       "<table border=\"1\" class=\"dataframe\">\n",
       "  <thead>\n",
       "    <tr style=\"text-align: right;\">\n",
       "      <th></th>\n",
       "      <th>Rental Id</th>\n",
       "      <th>Duration</th>\n",
       "      <th>Bike Id</th>\n",
       "      <th>End Date</th>\n",
       "      <th>EndStation Id</th>\n",
       "      <th>Start Date</th>\n",
       "      <th>StartStation Id</th>\n",
       "      <th>Start Date 2</th>\n",
       "      <th>End Date 2</th>\n",
       "      <th>Duration 2</th>\n",
       "      <th>EndStation Id 2</th>\n",
       "    </tr>\n",
       "  </thead>\n",
       "  <tbody>\n",
       "    <tr>\n",
       "      <th>295725</th>\n",
       "      <td>17401427.0</td>\n",
       "      <td>-1.351011e+09</td>\n",
       "      <td>6463.0</td>\n",
       "      <td>1970-01-01</td>\n",
       "      <td>0.0</td>\n",
       "      <td>2012-10-23 16:56:00</td>\n",
       "      <td>101.0</td>\n",
       "      <td>2012-10-23 16:56:00</td>\n",
       "      <td>NaT</td>\n",
       "      <td>NaN</td>\n",
       "      <td>NaN</td>\n",
       "    </tr>\n",
       "    <tr>\n",
       "      <th>295931</th>\n",
       "      <td>17422577.0</td>\n",
       "      <td>-1.351098e+09</td>\n",
       "      <td>9219.0</td>\n",
       "      <td>1970-01-01</td>\n",
       "      <td>0.0</td>\n",
       "      <td>2012-10-24 17:07:00</td>\n",
       "      <td>143.0</td>\n",
       "      <td>2012-10-24 17:07:00</td>\n",
       "      <td>NaT</td>\n",
       "      <td>NaN</td>\n",
       "      <td>NaN</td>\n",
       "    </tr>\n",
       "    <tr>\n",
       "      <th>107651</th>\n",
       "      <td>15466754.0</td>\n",
       "      <td>-1.345736e+09</td>\n",
       "      <td>2298.0</td>\n",
       "      <td>1970-01-01</td>\n",
       "      <td>0.0</td>\n",
       "      <td>2012-08-23 15:38:00</td>\n",
       "      <td>396.0</td>\n",
       "      <td>2012-08-23 15:38:00</td>\n",
       "      <td>NaT</td>\n",
       "      <td>NaN</td>\n",
       "      <td>NaN</td>\n",
       "    </tr>\n",
       "    <tr>\n",
       "      <th>495524</th>\n",
       "      <td>20726860.0</td>\n",
       "      <td>-1.366064e+09</td>\n",
       "      <td>9171.0</td>\n",
       "      <td>1970-01-01</td>\n",
       "      <td>0.0</td>\n",
       "      <td>2013-04-15 22:12:00</td>\n",
       "      <td>269.0</td>\n",
       "      <td>2013-04-15 22:12:00</td>\n",
       "      <td>NaT</td>\n",
       "      <td>NaN</td>\n",
       "      <td>NaN</td>\n",
       "    </tr>\n",
       "    <tr>\n",
       "      <th>719917</th>\n",
       "      <td>23721606.0</td>\n",
       "      <td>-1.375372e+09</td>\n",
       "      <td>4004.0</td>\n",
       "      <td>1970-01-01</td>\n",
       "      <td>0.0</td>\n",
       "      <td>2013-01-08 15:49:00</td>\n",
       "      <td>175.0</td>\n",
       "      <td>2013-01-08 15:49:00</td>\n",
       "      <td>NaT</td>\n",
       "      <td>NaN</td>\n",
       "      <td>NaN</td>\n",
       "    </tr>\n",
       "  </tbody>\n",
       "</table>\n",
       "</div>"
      ],
      "text/plain": [
       "         Rental Id      Duration  Bike Id   End Date  EndStation Id  \\\n",
       "295725  17401427.0 -1.351011e+09   6463.0 1970-01-01            0.0   \n",
       "295931  17422577.0 -1.351098e+09   9219.0 1970-01-01            0.0   \n",
       "107651  15466754.0 -1.345736e+09   2298.0 1970-01-01            0.0   \n",
       "495524  20726860.0 -1.366064e+09   9171.0 1970-01-01            0.0   \n",
       "719917  23721606.0 -1.375372e+09   4004.0 1970-01-01            0.0   \n",
       "\n",
       "                Start Date  StartStation Id        Start Date 2 End Date 2  \\\n",
       "295725 2012-10-23 16:56:00            101.0 2012-10-23 16:56:00        NaT   \n",
       "295931 2012-10-24 17:07:00            143.0 2012-10-24 17:07:00        NaT   \n",
       "107651 2012-08-23 15:38:00            396.0 2012-08-23 15:38:00        NaT   \n",
       "495524 2013-04-15 22:12:00            269.0 2013-04-15 22:12:00        NaT   \n",
       "719917 2013-01-08 15:49:00            175.0 2013-01-08 15:49:00        NaT   \n",
       "\n",
       "        Duration 2  EndStation Id 2  \n",
       "295725         NaN              NaN  \n",
       "295931         NaN              NaN  \n",
       "107651         NaN              NaN  \n",
       "495524         NaN              NaN  \n",
       "719917         NaN              NaN  "
      ]
     },
     "execution_count": 17,
     "metadata": {},
     "output_type": "execute_result"
    }
   ],
   "source": [
    "df_samp[df_samp['End Date'] < '2012'].sample(5)"
   ]
  },
  {
   "cell_type": "markdown",
   "metadata": {},
   "source": [
    "End Date / Negative Duration Issue corrected. "
   ]
  },
  {
   "cell_type": "markdown",
   "metadata": {},
   "source": [
    "## Duration"
   ]
  },
  {
   "cell_type": "markdown",
   "metadata": {},
   "source": [
    "Explore whether there are any other issues with this field"
   ]
  },
  {
   "cell_type": "code",
   "execution_count": 18,
   "metadata": {},
   "outputs": [
    {
     "data": {
      "text/plain": [
       "<matplotlib.collections.PathCollection at 0x207ea4af3c8>"
      ]
     },
     "execution_count": 18,
     "metadata": {},
     "output_type": "execute_result"
    },
    {
     "data": {
      "image/png": "[encoded data removed]",
      "text/plain": [
       "<Figure size 432x288 with 1 Axes>"
      ]
     },
     "metadata": {
      "needs_background": "light"
     },
     "output_type": "display_data"
    }
   ],
   "source": [
    "# Compare Duration 2 field with a manually-calculated duration field to validate\n",
    "df_samp['duration_from_dates'] = (df_samp['End Date 2'] - df_samp['Start Date 2'])/np.timedelta64(1,'s')\n",
    "plt.scatter(df_samp['Duration 2'].tolist(), df_samp['duration_from_dates'].tolist())"
   ]
  },
  {
   "cell_type": "code",
   "execution_count": 19,
   "metadata": {},
   "outputs": [],
   "source": [
    "# sns.jointplot(\n",
    "#     x=\"Duration 2\"\n",
    "#     , y=\"duration_from_dates\"\n",
    "#     , data=df_samp\n",
    "#     , kind=\"hex\")"
   ]
  },
  {
   "cell_type": "code",
   "execution_count": 20,
   "metadata": {},
   "outputs": [
    {
     "data": {
      "text/plain": [
       "<seaborn.axisgrid.JointGrid at 0x207ea4da9e8>"
      ]
     },
     "execution_count": 20,
     "metadata": {},
     "output_type": "execute_result"
    },
    {
     "data": {
      "image/png": "[encoded data removed]",
      "text/plain": [
       "<Figure size 432x432 with 3 Axes>"
      ]
     },
     "metadata": {
      "needs_background": "light"
     },
     "output_type": "display_data"
    }
   ],
   "source": [
    "zoom = (df_samp['Duration 2'] < 3000) & (df_samp['duration_from_dates'] < 3000) & (df_samp['duration_from_dates'] >= 0)\n",
    "\n",
    "sns.jointplot(\n",
    "    x=\"Duration 2\"\n",
    "    , y=\"duration_from_dates\"\n",
    "    , data=df_samp[zoom]\n",
    "    , kind=\"hex\")"
   ]
  },
  {
   "cell_type": "code",
   "execution_count": 21,
   "metadata": {},
   "outputs": [],
   "source": [
    "df_samp['End Date from Duration'] = df_samp['Start Date 2'] + pd.to_timedelta(df_samp['Duration 2'], unit='s')"
   ]
  },
  {
   "cell_type": "code",
   "execution_count": 22,
   "metadata": {},
   "outputs": [
    {
     "data": {
      "text/html": [
       "<div>\n",
       "<style scoped>\n",
       "    .dataframe tbody tr th:only-of-type {\n",
       "        vertical-align: middle;\n",
       "    }\n",
       "\n",
       "    .dataframe tbody tr th {\n",
       "        vertical-align: top;\n",
       "    }\n",
       "\n",
       "    .dataframe thead th {\n",
       "        text-align: right;\n",
       "    }\n",
       "</style>\n",
       "<table border=\"1\" class=\"dataframe\">\n",
       "  <thead>\n",
       "    <tr style=\"text-align: right;\">\n",
       "      <th></th>\n",
       "      <th>Rental Id</th>\n",
       "      <th>Duration</th>\n",
       "      <th>Bike Id</th>\n",
       "      <th>End Date</th>\n",
       "      <th>EndStation Id</th>\n",
       "      <th>Start Date</th>\n",
       "      <th>StartStation Id</th>\n",
       "      <th>Start Date 2</th>\n",
       "      <th>End Date 2</th>\n",
       "      <th>Duration 2</th>\n",
       "      <th>EndStation Id 2</th>\n",
       "      <th>duration_from_dates</th>\n",
       "      <th>End Date from Duration</th>\n",
       "    </tr>\n",
       "  </thead>\n",
       "  <tbody>\n",
       "    <tr>\n",
       "      <th>426836</th>\n",
       "      <td>10675996.0</td>\n",
       "      <td>100.0</td>\n",
       "      <td>657.0</td>\n",
       "      <td>2012-03-17 11:38:00</td>\n",
       "      <td>79.0</td>\n",
       "      <td>2012-03-17 11:36:00</td>\n",
       "      <td>411.0</td>\n",
       "      <td>2012-03-17 11:36:00</td>\n",
       "      <td>2012-03-17 11:38:00</td>\n",
       "      <td>100.0</td>\n",
       "      <td>79.0</td>\n",
       "      <td>120.0</td>\n",
       "      <td>2012-03-17 11:37:40</td>\n",
       "    </tr>\n",
       "    <tr>\n",
       "      <th>290820</th>\n",
       "      <td>16905032.0</td>\n",
       "      <td>2436.0</td>\n",
       "      <td>8457.0</td>\n",
       "      <td>2012-07-10 00:20:00</td>\n",
       "      <td>379.0</td>\n",
       "      <td>2012-06-10 23:40:00</td>\n",
       "      <td>109.0</td>\n",
       "      <td>2012-06-10 23:40:00</td>\n",
       "      <td>2012-07-10 00:20:00</td>\n",
       "      <td>2436.0</td>\n",
       "      <td>379.0</td>\n",
       "      <td>2508000.0</td>\n",
       "      <td>2012-06-11 00:20:36</td>\n",
       "    </tr>\n",
       "    <tr>\n",
       "      <th>721918</th>\n",
       "      <td>24152192.0</td>\n",
       "      <td>161.0</td>\n",
       "      <td>131.0</td>\n",
       "      <td>2013-08-14 05:46:00</td>\n",
       "      <td>509.0</td>\n",
       "      <td>2013-08-14 05:43:00</td>\n",
       "      <td>71.0</td>\n",
       "      <td>2013-08-14 05:43:00</td>\n",
       "      <td>2013-08-14 05:46:00</td>\n",
       "      <td>161.0</td>\n",
       "      <td>509.0</td>\n",
       "      <td>180.0</td>\n",
       "      <td>2013-08-14 05:45:41</td>\n",
       "    </tr>\n",
       "    <tr>\n",
       "      <th>4412</th>\n",
       "      <td>51217356.0</td>\n",
       "      <td>91620.0</td>\n",
       "      <td>2309.0</td>\n",
       "      <td>2016-01-02 18:34:00</td>\n",
       "      <td>41.0</td>\n",
       "      <td>2016-01-31 17:07:00</td>\n",
       "      <td>311.0</td>\n",
       "      <td>2016-01-31 17:07:00</td>\n",
       "      <td>2016-01-02 18:34:00</td>\n",
       "      <td>91620.0</td>\n",
       "      <td>41.0</td>\n",
       "      <td>-2500380.0</td>\n",
       "      <td>2016-02-01 18:34:00</td>\n",
       "    </tr>\n",
       "    <tr>\n",
       "      <th>460018</th>\n",
       "      <td>20018756.0</td>\n",
       "      <td>376.0</td>\n",
       "      <td>6212.0</td>\n",
       "      <td>2013-04-03 07:29:00</td>\n",
       "      <td>66.0</td>\n",
       "      <td>2013-04-03 07:22:00</td>\n",
       "      <td>101.0</td>\n",
       "      <td>2013-04-03 07:22:00</td>\n",
       "      <td>2013-04-03 07:29:00</td>\n",
       "      <td>376.0</td>\n",
       "      <td>66.0</td>\n",
       "      <td>420.0</td>\n",
       "      <td>2013-04-03 07:28:16</td>\n",
       "    </tr>\n",
       "    <tr>\n",
       "      <th>683805</th>\n",
       "      <td>71130630.0</td>\n",
       "      <td>32220.0</td>\n",
       "      <td>695.0</td>\n",
       "      <td>2017-07-11 00:10:00</td>\n",
       "      <td>490.0</td>\n",
       "      <td>2017-06-11 15:13:00</td>\n",
       "      <td>490.0</td>\n",
       "      <td>2017-06-11 15:13:00</td>\n",
       "      <td>2017-07-11 00:10:00</td>\n",
       "      <td>32220.0</td>\n",
       "      <td>490.0</td>\n",
       "      <td>2537820.0</td>\n",
       "      <td>2017-06-12 00:10:00</td>\n",
       "    </tr>\n",
       "    <tr>\n",
       "      <th>104396</th>\n",
       "      <td>27888479.0</td>\n",
       "      <td>259.0</td>\n",
       "      <td>480.0</td>\n",
       "      <td>2013-09-30 19:02:00</td>\n",
       "      <td>33.0</td>\n",
       "      <td>2013-09-30 18:57:00</td>\n",
       "      <td>102.0</td>\n",
       "      <td>2013-09-30 18:57:00</td>\n",
       "      <td>2013-09-30 19:02:00</td>\n",
       "      <td>259.0</td>\n",
       "      <td>33.0</td>\n",
       "      <td>300.0</td>\n",
       "      <td>2013-09-30 19:01:19</td>\n",
       "    </tr>\n",
       "    <tr>\n",
       "      <th>195804</th>\n",
       "      <td>55492467.0</td>\n",
       "      <td>99360.0</td>\n",
       "      <td>1053.0</td>\n",
       "      <td>2016-04-07 17:47:00</td>\n",
       "      <td>320.0</td>\n",
       "      <td>2016-03-07 14:11:00</td>\n",
       "      <td>166.0</td>\n",
       "      <td>2016-03-07 14:11:00</td>\n",
       "      <td>2016-04-07 17:47:00</td>\n",
       "      <td>99360.0</td>\n",
       "      <td>320.0</td>\n",
       "      <td>2691360.0</td>\n",
       "      <td>2016-03-08 17:47:00</td>\n",
       "    </tr>\n",
       "    <tr>\n",
       "      <th>257443</th>\n",
       "      <td>15782993.0</td>\n",
       "      <td>131.0</td>\n",
       "      <td>4159.0</td>\n",
       "      <td>2012-02-09 13:54:00</td>\n",
       "      <td>576.0</td>\n",
       "      <td>2012-02-09 13:51:00</td>\n",
       "      <td>475.0</td>\n",
       "      <td>2012-02-09 13:51:00</td>\n",
       "      <td>2012-02-09 13:54:00</td>\n",
       "      <td>131.0</td>\n",
       "      <td>576.0</td>\n",
       "      <td>180.0</td>\n",
       "      <td>2012-02-09 13:53:11</td>\n",
       "    </tr>\n",
       "    <tr>\n",
       "      <th>661081</th>\n",
       "      <td>15052674.0</td>\n",
       "      <td>890.0</td>\n",
       "      <td>7621.0</td>\n",
       "      <td>2012-08-13 00:09:08</td>\n",
       "      <td>134.0</td>\n",
       "      <td>2012-12-08 23:54:17</td>\n",
       "      <td>282.0</td>\n",
       "      <td>2012-12-08 23:54:17</td>\n",
       "      <td>2012-08-13 00:09:08</td>\n",
       "      <td>890.0</td>\n",
       "      <td>134.0</td>\n",
       "      <td>-10194309.0</td>\n",
       "      <td>2012-12-09 00:09:07</td>\n",
       "    </tr>\n",
       "  </tbody>\n",
       "</table>\n",
       "</div>"
      ],
      "text/plain": [
       "         Rental Id  Duration  Bike Id            End Date  EndStation Id  \\\n",
       "426836  10675996.0     100.0    657.0 2012-03-17 11:38:00           79.0   \n",
       "290820  16905032.0    2436.0   8457.0 2012-07-10 00:20:00          379.0   \n",
       "721918  24152192.0     161.0    131.0 2013-08-14 05:46:00          509.0   \n",
       "4412    51217356.0   91620.0   2309.0 2016-01-02 18:34:00           41.0   \n",
       "460018  20018756.0     376.0   6212.0 2013-04-03 07:29:00           66.0   \n",
       "683805  71130630.0   32220.0    695.0 2017-07-11 00:10:00          490.0   \n",
       "104396  27888479.0     259.0    480.0 2013-09-30 19:02:00           33.0   \n",
       "195804  55492467.0   99360.0   1053.0 2016-04-07 17:47:00          320.0   \n",
       "257443  15782993.0     131.0   4159.0 2012-02-09 13:54:00          576.0   \n",
       "661081  15052674.0     890.0   7621.0 2012-08-13 00:09:08          134.0   \n",
       "\n",
       "                Start Date  StartStation Id        Start Date 2  \\\n",
       "426836 2012-03-17 11:36:00            411.0 2012-03-17 11:36:00   \n",
       "290820 2012-06-10 23:40:00            109.0 2012-06-10 23:40:00   \n",
       "721918 2013-08-14 05:43:00             71.0 2013-08-14 05:43:00   \n",
       "4412   2016-01-31 17:07:00            311.0 2016-01-31 17:07:00   \n",
       "460018 2013-04-03 07:22:00            101.0 2013-04-03 07:22:00   \n",
       "683805 2017-06-11 15:13:00            490.0 2017-06-11 15:13:00   \n",
       "104396 2013-09-30 18:57:00            102.0 2013-09-30 18:57:00   \n",
       "195804 2016-03-07 14:11:00            166.0 2016-03-07 14:11:00   \n",
       "257443 2012-02-09 13:51:00            475.0 2012-02-09 13:51:00   \n",
       "661081 2012-12-08 23:54:17            282.0 2012-12-08 23:54:17   \n",
       "\n",
       "                End Date 2  Duration 2  EndStation Id 2  duration_from_dates  \\\n",
       "426836 2012-03-17 11:38:00       100.0             79.0                120.0   \n",
       "290820 2012-07-10 00:20:00      2436.0            379.0            2508000.0   \n",
       "721918 2013-08-14 05:46:00       161.0            509.0                180.0   \n",
       "4412   2016-01-02 18:34:00     91620.0             41.0           -2500380.0   \n",
       "460018 2013-04-03 07:29:00       376.0             66.0                420.0   \n",
       "683805 2017-07-11 00:10:00     32220.0            490.0            2537820.0   \n",
       "104396 2013-09-30 19:02:00       259.0             33.0                300.0   \n",
       "195804 2016-04-07 17:47:00     99360.0            320.0            2691360.0   \n",
       "257443 2012-02-09 13:54:00       131.0            576.0                180.0   \n",
       "661081 2012-08-13 00:09:08       890.0            134.0          -10194309.0   \n",
       "\n",
       "       End Date from Duration  \n",
       "426836    2012-03-17 11:37:40  \n",
       "290820    2012-06-11 00:20:36  \n",
       "721918    2013-08-14 05:45:41  \n",
       "4412      2016-02-01 18:34:00  \n",
       "460018    2013-04-03 07:28:16  \n",
       "683805    2017-06-12 00:10:00  \n",
       "104396    2013-09-30 19:01:19  \n",
       "195804    2016-03-08 17:47:00  \n",
       "257443    2012-02-09 13:53:11  \n",
       "661081    2012-12-09 00:09:07  "
      ]
     },
     "execution_count": 22,
     "metadata": {},
     "output_type": "execute_result"
    }
   ],
   "source": [
    "# Inspect rows where diffirence is larger than 10%\n",
    "df_samp[\n",
    "    (df_samp['duration_from_dates'] - df_samp['Duration 2'])/df_samp['duration_from_dates'] > 0.1\n",
    "].sample(10)"
   ]
  },
  {
   "cell_type": "code",
   "execution_count": 23,
   "metadata": {},
   "outputs": [
    {
     "data": {
      "text/html": [
       "<div>\n",
       "<style scoped>\n",
       "    .dataframe tbody tr th:only-of-type {\n",
       "        vertical-align: middle;\n",
       "    }\n",
       "\n",
       "    .dataframe tbody tr th {\n",
       "        vertical-align: top;\n",
       "    }\n",
       "\n",
       "    .dataframe thead th {\n",
       "        text-align: right;\n",
       "    }\n",
       "</style>\n",
       "<table border=\"1\" class=\"dataframe\">\n",
       "  <thead>\n",
       "    <tr style=\"text-align: right;\">\n",
       "      <th></th>\n",
       "      <th>Rental Id</th>\n",
       "      <th>Duration</th>\n",
       "      <th>Bike Id</th>\n",
       "      <th>End Date</th>\n",
       "      <th>EndStation Id</th>\n",
       "      <th>Start Date</th>\n",
       "      <th>StartStation Id</th>\n",
       "      <th>Start Date 2</th>\n",
       "      <th>End Date 2</th>\n",
       "      <th>Duration 2</th>\n",
       "      <th>EndStation Id 2</th>\n",
       "      <th>duration_from_dates</th>\n",
       "      <th>End Date from Duration</th>\n",
       "    </tr>\n",
       "  </thead>\n",
       "  <tbody>\n",
       "    <tr>\n",
       "      <th>4412</th>\n",
       "      <td>51217356.0</td>\n",
       "      <td>91620.0</td>\n",
       "      <td>2309.0</td>\n",
       "      <td>2016-01-02 18:34:00</td>\n",
       "      <td>41.0</td>\n",
       "      <td>2016-01-31 17:07:00</td>\n",
       "      <td>311.0</td>\n",
       "      <td>2016-01-31 17:07:00</td>\n",
       "      <td>2016-01-02 18:34:00</td>\n",
       "      <td>91620.0</td>\n",
       "      <td>41.0</td>\n",
       "      <td>-2500380.0</td>\n",
       "      <td>2016-02-01 18:34:00</td>\n",
       "    </tr>\n",
       "    <tr>\n",
       "      <th>7106</th>\n",
       "      <td>51495675.0</td>\n",
       "      <td>420.0</td>\n",
       "      <td>8336.0</td>\n",
       "      <td>2016-02-13 00:00:00</td>\n",
       "      <td>113.0</td>\n",
       "      <td>2016-12-02 23:53:00</td>\n",
       "      <td>157.0</td>\n",
       "      <td>2016-12-02 23:53:00</td>\n",
       "      <td>2016-02-13 00:00:00</td>\n",
       "      <td>420.0</td>\n",
       "      <td>113.0</td>\n",
       "      <td>-25401180.0</td>\n",
       "      <td>2016-12-03 00:00:00</td>\n",
       "    </tr>\n",
       "    <tr>\n",
       "      <th>12848</th>\n",
       "      <td>52101691.0</td>\n",
       "      <td>10440.0</td>\n",
       "      <td>7697.0</td>\n",
       "      <td>2016-03-13 00:00:00</td>\n",
       "      <td>407.0</td>\n",
       "      <td>2016-12-03 21:06:00</td>\n",
       "      <td>407.0</td>\n",
       "      <td>2016-12-03 21:06:00</td>\n",
       "      <td>2016-03-13 00:00:00</td>\n",
       "      <td>10440.0</td>\n",
       "      <td>407.0</td>\n",
       "      <td>-22971960.0</td>\n",
       "      <td>2016-12-04 00:00:00</td>\n",
       "    </tr>\n",
       "    <tr>\n",
       "      <th>12858</th>\n",
       "      <td>52102738.0</td>\n",
       "      <td>1320.0</td>\n",
       "      <td>6146.0</td>\n",
       "      <td>2016-03-13 00:01:00</td>\n",
       "      <td>386.0</td>\n",
       "      <td>2016-12-03 23:39:00</td>\n",
       "      <td>427.0</td>\n",
       "      <td>2016-12-03 23:39:00</td>\n",
       "      <td>2016-03-13 00:01:00</td>\n",
       "      <td>1320.0</td>\n",
       "      <td>386.0</td>\n",
       "      <td>-22981080.0</td>\n",
       "      <td>2016-12-04 00:01:00</td>\n",
       "    </tr>\n",
       "    <tr>\n",
       "      <th>17067</th>\n",
       "      <td>52538845.0</td>\n",
       "      <td>900.0</td>\n",
       "      <td>6210.0</td>\n",
       "      <td>2016-01-04 00:10:00</td>\n",
       "      <td>690.0</td>\n",
       "      <td>2016-03-31 23:55:00</td>\n",
       "      <td>638.0</td>\n",
       "      <td>2016-03-31 23:55:00</td>\n",
       "      <td>2016-01-04 00:10:00</td>\n",
       "      <td>900.0</td>\n",
       "      <td>690.0</td>\n",
       "      <td>-7602300.0</td>\n",
       "      <td>2016-04-01 00:10:00</td>\n",
       "    </tr>\n",
       "    <tr>\n",
       "      <th>...</th>\n",
       "      <td>...</td>\n",
       "      <td>...</td>\n",
       "      <td>...</td>\n",
       "      <td>...</td>\n",
       "      <td>...</td>\n",
       "      <td>...</td>\n",
       "      <td>...</td>\n",
       "      <td>...</td>\n",
       "      <td>...</td>\n",
       "      <td>...</td>\n",
       "      <td>...</td>\n",
       "      <td>...</td>\n",
       "      <td>...</td>\n",
       "    </tr>\n",
       "    <tr>\n",
       "      <th>754826</th>\n",
       "      <td>37319058.0</td>\n",
       "      <td>300.0</td>\n",
       "      <td>10918.0</td>\n",
       "      <td>2014-09-13 00:01:00</td>\n",
       "      <td>131.0</td>\n",
       "      <td>2014-12-09 23:56:00</td>\n",
       "      <td>69.0</td>\n",
       "      <td>2014-12-09 23:56:00</td>\n",
       "      <td>2014-09-13 00:01:00</td>\n",
       "      <td>300.0</td>\n",
       "      <td>131.0</td>\n",
       "      <td>-7602900.0</td>\n",
       "      <td>2014-12-10 00:01:00</td>\n",
       "    </tr>\n",
       "    <tr>\n",
       "      <th>754827</th>\n",
       "      <td>37319086.0</td>\n",
       "      <td>840.0</td>\n",
       "      <td>8876.0</td>\n",
       "      <td>2014-09-13 00:12:00</td>\n",
       "      <td>600.0</td>\n",
       "      <td>2014-12-09 23:58:00</td>\n",
       "      <td>154.0</td>\n",
       "      <td>2014-12-09 23:58:00</td>\n",
       "      <td>2014-09-13 00:12:00</td>\n",
       "      <td>840.0</td>\n",
       "      <td>600.0</td>\n",
       "      <td>-7602360.0</td>\n",
       "      <td>2014-12-10 00:12:00</td>\n",
       "    </tr>\n",
       "    <tr>\n",
       "      <th>757653</th>\n",
       "      <td>47762119.0</td>\n",
       "      <td>57600.0</td>\n",
       "      <td>1605.0</td>\n",
       "      <td>2015-09-13 06:07:00</td>\n",
       "      <td>620.0</td>\n",
       "      <td>2015-12-09 14:07:00</td>\n",
       "      <td>597.0</td>\n",
       "      <td>2015-12-09 14:07:00</td>\n",
       "      <td>2015-09-13 06:07:00</td>\n",
       "      <td>57600.0</td>\n",
       "      <td>620.0</td>\n",
       "      <td>-7545600.0</td>\n",
       "      <td>2015-12-10 06:07:00</td>\n",
       "    </tr>\n",
       "    <tr>\n",
       "      <th>757782</th>\n",
       "      <td>47776339.0</td>\n",
       "      <td>20160.0</td>\n",
       "      <td>5220.0</td>\n",
       "      <td>2015-09-13 01:20:00</td>\n",
       "      <td>595.0</td>\n",
       "      <td>2015-12-09 19:44:00</td>\n",
       "      <td>730.0</td>\n",
       "      <td>2015-12-09 19:44:00</td>\n",
       "      <td>2015-09-13 01:20:00</td>\n",
       "      <td>20160.0</td>\n",
       "      <td>595.0</td>\n",
       "      <td>-7583040.0</td>\n",
       "      <td>2015-12-10 01:20:00</td>\n",
       "    </tr>\n",
       "    <tr>\n",
       "      <th>757816</th>\n",
       "      <td>47779826.0</td>\n",
       "      <td>1200.0</td>\n",
       "      <td>421.0</td>\n",
       "      <td>2015-09-13 00:05:00</td>\n",
       "      <td>410.0</td>\n",
       "      <td>2015-12-09 23:45:00</td>\n",
       "      <td>410.0</td>\n",
       "      <td>2015-12-09 23:45:00</td>\n",
       "      <td>2015-09-13 00:05:00</td>\n",
       "      <td>1200.0</td>\n",
       "      <td>410.0</td>\n",
       "      <td>-7602000.0</td>\n",
       "      <td>2015-12-10 00:05:00</td>\n",
       "    </tr>\n",
       "  </tbody>\n",
       "</table>\n",
       "<p>231 rows × 13 columns</p>\n",
       "</div>"
      ],
      "text/plain": [
       "         Rental Id  Duration  Bike Id            End Date  EndStation Id  \\\n",
       "4412    51217356.0   91620.0   2309.0 2016-01-02 18:34:00           41.0   \n",
       "7106    51495675.0     420.0   8336.0 2016-02-13 00:00:00          113.0   \n",
       "12848   52101691.0   10440.0   7697.0 2016-03-13 00:00:00          407.0   \n",
       "12858   52102738.0    1320.0   6146.0 2016-03-13 00:01:00          386.0   \n",
       "17067   52538845.0     900.0   6210.0 2016-01-04 00:10:00          690.0   \n",
       "...            ...       ...      ...                 ...            ...   \n",
       "754826  37319058.0     300.0  10918.0 2014-09-13 00:01:00          131.0   \n",
       "754827  37319086.0     840.0   8876.0 2014-09-13 00:12:00          600.0   \n",
       "757653  47762119.0   57600.0   1605.0 2015-09-13 06:07:00          620.0   \n",
       "757782  47776339.0   20160.0   5220.0 2015-09-13 01:20:00          595.0   \n",
       "757816  47779826.0    1200.0    421.0 2015-09-13 00:05:00          410.0   \n",
       "\n",
       "                Start Date  StartStation Id        Start Date 2  \\\n",
       "4412   2016-01-31 17:07:00            311.0 2016-01-31 17:07:00   \n",
       "7106   2016-12-02 23:53:00            157.0 2016-12-02 23:53:00   \n",
       "12848  2016-12-03 21:06:00            407.0 2016-12-03 21:06:00   \n",
       "12858  2016-12-03 23:39:00            427.0 2016-12-03 23:39:00   \n",
       "17067  2016-03-31 23:55:00            638.0 2016-03-31 23:55:00   \n",
       "...                    ...              ...                 ...   \n",
       "754826 2014-12-09 23:56:00             69.0 2014-12-09 23:56:00   \n",
       "754827 2014-12-09 23:58:00            154.0 2014-12-09 23:58:00   \n",
       "757653 2015-12-09 14:07:00            597.0 2015-12-09 14:07:00   \n",
       "757782 2015-12-09 19:44:00            730.0 2015-12-09 19:44:00   \n",
       "757816 2015-12-09 23:45:00            410.0 2015-12-09 23:45:00   \n",
       "\n",
       "                End Date 2  Duration 2  EndStation Id 2  duration_from_dates  \\\n",
       "4412   2016-01-02 18:34:00     91620.0             41.0           -2500380.0   \n",
       "7106   2016-02-13 00:00:00       420.0            113.0          -25401180.0   \n",
       "12848  2016-03-13 00:00:00     10440.0            407.0          -22971960.0   \n",
       "12858  2016-03-13 00:01:00      1320.0            386.0          -22981080.0   \n",
       "17067  2016-01-04 00:10:00       900.0            690.0           -7602300.0   \n",
       "...                    ...         ...              ...                  ...   \n",
       "754826 2014-09-13 00:01:00       300.0            131.0           -7602900.0   \n",
       "754827 2014-09-13 00:12:00       840.0            600.0           -7602360.0   \n",
       "757653 2015-09-13 06:07:00     57600.0            620.0           -7545600.0   \n",
       "757782 2015-09-13 01:20:00     20160.0            595.0           -7583040.0   \n",
       "757816 2015-09-13 00:05:00      1200.0            410.0           -7602000.0   \n",
       "\n",
       "       End Date from Duration  \n",
       "4412      2016-02-01 18:34:00  \n",
       "7106      2016-12-03 00:00:00  \n",
       "12848     2016-12-04 00:00:00  \n",
       "12858     2016-12-04 00:01:00  \n",
       "17067     2016-04-01 00:10:00  \n",
       "...                       ...  \n",
       "754826    2014-12-10 00:01:00  \n",
       "754827    2014-12-10 00:12:00  \n",
       "757653    2015-12-10 06:07:00  \n",
       "757782    2015-12-10 01:20:00  \n",
       "757816    2015-12-10 00:05:00  \n",
       "\n",
       "[231 rows x 13 columns]"
      ]
     },
     "execution_count": 23,
     "metadata": {},
     "output_type": "execute_result"
    }
   ],
   "source": [
    "df_samp[df_samp['duration_from_dates'] < 0]"
   ]
  },
  {
   "cell_type": "markdown",
   "metadata": {},
   "source": [
    "It seems that in some cases, the End Date (or start date??) is wrong but the times are in fact correct. It seems that timings around midnight or the new year might be some cases. \n",
    "\n",
    "I think a possible approach might be to contrast Duration 2 and duration_from_dates and to pick the one that is more 'plausible' in each case. \n",
    "\n",
    "'plausible' might be measured by how many standard deviations is is away from the mean. Or perhaps, Duration 2 is always the best option"
   ]
  },
  {
   "cell_type": "markdown",
   "metadata": {},
   "source": [
    "End Date is also broken!"
   ]
  },
  {
   "cell_type": "markdown",
   "metadata": {},
   "source": [
    "## Prototyping my date correction Idea\n",
    "\n",
    "//TODO: document this in markdown"
   ]
  },
  {
   "cell_type": "code",
   "execution_count": 25,
   "metadata": {},
   "outputs": [],
   "source": [
    "df_s_clean = df_samp[~df_samp[['End Date 2', 'Duration 2', 'Start Date 2']].isnull().any(axis=1)]"
   ]
  },
  {
   "cell_type": "code",
   "execution_count": 39,
   "metadata": {},
   "outputs": [
    {
     "data": {
      "text/html": [
       "<div>\n",
       "<style scoped>\n",
       "    .dataframe tbody tr th:only-of-type {\n",
       "        vertical-align: middle;\n",
       "    }\n",
       "\n",
       "    .dataframe tbody tr th {\n",
       "        vertical-align: top;\n",
       "    }\n",
       "\n",
       "    .dataframe thead th {\n",
       "        text-align: right;\n",
       "    }\n",
       "</style>\n",
       "<table border=\"1\" class=\"dataframe\">\n",
       "  <thead>\n",
       "    <tr style=\"text-align: right;\">\n",
       "      <th></th>\n",
       "      <th>Rental Id</th>\n",
       "      <th>Duration</th>\n",
       "      <th>Bike Id</th>\n",
       "      <th>End Date</th>\n",
       "      <th>EndStation Id</th>\n",
       "      <th>Start Date</th>\n",
       "      <th>StartStation Id</th>\n",
       "      <th>Start Date 2</th>\n",
       "      <th>End Date 2</th>\n",
       "      <th>Duration 2</th>\n",
       "      <th>EndStation Id 2</th>\n",
       "      <th>duration_from_dates</th>\n",
       "      <th>End Date from Duration</th>\n",
       "    </tr>\n",
       "  </thead>\n",
       "  <tbody>\n",
       "    <tr>\n",
       "      <th>4412</th>\n",
       "      <td>51217356.0</td>\n",
       "      <td>91620.0</td>\n",
       "      <td>2309.0</td>\n",
       "      <td>2016-01-02 18:34:00</td>\n",
       "      <td>41.0</td>\n",
       "      <td>2016-01-31 17:07:00</td>\n",
       "      <td>311.0</td>\n",
       "      <td>2016-01-31 17:07:00</td>\n",
       "      <td>2016-01-02 18:34:00</td>\n",
       "      <td>91620.0</td>\n",
       "      <td>41.0</td>\n",
       "      <td>-2500380.0</td>\n",
       "      <td>2016-02-01 18:34:00</td>\n",
       "    </tr>\n",
       "    <tr>\n",
       "      <th>4568</th>\n",
       "      <td>51230927.0</td>\n",
       "      <td>58140.0</td>\n",
       "      <td>13537.0</td>\n",
       "      <td>2016-02-02 03:59:00</td>\n",
       "      <td>611.0</td>\n",
       "      <td>2016-01-02 11:50:00</td>\n",
       "      <td>606.0</td>\n",
       "      <td>2016-01-02 11:50:00</td>\n",
       "      <td>2016-02-02 03:59:00</td>\n",
       "      <td>58140.0</td>\n",
       "      <td>611.0</td>\n",
       "      <td>2650140.0</td>\n",
       "      <td>2016-01-03 03:59:00</td>\n",
       "    </tr>\n",
       "    <tr>\n",
       "      <th>4713</th>\n",
       "      <td>51245579.0</td>\n",
       "      <td>1140.0</td>\n",
       "      <td>13528.0</td>\n",
       "      <td>2016-02-02 00:16:00</td>\n",
       "      <td>39.0</td>\n",
       "      <td>2016-01-02 23:57:00</td>\n",
       "      <td>788.0</td>\n",
       "      <td>2016-01-02 23:57:00</td>\n",
       "      <td>2016-02-02 00:16:00</td>\n",
       "      <td>1140.0</td>\n",
       "      <td>39.0</td>\n",
       "      <td>2593140.0</td>\n",
       "      <td>2016-01-03 00:16:00</td>\n",
       "    </tr>\n",
       "    <tr>\n",
       "      <th>5857</th>\n",
       "      <td>51370014.0</td>\n",
       "      <td>71580.0</td>\n",
       "      <td>9702.0</td>\n",
       "      <td>2016-08-02 10:35:00</td>\n",
       "      <td>248.0</td>\n",
       "      <td>2016-07-02 14:42:00</td>\n",
       "      <td>231.0</td>\n",
       "      <td>2016-07-02 14:42:00</td>\n",
       "      <td>2016-08-02 10:35:00</td>\n",
       "      <td>71580.0</td>\n",
       "      <td>248.0</td>\n",
       "      <td>2663580.0</td>\n",
       "      <td>2016-07-03 10:35:00</td>\n",
       "    </tr>\n",
       "    <tr>\n",
       "      <th>6241</th>\n",
       "      <td>51409166.0</td>\n",
       "      <td>63780.0</td>\n",
       "      <td>12707.0</td>\n",
       "      <td>2016-10-02 08:14:00</td>\n",
       "      <td>199.0</td>\n",
       "      <td>2016-09-02 14:31:00</td>\n",
       "      <td>231.0</td>\n",
       "      <td>2016-09-02 14:31:00</td>\n",
       "      <td>2016-10-02 08:14:00</td>\n",
       "      <td>63780.0</td>\n",
       "      <td>199.0</td>\n",
       "      <td>2569380.0</td>\n",
       "      <td>2016-09-03 08:14:00</td>\n",
       "    </tr>\n",
       "    <tr>\n",
       "      <th>...</th>\n",
       "      <td>...</td>\n",
       "      <td>...</td>\n",
       "      <td>...</td>\n",
       "      <td>...</td>\n",
       "      <td>...</td>\n",
       "      <td>...</td>\n",
       "      <td>...</td>\n",
       "      <td>...</td>\n",
       "      <td>...</td>\n",
       "      <td>...</td>\n",
       "      <td>...</td>\n",
       "      <td>...</td>\n",
       "      <td>...</td>\n",
       "    </tr>\n",
       "    <tr>\n",
       "      <th>757332</th>\n",
       "      <td>47726981.0</td>\n",
       "      <td>73440.0</td>\n",
       "      <td>6510.0</td>\n",
       "      <td>2015-12-09 08:17:00</td>\n",
       "      <td>284.0</td>\n",
       "      <td>2015-11-09 11:53:00</td>\n",
       "      <td>284.0</td>\n",
       "      <td>2015-11-09 11:53:00</td>\n",
       "      <td>2015-12-09 08:17:00</td>\n",
       "      <td>73440.0</td>\n",
       "      <td>284.0</td>\n",
       "      <td>2579040.0</td>\n",
       "      <td>2015-11-10 08:17:00</td>\n",
       "    </tr>\n",
       "    <tr>\n",
       "      <th>757508</th>\n",
       "      <td>47746693.0</td>\n",
       "      <td>24660.0</td>\n",
       "      <td>6020.0</td>\n",
       "      <td>2015-12-09 03:11:00</td>\n",
       "      <td>4.0</td>\n",
       "      <td>2015-11-09 20:20:00</td>\n",
       "      <td>713.0</td>\n",
       "      <td>2015-11-09 20:20:00</td>\n",
       "      <td>2015-12-09 03:11:00</td>\n",
       "      <td>24660.0</td>\n",
       "      <td>4.0</td>\n",
       "      <td>2530260.0</td>\n",
       "      <td>2015-11-10 03:11:00</td>\n",
       "    </tr>\n",
       "    <tr>\n",
       "      <th>757653</th>\n",
       "      <td>47762119.0</td>\n",
       "      <td>57600.0</td>\n",
       "      <td>1605.0</td>\n",
       "      <td>2015-09-13 06:07:00</td>\n",
       "      <td>620.0</td>\n",
       "      <td>2015-12-09 14:07:00</td>\n",
       "      <td>597.0</td>\n",
       "      <td>2015-12-09 14:07:00</td>\n",
       "      <td>2015-09-13 06:07:00</td>\n",
       "      <td>57600.0</td>\n",
       "      <td>620.0</td>\n",
       "      <td>-7545600.0</td>\n",
       "      <td>2015-12-10 06:07:00</td>\n",
       "    </tr>\n",
       "    <tr>\n",
       "      <th>757782</th>\n",
       "      <td>47776339.0</td>\n",
       "      <td>20160.0</td>\n",
       "      <td>5220.0</td>\n",
       "      <td>2015-09-13 01:20:00</td>\n",
       "      <td>595.0</td>\n",
       "      <td>2015-12-09 19:44:00</td>\n",
       "      <td>730.0</td>\n",
       "      <td>2015-12-09 19:44:00</td>\n",
       "      <td>2015-09-13 01:20:00</td>\n",
       "      <td>20160.0</td>\n",
       "      <td>595.0</td>\n",
       "      <td>-7583040.0</td>\n",
       "      <td>2015-12-10 01:20:00</td>\n",
       "    </tr>\n",
       "    <tr>\n",
       "      <th>757816</th>\n",
       "      <td>47779826.0</td>\n",
       "      <td>1200.0</td>\n",
       "      <td>421.0</td>\n",
       "      <td>2015-09-13 00:05:00</td>\n",
       "      <td>410.0</td>\n",
       "      <td>2015-12-09 23:45:00</td>\n",
       "      <td>410.0</td>\n",
       "      <td>2015-12-09 23:45:00</td>\n",
       "      <td>2015-09-13 00:05:00</td>\n",
       "      <td>1200.0</td>\n",
       "      <td>410.0</td>\n",
       "      <td>-7602000.0</td>\n",
       "      <td>2015-12-10 00:05:00</td>\n",
       "    </tr>\n",
       "  </tbody>\n",
       "</table>\n",
       "<p>142588 rows × 13 columns</p>\n",
       "</div>"
      ],
      "text/plain": [
       "         Rental Id  Duration  Bike Id            End Date  EndStation Id  \\\n",
       "4412    51217356.0   91620.0   2309.0 2016-01-02 18:34:00           41.0   \n",
       "4568    51230927.0   58140.0  13537.0 2016-02-02 03:59:00          611.0   \n",
       "4713    51245579.0    1140.0  13528.0 2016-02-02 00:16:00           39.0   \n",
       "5857    51370014.0   71580.0   9702.0 2016-08-02 10:35:00          248.0   \n",
       "6241    51409166.0   63780.0  12707.0 2016-10-02 08:14:00          199.0   \n",
       "...            ...       ...      ...                 ...            ...   \n",
       "757332  47726981.0   73440.0   6510.0 2015-12-09 08:17:00          284.0   \n",
       "757508  47746693.0   24660.0   6020.0 2015-12-09 03:11:00            4.0   \n",
       "757653  47762119.0   57600.0   1605.0 2015-09-13 06:07:00          620.0   \n",
       "757782  47776339.0   20160.0   5220.0 2015-09-13 01:20:00          595.0   \n",
       "757816  47779826.0    1200.0    421.0 2015-09-13 00:05:00          410.0   \n",
       "\n",
       "                Start Date  StartStation Id        Start Date 2  \\\n",
       "4412   2016-01-31 17:07:00            311.0 2016-01-31 17:07:00   \n",
       "4568   2016-01-02 11:50:00            606.0 2016-01-02 11:50:00   \n",
       "4713   2016-01-02 23:57:00            788.0 2016-01-02 23:57:00   \n",
       "5857   2016-07-02 14:42:00            231.0 2016-07-02 14:42:00   \n",
       "6241   2016-09-02 14:31:00            231.0 2016-09-02 14:31:00   \n",
       "...                    ...              ...                 ...   \n",
       "757332 2015-11-09 11:53:00            284.0 2015-11-09 11:53:00   \n",
       "757508 2015-11-09 20:20:00            713.0 2015-11-09 20:20:00   \n",
       "757653 2015-12-09 14:07:00            597.0 2015-12-09 14:07:00   \n",
       "757782 2015-12-09 19:44:00            730.0 2015-12-09 19:44:00   \n",
       "757816 2015-12-09 23:45:00            410.0 2015-12-09 23:45:00   \n",
       "\n",
       "                End Date 2  Duration 2  EndStation Id 2  duration_from_dates  \\\n",
       "4412   2016-01-02 18:34:00     91620.0             41.0           -2500380.0   \n",
       "4568   2016-02-02 03:59:00     58140.0            611.0            2650140.0   \n",
       "4713   2016-02-02 00:16:00      1140.0             39.0            2593140.0   \n",
       "5857   2016-08-02 10:35:00     71580.0            248.0            2663580.0   \n",
       "6241   2016-10-02 08:14:00     63780.0            199.0            2569380.0   \n",
       "...                    ...         ...              ...                  ...   \n",
       "757332 2015-12-09 08:17:00     73440.0            284.0            2579040.0   \n",
       "757508 2015-12-09 03:11:00     24660.0              4.0            2530260.0   \n",
       "757653 2015-09-13 06:07:00     57600.0            620.0           -7545600.0   \n",
       "757782 2015-09-13 01:20:00     20160.0            595.0           -7583040.0   \n",
       "757816 2015-09-13 00:05:00      1200.0            410.0           -7602000.0   \n",
       "\n",
       "       End Date from Duration  \n",
       "4412      2016-02-01 18:34:00  \n",
       "4568      2016-01-03 03:59:00  \n",
       "4713      2016-01-03 00:16:00  \n",
       "5857      2016-07-03 10:35:00  \n",
       "6241      2016-09-03 08:14:00  \n",
       "...                       ...  \n",
       "757332    2015-11-10 08:17:00  \n",
       "757508    2015-11-10 03:11:00  \n",
       "757653    2015-12-10 06:07:00  \n",
       "757782    2015-12-10 01:20:00  \n",
       "757816    2015-12-10 00:05:00  \n",
       "\n",
       "[142588 rows x 13 columns]"
      ]
     },
     "execution_count": 39,
     "metadata": {},
     "output_type": "execute_result"
    }
   ],
   "source": [
    "df_s_clean[df_s_clean['Duration 2'] != df_s_clean['duration_from_dates']]"
   ]
  },
  {
   "cell_type": "markdown",
   "metadata": {},
   "source": [
    "## Inspecting where the errors occur in time"
   ]
  },
  {
   "cell_type": "code",
   "execution_count": 40,
   "metadata": {},
   "outputs": [],
   "source": [
    "df_samp['suspect_dates'] = abs((df_samp['Duration 2'] - df_samp['duration_from_dates'])/df_samp['Duration 2']) > 1"
   ]
  },
  {
   "cell_type": "code",
   "execution_count": 41,
   "metadata": {},
   "outputs": [
    {
     "data": {
      "text/plain": [
       "<matplotlib.axes._subplots.AxesSubplot at 0x207de08be48>"
      ]
     },
     "execution_count": 41,
     "metadata": {},
     "output_type": "execute_result"
    },
    {
     "data": {
      "image/png": "[encoded data removed]",
      "text/plain": [
       "<Figure size 432x288 with 1 Axes>"
      ]
     },
     "metadata": {
      "needs_background": "light"
     },
     "output_type": "display_data"
    }
   ],
   "source": [
    "df_samp.set_index('Start Date 2')['suspect_dates'].resample('M').sum().plot()"
   ]
  },
  {
   "cell_type": "code",
   "execution_count": 42,
   "metadata": {},
   "outputs": [
    {
     "data": {
      "text/plain": [
       "<matplotlib.axes._subplots.AxesSubplot at 0x207800825c0>"
      ]
     },
     "execution_count": 42,
     "metadata": {},
     "output_type": "execute_result"
    },
    {
     "data": {
      "image/png": "[encoded data removed]",
      "text/plain": [
       "<Figure size 432x288 with 1 Axes>"
      ]
     },
     "metadata": {
      "needs_background": "light"
     },
     "output_type": "display_data"
    }
   ],
   "source": [
    "df_samp.set_index('End Date 2')['suspect_dates'].resample('M').sum().plot(color='r')"
   ]
  },
  {
   "cell_type": "code",
   "execution_count": 43,
   "metadata": {},
   "outputs": [
    {
     "data": {
      "text/plain": [
       "<matplotlib.axes._subplots.AxesSubplot at 0x207801221d0>"
      ]
     },
     "execution_count": 43,
     "metadata": {},
     "output_type": "execute_result"
    },
    {
     "data": {
      "image/png": "[encoded data removed]",
      "text/plain": [
       "<Figure size 432x288 with 1 Axes>"
      ]
     },
     "metadata": {
      "needs_background": "light"
     },
     "output_type": "display_data"
    }
   ],
   "source": [
    "df_samp['suspect_dates'].groupby(df_samp['Start Date 2'].dt.hour).sum().plot()"
   ]
  },
  {
   "cell_type": "code",
   "execution_count": 44,
   "metadata": {},
   "outputs": [
    {
     "data": {
      "text/plain": [
       "<matplotlib.axes._subplots.AxesSubplot at 0x2078017be48>"
      ]
     },
     "execution_count": 44,
     "metadata": {},
     "output_type": "execute_result"
    },
    {
     "data": {
      "image/png": "[encoded data removed]",
      "text/plain": [
       "<Figure size 432x288 with 1 Axes>"
      ]
     },
     "metadata": {
      "needs_background": "light"
     },
     "output_type": "display_data"
    }
   ],
   "source": [
    "df_samp['suspect_dates'].groupby(df_samp['End Date 2'].dt.hour).sum().plot(color='r')"
   ]
  },
  {
   "cell_type": "code",
   "execution_count": 45,
   "metadata": {},
   "outputs": [
    {
     "data": {
      "text/plain": [
       "<matplotlib.axes._subplots.AxesSubplot at 0x207801daeb8>"
      ]
     },
     "execution_count": 45,
     "metadata": {},
     "output_type": "execute_result"
    },
    {
     "data": {
      "image/png": "[encoded data removed]",
      "text/plain": [
       "<Figure size 432x288 with 1 Axes>"
      ]
     },
     "metadata": {
      "needs_background": "light"
     },
     "output_type": "display_data"
    }
   ],
   "source": [
    "df_samp['suspect_dates'].groupby([df_samp['Start Date 2'].dt.hour, df_samp['Start Date 2'].dt.minute]).sum().plot()"
   ]
  },
  {
   "cell_type": "code",
   "execution_count": 46,
   "metadata": {},
   "outputs": [
    {
     "data": {
      "text/plain": [
       "<matplotlib.axes._subplots.AxesSubplot at 0x20780247b38>"
      ]
     },
     "execution_count": 46,
     "metadata": {},
     "output_type": "execute_result"
    },
    {
     "data": {
      "image/png": "[encoded data removed]",
      "text/plain": [
       "<Figure size 432x288 with 1 Axes>"
      ]
     },
     "metadata": {
      "needs_background": "light"
     },
     "output_type": "display_data"
    }
   ],
   "source": [
    "df_samp['suspect_dates'].groupby([df_samp['End Date 2'].dt.hour, df_samp['End Date 2'].dt.minute]).sum().plot(color='r')"
   ]
  },
  {
   "cell_type": "code",
   "execution_count": 47,
   "metadata": {},
   "outputs": [
    {
     "data": {
      "text/plain": [
       "<matplotlib.axes._subplots.AxesSubplot at 0x20780298f98>"
      ]
     },
     "execution_count": 47,
     "metadata": {},
     "output_type": "execute_result"
    },
    {
     "data": {
      "image/png": "[encoded data removed]",
      "text/plain": [
       "<Figure size 432x288 with 1 Axes>"
      ]
     },
     "metadata": {
      "needs_background": "light"
     },
     "output_type": "display_data"
    }
   ],
   "source": [
    "df_samp['suspect_dates'].groupby(df_samp['Start Date 2'].dt.day).sum().plot()"
   ]
  },
  {
   "cell_type": "code",
   "execution_count": 48,
   "metadata": {},
   "outputs": [
    {
     "data": {
      "text/plain": [
       "<matplotlib.axes._subplots.AxesSubplot at 0x20780315860>"
      ]
     },
     "execution_count": 48,
     "metadata": {},
     "output_type": "execute_result"
    },
    {
     "data": {
      "image/png": "[encoded data removed]",
      "text/plain": [
       "<Figure size 432x288 with 1 Axes>"
      ]
     },
     "metadata": {
      "needs_background": "light"
     },
     "output_type": "display_data"
    }
   ],
   "source": [
    "df_samp['suspect_dates'].groupby(df_samp['End Date 2'].dt.day).sum().plot(color='r')"
   ]
  },
  {
   "cell_type": "markdown",
   "metadata": {},
   "source": [
    "This confirms my suspcions that this related to the end of the day and the cross-over to the next day.\n",
    "\n",
    "It appears that start date is reliable and the issue is related to how end-date is calculated. I'm not sure how to reproduce it in all edge cases (e.g. last day of the month) but a typical non-edge-case is:\n",
    "\n",
    "* start date is (Y, M, D) with a time close to the end of the day\n",
    "* end date is expected to be (Y, M, D+1) with hours in the early morning\n",
    "* Given end date is in-fact: (Y, D, M+1) with hours in the early morning\n",
    "\n",
    "It seems that a good fix would be to _assume start date and duration are accurate_ and correct the end-date. "
   ]
  },
  {
   "cell_type": "code",
   "execution_count": 83,
   "metadata": {},
   "outputs": [],
   "source": [
    "def correct_suspect_enddates(df, tolerance=60):\n",
    "    \"\"\" Void function: adds 'End Date 3' column to the dataframe. \n",
    "    \n",
    "    There appears to be an issue where end-dates are inconsistent with duration, especially when a journey passes over midnight. \n",
    "    \n",
    "    This function updates End Date 3 to be start date + duration, if end_date - start_date is more than 'tolerance' seconds 'out' \n",
    "    from the stated duration\n",
    "    \"\"\"\n",
    "    duration_from_dates = (df['End Date 2'] - df['Start Date 2'])/np.timedelta64(1,'s')\n",
    "    diff = duration_from_dates - df['Duration 2']\n",
    "    \n",
    "    # where dif\n",
    "    df['End Date 3']= df['End Date 2'].where(\n",
    "        abs(diff) <= tolerance | df['End Date 2'].isna()\n",
    "        ,df['Start Date 2'] + pd.to_timedelta(df_samp['Duration 2'], unit='s')\n",
    "        ,axis=0\n",
    "    )"
   ]
  },
  {
   "cell_type": "code",
   "execution_count": 86,
   "metadata": {},
   "outputs": [],
   "source": [
    "correct_suspect_enddates(df_samp, tolerance=60)"
   ]
  },
  {
   "cell_type": "code",
   "execution_count": 87,
   "metadata": {},
   "outputs": [
    {
     "data": {
      "text/plain": [
       "<matplotlib.collections.PathCollection at 0x2078a9c6b70>"
      ]
     },
     "execution_count": 87,
     "metadata": {},
     "output_type": "execute_result"
    },
    {
     "data": {
      "image/png": "[encoded data removed]",
      "text/plain": [
       "<Figure size 432x288 with 1 Axes>"
      ]
     },
     "metadata": {
      "needs_background": "light"
     },
     "output_type": "display_data"
    }
   ],
   "source": [
    "df_samp['duration_from_dates_2'] = (df_samp['End Date 3'] - df_samp['Start Date 2'])/np.timedelta64(1,'s')\n",
    "plt.scatter(df_samp['Duration 2'].tolist(), df_samp['duration_from_dates_2'].tolist())"
   ]
  },
  {
   "cell_type": "markdown",
   "metadata": {},
   "source": [
    "## Checking if python script has implemented correctly"
   ]
  },
  {
   "cell_type": "code",
   "execution_count": 177,
   "metadata": {},
   "outputs": [],
   "source": [
    "cleaned_path = '..\\data\\cycle_journeys\\JourneysDataCombined_CLEANSED.csv'"
   ]
  },
  {
   "cell_type": "code",
   "execution_count": 178,
   "metadata": {},
   "outputs": [],
   "source": [
    "p = 0.02\n",
    "random.seed(16)\n",
    "df_cleansed = pd.read_csv(\n",
    "        cleaned_path\n",
    "        ,header=0\n",
    "        ,sep=','\n",
    "        ,skiprows=lambda i: i>0 and random.random() > p\n",
    "        ,parse_dates=['Start Date', 'End Date']\n",
    "        ,infer_datetime_format=True\n",
    ")"
   ]
  },
  {
   "cell_type": "code",
   "execution_count": 179,
   "metadata": {},
   "outputs": [
    {
     "data": {
      "text/html": [
       "<div>\n",
       "<style scoped>\n",
       "    .dataframe tbody tr th:only-of-type {\n",
       "        vertical-align: middle;\n",
       "    }\n",
       "\n",
       "    .dataframe tbody tr th {\n",
       "        vertical-align: top;\n",
       "    }\n",
       "\n",
       "    .dataframe thead th {\n",
       "        text-align: right;\n",
       "    }\n",
       "</style>\n",
       "<table border=\"1\" class=\"dataframe\">\n",
       "  <thead>\n",
       "    <tr style=\"text-align: right;\">\n",
       "      <th></th>\n",
       "      <th>Rental Id</th>\n",
       "      <th>Duration</th>\n",
       "      <th>Bike Id</th>\n",
       "      <th>End Date</th>\n",
       "      <th>EndStation Id</th>\n",
       "      <th>Start Date</th>\n",
       "      <th>StartStation Id</th>\n",
       "    </tr>\n",
       "  </thead>\n",
       "  <tbody>\n",
       "  </tbody>\n",
       "</table>\n",
       "</div>"
      ],
      "text/plain": [
       "Empty DataFrame\n",
       "Columns: [Rental Id, Duration, Bike Id, End Date, EndStation Id, Start Date, StartStation Id]\n",
       "Index: []"
      ]
     },
     "execution_count": 179,
     "metadata": {},
     "output_type": "execute_result"
    }
   ],
   "source": [
    "df_cleansed[df_cleansed['Start Date'] < '2012']"
   ]
  },
  {
   "cell_type": "code",
   "execution_count": 180,
   "metadata": {},
   "outputs": [
    {
     "data": {
      "text/plain": [
       "<matplotlib.collections.PathCollection at 0x25ed1582400>"
      ]
     },
     "execution_count": 180,
     "metadata": {},
     "output_type": "execute_result"
    },
    {
     "data": {
      "image/png": "[encoded data removed]",
      "text/plain": [
       "<Figure size 432x288 with 1 Axes>"
      ]
     },
     "metadata": {
      "needs_background": "light"
     },
     "output_type": "display_data"
    }
   ],
   "source": [
    "df_cleansed['duration_from_dates'] = (df_cleansed['End Date'] - df_cleansed['Start Date'])/np.timedelta64(1,'s')\n",
    "plt.scatter(df_cleansed['Duration'].tolist(), df_cleansed['duration_from_dates'].tolist())"
   ]
  },
  {
   "cell_type": "code",
   "execution_count": 181,
   "metadata": {},
   "outputs": [
    {
     "data": {
      "text/plain": [
       "<matplotlib.axes._subplots.AxesSubplot at 0x25eafd704a8>"
      ]
     },
     "execution_count": 181,
     "metadata": {},
     "output_type": "execute_result"
    },
    {
     "data": {
      "image/png": "[encoded data removed]",
      "text/plain": [
       "<Figure size 432x288 with 1 Axes>"
      ]
     },
     "metadata": {
      "needs_background": "light"
     },
     "output_type": "display_data"
    }
   ],
   "source": [
    "# Plot 'corrected' timeseries of journeys\n",
    "df_cleansed.groupby('Start Date').count()['Rental Id'].plot()"
   ]
  },
  {
   "cell_type": "markdown",
   "metadata": {},
   "source": [
    "**Fixed!**"
   ]
  },
  {
   "cell_type": "markdown",
   "metadata": {},
   "source": [
    "---\n",
    "# Cleanse Stations\n",
    "We will need to cleanse the station ids as certain files have corrupted schemas. \n",
    "\n",
    "But, this could turn-out to be quite a big part of the project! "
   ]
  },
  {
   "cell_type": "code",
   "execution_count": 9,
   "metadata": {},
   "outputs": [],
   "source": [
    "st_lkp = pd.read_csv(stations_path)"
   ]
  },
  {
   "cell_type": "code",
   "execution_count": 10,
   "metadata": {},
   "outputs": [
    {
     "data": {
      "text/html": [
       "<div>\n",
       "<style scoped>\n",
       "    .dataframe tbody tr th:only-of-type {\n",
       "        vertical-align: middle;\n",
       "    }\n",
       "\n",
       "    .dataframe tbody tr th {\n",
       "        vertical-align: top;\n",
       "    }\n",
       "\n",
       "    .dataframe thead th {\n",
       "        text-align: right;\n",
       "    }\n",
       "</style>\n",
       "<table border=\"1\" class=\"dataframe\">\n",
       "  <thead>\n",
       "    <tr style=\"text-align: right;\">\n",
       "      <th></th>\n",
       "      <th>Station ID</th>\n",
       "      <th>Station Name</th>\n",
       "    </tr>\n",
       "  </thead>\n",
       "  <tbody>\n",
       "    <tr>\n",
       "      <th>0</th>\n",
       "      <td>268</td>\n",
       "      <td>Belgrave Road, Victoria</td>\n",
       "    </tr>\n",
       "    <tr>\n",
       "      <th>1</th>\n",
       "      <td>699</td>\n",
       "      <td>Belford House , Haggerston</td>\n",
       "    </tr>\n",
       "    <tr>\n",
       "      <th>2</th>\n",
       "      <td>10624</td>\n",
       "      <td>Strata, Elephant &amp; Castle</td>\n",
       "    </tr>\n",
       "    <tr>\n",
       "      <th>3</th>\n",
       "      <td>519</td>\n",
       "      <td>Teviot Street: Poplar</td>\n",
       "    </tr>\n",
       "    <tr>\n",
       "      <th>4</th>\n",
       "      <td>3479</td>\n",
       "      <td>South Kensington,0</td>\n",
       "    </tr>\n",
       "    <tr>\n",
       "      <th>...</th>\n",
       "      <td>...</td>\n",
       "      <td>...</td>\n",
       "    </tr>\n",
       "    <tr>\n",
       "      <th>2907</th>\n",
       "      <td>3504</td>\n",
       "      <td>Moor Street, Soho</td>\n",
       "    </tr>\n",
       "    <tr>\n",
       "      <th>2908</th>\n",
       "      <td>112</td>\n",
       "      <td>Stonecutter Street, Holborn</td>\n",
       "    </tr>\n",
       "    <tr>\n",
       "      <th>2909</th>\n",
       "      <td>104</td>\n",
       "      <td>Crosswall, Tower</td>\n",
       "    </tr>\n",
       "    <tr>\n",
       "      <th>2910</th>\n",
       "      <td>1207</td>\n",
       "      <td>Covent Garden,1</td>\n",
       "    </tr>\n",
       "    <tr>\n",
       "      <th>2911</th>\n",
       "      <td>215</td>\n",
       "      <td>Moorfields: Moorgate</td>\n",
       "    </tr>\n",
       "  </tbody>\n",
       "</table>\n",
       "<p>2912 rows × 2 columns</p>\n",
       "</div>"
      ],
      "text/plain": [
       "     Station ID                 Station Name\n",
       "0           268      Belgrave Road, Victoria\n",
       "1           699   Belford House , Haggerston\n",
       "2         10624    Strata, Elephant & Castle\n",
       "3           519        Teviot Street: Poplar\n",
       "4          3479           South Kensington,0\n",
       "...         ...                          ...\n",
       "2907       3504            Moor Street, Soho\n",
       "2908        112  Stonecutter Street, Holborn\n",
       "2909        104             Crosswall, Tower\n",
       "2910       1207              Covent Garden,1\n",
       "2911        215         Moorfields: Moorgate\n",
       "\n",
       "[2912 rows x 2 columns]"
      ]
     },
     "execution_count": 10,
     "metadata": {},
     "output_type": "execute_result"
    }
   ],
   "source": [
    "st_lkp"
   ]
  },
  {
   "cell_type": "markdown",
   "metadata": {},
   "source": [
    "## Fetch an authority lookup from the TfL API"
   ]
  },
  {
   "cell_type": "code",
   "execution_count": 31,
   "metadata": {},
   "outputs": [],
   "source": [
    "def read_api_credentials(txt_file):\n",
    "    \"\"\"User is required to save a txt file with two lines: the first being their applicationID\n",
    "    and the second being their application key\"\"\"\n",
    "    global credentials\n",
    "    credentials = {}\n",
    "    with open(txt_file) as f:\n",
    "        credentials['app_id'] = f.readline().rstrip()\n",
    "        credentials['app_key'] = f.readline().rstrip()"
   ]
  },
  {
   "cell_type": "code",
   "execution_count": 35,
   "metadata": {},
   "outputs": [],
   "source": [
    "creds = r'..\\tflStatusLog\\apiCredentials.txt'"
   ]
  },
  {
   "cell_type": "code",
   "execution_count": 36,
   "metadata": {},
   "outputs": [],
   "source": [
    "read_api_credentials(creds)"
   ]
  },
  {
   "cell_type": "code",
   "execution_count": 44,
   "metadata": {},
   "outputs": [],
   "source": [
    "import requests\n",
    "import json"
   ]
  },
  {
   "cell_type": "code",
   "execution_count": 39,
   "metadata": {},
   "outputs": [],
   "source": [
    "response = requests.get('https://api.tfl.gov.uk/bikepoint', params=credentials)"
   ]
  },
  {
   "cell_type": "code",
   "execution_count": 54,
   "metadata": {
    "scrolled": true
   },
   "outputs": [
    {
     "data": {
      "text/plain": [
       "{'$type': 'Tfl.Api.Presentation.Entities.Place, Tfl.Api.Presentation.Entities',\n",
       " 'id': 'BikePoints_1',\n",
       " 'url': '/Place/BikePoints_1',\n",
       " 'commonName': 'River Street , Clerkenwell',\n",
       " 'placeType': 'BikePoint',\n",
       " 'additionalProperties': [{'$type': 'Tfl.Api.Presentation.Entities.AdditionalProperties, Tfl.Api.Presentation.Entities',\n",
       "   'category': 'Description',\n",
       "   'key': 'TerminalName',\n",
       "   'sourceSystemKey': 'BikePoints',\n",
       "   'value': '001023',\n",
       "   'modified': '2020-02-17T11:31:58.243Z'},\n",
       "  {'$type': 'Tfl.Api.Presentation.Entities.AdditionalProperties, Tfl.Api.Presentation.Entities',\n",
       "   'category': 'Description',\n",
       "   'key': 'Installed',\n",
       "   'sourceSystemKey': 'BikePoints',\n",
       "   'value': 'true',\n",
       "   'modified': '2020-02-17T11:31:58.243Z'},\n",
       "  {'$type': 'Tfl.Api.Presentation.Entities.AdditionalProperties, Tfl.Api.Presentation.Entities',\n",
       "   'category': 'Description',\n",
       "   'key': 'Locked',\n",
       "   'sourceSystemKey': 'BikePoints',\n",
       "   'value': 'false',\n",
       "   'modified': '2020-02-17T11:31:58.243Z'},\n",
       "  {'$type': 'Tfl.Api.Presentation.Entities.AdditionalProperties, Tfl.Api.Presentation.Entities',\n",
       "   'category': 'Description',\n",
       "   'key': 'InstallDate',\n",
       "   'sourceSystemKey': 'BikePoints',\n",
       "   'value': '1278947280000',\n",
       "   'modified': '2020-02-17T11:31:58.243Z'},\n",
       "  {'$type': 'Tfl.Api.Presentation.Entities.AdditionalProperties, Tfl.Api.Presentation.Entities',\n",
       "   'category': 'Description',\n",
       "   'key': 'RemovalDate',\n",
       "   'sourceSystemKey': 'BikePoints',\n",
       "   'value': '',\n",
       "   'modified': '2020-02-17T11:31:58.243Z'},\n",
       "  {'$type': 'Tfl.Api.Presentation.Entities.AdditionalProperties, Tfl.Api.Presentation.Entities',\n",
       "   'category': 'Description',\n",
       "   'key': 'Temporary',\n",
       "   'sourceSystemKey': 'BikePoints',\n",
       "   'value': 'false',\n",
       "   'modified': '2020-02-17T11:31:58.243Z'},\n",
       "  {'$type': 'Tfl.Api.Presentation.Entities.AdditionalProperties, Tfl.Api.Presentation.Entities',\n",
       "   'category': 'Description',\n",
       "   'key': 'NbBikes',\n",
       "   'sourceSystemKey': 'BikePoints',\n",
       "   'value': '0',\n",
       "   'modified': '2020-02-17T11:31:58.243Z'},\n",
       "  {'$type': 'Tfl.Api.Presentation.Entities.AdditionalProperties, Tfl.Api.Presentation.Entities',\n",
       "   'category': 'Description',\n",
       "   'key': 'NbEmptyDocks',\n",
       "   'sourceSystemKey': 'BikePoints',\n",
       "   'value': '18',\n",
       "   'modified': '2020-02-17T11:31:58.243Z'},\n",
       "  {'$type': 'Tfl.Api.Presentation.Entities.AdditionalProperties, Tfl.Api.Presentation.Entities',\n",
       "   'category': 'Description',\n",
       "   'key': 'NbDocks',\n",
       "   'sourceSystemKey': 'BikePoints',\n",
       "   'value': '19',\n",
       "   'modified': '2020-02-17T11:31:58.243Z'}],\n",
       " 'children': [],\n",
       " 'childrenUrls': [],\n",
       " 'lat': 51.529163,\n",
       " 'lon': -0.10997}"
      ]
     },
     "execution_count": 54,
     "metadata": {},
     "output_type": "execute_result"
    }
   ],
   "source": [
    "response.json()[0]"
   ]
  },
  {
   "cell_type": "code",
   "execution_count": 52,
   "metadata": {},
   "outputs": [],
   "source": [
    "bp_ids = [int(d['id'][11:]) for d in response.json()]"
   ]
  },
  {
   "cell_type": "code",
   "execution_count": 57,
   "metadata": {},
   "outputs": [],
   "source": [
    "t_names = []\n",
    "\n",
    "for d in response.json():\n",
    "    for prop in d['additionalProperties']:\n",
    "        if prop['key'] == 'TerminalName':\n",
    "            t_names.append(int(prop['value']))"
   ]
  },
  {
   "cell_type": "code",
   "execution_count": 59,
   "metadata": {},
   "outputs": [],
   "source": [
    "commonNames = [d['commonName'] for d in response.json()]"
   ]
  },
  {
   "cell_type": "code",
   "execution_count": 64,
   "metadata": {},
   "outputs": [],
   "source": [
    "bp_dict = dict(zip(bp_ids, commonNames))"
   ]
  },
  {
   "cell_type": "code",
   "execution_count": 65,
   "metadata": {},
   "outputs": [],
   "source": [
    "tn_dict = dict(zip(t_names, commonNames))"
   ]
  },
  {
   "cell_type": "markdown",
   "metadata": {},
   "source": [
    "## Merge our station_lookup with this authority data"
   ]
  },
  {
   "cell_type": "code",
   "execution_count": 111,
   "metadata": {},
   "outputs": [],
   "source": [
    "for i, row in st_lkp.iterrows():\n",
    "    try:\n",
    "        st_id = int(row['Station ID'])\n",
    "    except ValueError:\n",
    "        st_id = np.nan\n",
    "    if st_id in bp_dict:\n",
    "        st_lkp.at[i, 'bikepoint_desc'] = bp_dict[st_id]\n",
    "    else:\n",
    "        st_lkp.at[i, 'bikepoint_desc'] = ''\n",
    "    if st_id in tn_dict:\n",
    "        st_lkp.at[i, 'terminalname_desc'] = tn_dict[st_id]\n",
    "    else:\n",
    "        st_lkp.at[i, 'terminalname_desc'] = ''"
   ]
  },
  {
   "cell_type": "code",
   "execution_count": 112,
   "metadata": {},
   "outputs": [],
   "source": [
    "for i, row in st_lkp.iterrows():\n",
    "    if (row['bikepoint_desc'] != '') & (row['terminalname_desc'] != ''):\n",
    "        if ['bikepoint_desc'] == row['terminalname_desc']:\n",
    "            result = 'Agreement (no ambiguity)'\n",
    "        else:\n",
    "            result = 'Disagreement (ambiguity)'\n",
    "    elif (row['bikepoint_desc']== '') & (row['terminalname_desc'] == ''):\n",
    "        result = 'No result (ambiguity)'\n",
    "    else:\n",
    "        result = 'One result (no ambiguity)'\n",
    "    st_lkp.at[i, 'result'] = result"
   ]
  },
  {
   "cell_type": "code",
   "execution_count": 114,
   "metadata": {},
   "outputs": [
    {
     "data": {
      "text/plain": [
       "One result (no ambiguity)    2793\n",
       "No result (ambiguity)         119\n",
       "Name: result, dtype: int64"
      ]
     },
     "execution_count": 114,
     "metadata": {},
     "output_type": "execute_result"
    }
   ],
   "source": [
    "st_lkp['result'].value_counts()"
   ]
  },
  {
   "cell_type": "code",
   "execution_count": 150,
   "metadata": {},
   "outputs": [],
   "source": [
    "still_no_result = st_lkp[st_lkp['result'] == 'No result (ambiguity)']"
   ]
  },
  {
   "cell_type": "code",
   "execution_count": 121,
   "metadata": {},
   "outputs": [],
   "source": [
    "from itertools import compress"
   ]
  },
  {
   "cell_type": "code",
   "execution_count": null,
   "metadata": {},
   "outputs": [],
   "source": [
    "for st_name in "
   ]
  },
  {
   "cell_type": "code",
   "execution_count": 146,
   "metadata": {},
   "outputs": [],
   "source": [
    "search = \"Oval Way\""
   ]
  },
  {
   "cell_type": "code",
   "execution_count": 147,
   "metadata": {},
   "outputs": [
    {
     "data": {
      "text/plain": [
       "[]"
      ]
     },
     "execution_count": 147,
     "metadata": {},
     "output_type": "execute_result"
    }
   ],
   "source": [
    "list(compress(\n",
    "    commonNames\n",
    "    ,[search in st for st in commonNames]\n",
    "))"
   ]
  },
  {
   "cell_type": "code",
   "execution_count": 148,
   "metadata": {},
   "outputs": [
    {
     "data": {
      "text/plain": [
       "[]"
      ]
     },
     "execution_count": 148,
     "metadata": {},
     "output_type": "execute_result"
    }
   ],
   "source": [
    "list(compress(\n",
    "    bp_ids\n",
    "    ,[search in st for st in commonNames]\n",
    "))"
   ]
  },
  {
   "cell_type": "code",
   "execution_count": 149,
   "metadata": {},
   "outputs": [
    {
     "data": {
      "text/plain": [
       "[]"
      ]
     },
     "execution_count": 149,
     "metadata": {},
     "output_type": "execute_result"
    }
   ],
   "source": [
    "list(compress(\n",
    "    t_names\n",
    "    ,[search in st for st in commonNames]\n",
    "))"
   ]
  },
  {
   "cell_type": "code",
   "execution_count": null,
   "metadata": {},
   "outputs": [],
   "source": []
  }
 ],
 "metadata": {
  "kernelspec": {
   "display_name": "tflProject",
   "language": "python",
   "name": "tflproject"
  },
  "language_info": {
   "codemirror_mode": {
    "name": "ipython",
    "version": 3
   },
   "file_extension": ".py",
   "mimetype": "text/x-python",
   "name": "python",
   "nbconvert_exporter": "python",
   "pygments_lexer": "ipython3",
   "version": "3.6.9"
  }
 },
 "nbformat": 4,
 "nbformat_minor": 4
}
